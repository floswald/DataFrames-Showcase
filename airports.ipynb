{
 "cells": [
  {
   "cell_type": "markdown",
   "metadata": {},
   "source": [
    "# Working with DataFrames.jl v1.5.0\n",
    "\n",
    "# Part 1\n",
    "\n",
    "## Bogumił Kamiński"
   ]
  },
  {
   "cell_type": "markdown",
   "metadata": {},
   "source": [
    "In this part of the tutorial we will use the *Airports2.csv* file that is available for download here: https://www.kaggle.com/flashgordon/usa-airport-dataset. Therefore before starting it please be sure to download it and and have it un-zipped in your working directory.\n",
    "\n",
    "Our objective is to show selected features of v1.5.0 release of the DataFrames.jl package.\n",
    "\n",
    "This tutorial is not meant to be a replacement of a documentation - it just shows some practical application examples. If you want to know all the details of the discussed functionalities please refer to docstrings of the functions we show."
   ]
  },
  {
   "cell_type": "markdown",
   "metadata": {},
   "source": [
    "As usual in Julia, for every project you should have *Project.toml* and *Manifest.toml* files that specify the dependencies. They are bundled with this file in a GitHub gist.\n",
    "\n",
    "If you do not have much experience with project dependencies and want to understand more about managing them I recommend you to read https://bkamins.github.io/julialang/2020/05/18/project-workflow.html.\n",
    "\n",
    "This tutorial was developed under Julia 1.9.0."
   ]
  },
  {
   "cell_type": "markdown",
   "metadata": {},
   "source": [
    "Before we start let us make sure that you have the right versions of packages installed.\n",
    "\n",
    "The output of the command below should be:\n",
    "```\n",
    "  [6e4b80f9] BenchmarkTools v1.3.2\n",
    "  [336ed68f] CSV v0.10.9\n",
    "  [8be319e6] Chain v0.5.0\n",
    "  [a93c6f00] DataFrames v1.5.0\n",
    "  [7073ff75] IJulia v1.24.0\n",
    "  [0f8b85d8] JSON3 v1.12.0\n",
    "  [91a5bcdd] Plots v1.38.5\n",
    "```"
   ]
  },
  {
   "cell_type": "code",
   "execution_count": 1,
   "metadata": {},
   "outputs": [
    {
     "name": "stdout",
     "output_type": "stream",
     "text": [
      "\u001b[32m\u001b[1mStatus\u001b[22m\u001b[39m `~/git/DataFrames-Showcase/Project.toml`\n",
      "  \u001b[90m[6e4b80f9] \u001b[39mBenchmarkTools v1.3.2\n",
      "  \u001b[90m[336ed68f] \u001b[39mCSV v0.10.9\n",
      "  \u001b[90m[8be319e6] \u001b[39mChain v0.5.0\n",
      "  \u001b[90m[a93c6f00] \u001b[39mDataFrames v1.5.0\n",
      "  \u001b[90m[7073ff75] \u001b[39mIJulia v1.24.0\n",
      "  \u001b[90m[0f8b85d8] \u001b[39mJSON3 v1.12.0\n",
      "\u001b[32m⌃\u001b[39m \u001b[90m[91a5bcdd] \u001b[39mPlots v1.38.6\n",
      "\u001b[36m\u001b[1mInfo\u001b[22m\u001b[39m Packages marked with \u001b[32m⌃\u001b[39m have new versions available and may be upgradable.\n"
     ]
    }
   ],
   "source": [
    "] status"
   ]
  },
  {
   "cell_type": "markdown",
   "metadata": {},
   "source": [
    "We start with loading the required packages and reading in the CSV file to a `DataFrame`:"
   ]
  },
  {
   "cell_type": "code",
   "execution_count": 35,
   "metadata": {},
   "outputs": [],
   "source": [
    "using BenchmarkTools\n",
    "using CSV\n",
    "using DataFrames\n",
    "using Dates\n",
    "using Chain\n",
    "using Plots"
   ]
  },
  {
   "cell_type": "code",
   "execution_count": 3,
   "metadata": {
    "scrolled": false
   },
   "outputs": [
    {
     "data": {
      "text/html": [
       "<div><div style = \"float: left;\"><span>3606803×15 DataFrame</span></div><div style = \"float: right;\"><span style = \"font-style: italic;\">3606778 rows omitted</span></div><div style = \"clear: both;\"></div></div><div class = \"data-frame\" style = \"overflow-x: scroll;\"><table class = \"data-frame\" style = \"margin-bottom: 6px;\"><thead><tr class = \"header\"><th class = \"rowNumber\" style = \"font-weight: bold; text-align: right;\">Row</th><th style = \"text-align: left;\">Origin_airport</th><th style = \"text-align: left;\">Destination_airport</th><th style = \"text-align: left;\">Origin_city</th><th style = \"text-align: left;\">Destination_city</th><th style = \"text-align: left;\">Passengers</th><th style = \"text-align: left;\">Seats</th><th style = \"text-align: left;\">Flights</th><th style = \"text-align: left;\">Distance</th><th style = \"text-align: left;\">Fly_date</th><th style = \"text-align: left;\">Origin_population</th><th style = \"text-align: left;\">Destination_population</th><th style = \"text-align: left;\">Org_airport_lat</th><th style = \"text-align: left;\">Org_airport_long</th><th style = \"text-align: left;\">Dest_airport_lat</th><th style = \"text-align: left;\">Dest_airport_long</th></tr><tr class = \"subheader headerLastRow\"><th class = \"rowNumber\" style = \"font-weight: bold; text-align: right;\"></th><th title = \"String3\" style = \"text-align: left;\">String3</th><th title = \"String3\" style = \"text-align: left;\">String3</th><th title = \"String31\" style = \"text-align: left;\">String31</th><th title = \"String31\" style = \"text-align: left;\">String31</th><th title = \"Int64\" style = \"text-align: left;\">Int64</th><th title = \"Int64\" style = \"text-align: left;\">Int64</th><th title = \"Int64\" style = \"text-align: left;\">Int64</th><th title = \"Int64\" style = \"text-align: left;\">Int64</th><th title = \"Date\" style = \"text-align: left;\">Date</th><th title = \"Int64\" style = \"text-align: left;\">Int64</th><th title = \"Int64\" style = \"text-align: left;\">Int64</th><th title = \"Union{Missing, Float64}\" style = \"text-align: left;\">Float64?</th><th title = \"Union{Missing, Float64}\" style = \"text-align: left;\">Float64?</th><th title = \"Union{Missing, Float64}\" style = \"text-align: left;\">Float64?</th><th title = \"Union{Missing, Float64}\" style = \"text-align: left;\">Float64?</th></tr></thead><tbody><tr><td class = \"rowNumber\" style = \"font-weight: bold; text-align: right;\">1</td><td style = \"text-align: left;\">MHK</td><td style = \"text-align: left;\">AMW</td><td style = \"text-align: left;\">Manhattan, KS</td><td style = \"text-align: left;\">Ames, IA</td><td style = \"text-align: right;\">21</td><td style = \"text-align: right;\">30</td><td style = \"text-align: right;\">1</td><td style = \"text-align: right;\">254</td><td style = \"text-align: left;\">2008-10-01</td><td style = \"text-align: right;\">122049</td><td style = \"text-align: right;\">86219</td><td style = \"text-align: right;\">39.141</td><td style = \"text-align: right;\">-96.6708</td><td style = \"font-style: italic; text-align: right;\">missing</td><td style = \"font-style: italic; text-align: right;\">missing</td></tr><tr><td class = \"rowNumber\" style = \"font-weight: bold; text-align: right;\">2</td><td style = \"text-align: left;\">EUG</td><td style = \"text-align: left;\">RDM</td><td style = \"text-align: left;\">Eugene, OR</td><td style = \"text-align: left;\">Bend, OR</td><td style = \"text-align: right;\">41</td><td style = \"text-align: right;\">396</td><td style = \"text-align: right;\">22</td><td style = \"text-align: right;\">103</td><td style = \"text-align: left;\">1990-11-01</td><td style = \"text-align: right;\">284093</td><td style = \"text-align: right;\">76034</td><td style = \"text-align: right;\">44.1246</td><td style = \"text-align: right;\">-123.212</td><td style = \"text-align: right;\">44.2541</td><td style = \"text-align: right;\">-121.15</td></tr><tr><td class = \"rowNumber\" style = \"font-weight: bold; text-align: right;\">3</td><td style = \"text-align: left;\">EUG</td><td style = \"text-align: left;\">RDM</td><td style = \"text-align: left;\">Eugene, OR</td><td style = \"text-align: left;\">Bend, OR</td><td style = \"text-align: right;\">88</td><td style = \"text-align: right;\">342</td><td style = \"text-align: right;\">19</td><td style = \"text-align: right;\">103</td><td style = \"text-align: left;\">1990-12-01</td><td style = \"text-align: right;\">284093</td><td style = \"text-align: right;\">76034</td><td style = \"text-align: right;\">44.1246</td><td style = \"text-align: right;\">-123.212</td><td style = \"text-align: right;\">44.2541</td><td style = \"text-align: right;\">-121.15</td></tr><tr><td class = \"rowNumber\" style = \"font-weight: bold; text-align: right;\">4</td><td style = \"text-align: left;\">EUG</td><td style = \"text-align: left;\">RDM</td><td style = \"text-align: left;\">Eugene, OR</td><td style = \"text-align: left;\">Bend, OR</td><td style = \"text-align: right;\">11</td><td style = \"text-align: right;\">72</td><td style = \"text-align: right;\">4</td><td style = \"text-align: right;\">103</td><td style = \"text-align: left;\">1990-10-01</td><td style = \"text-align: right;\">284093</td><td style = \"text-align: right;\">76034</td><td style = \"text-align: right;\">44.1246</td><td style = \"text-align: right;\">-123.212</td><td style = \"text-align: right;\">44.2541</td><td style = \"text-align: right;\">-121.15</td></tr><tr><td class = \"rowNumber\" style = \"font-weight: bold; text-align: right;\">5</td><td style = \"text-align: left;\">MFR</td><td style = \"text-align: left;\">RDM</td><td style = \"text-align: left;\">Medford, OR</td><td style = \"text-align: left;\">Bend, OR</td><td style = \"text-align: right;\">0</td><td style = \"text-align: right;\">18</td><td style = \"text-align: right;\">1</td><td style = \"text-align: right;\">156</td><td style = \"text-align: left;\">1990-02-01</td><td style = \"text-align: right;\">147300</td><td style = \"text-align: right;\">76034</td><td style = \"text-align: right;\">42.3742</td><td style = \"text-align: right;\">-122.873</td><td style = \"text-align: right;\">44.2541</td><td style = \"text-align: right;\">-121.15</td></tr><tr><td class = \"rowNumber\" style = \"font-weight: bold; text-align: right;\">6</td><td style = \"text-align: left;\">MFR</td><td style = \"text-align: left;\">RDM</td><td style = \"text-align: left;\">Medford, OR</td><td style = \"text-align: left;\">Bend, OR</td><td style = \"text-align: right;\">11</td><td style = \"text-align: right;\">18</td><td style = \"text-align: right;\">1</td><td style = \"text-align: right;\">156</td><td style = \"text-align: left;\">1990-03-01</td><td style = \"text-align: right;\">147300</td><td style = \"text-align: right;\">76034</td><td style = \"text-align: right;\">42.3742</td><td style = \"text-align: right;\">-122.873</td><td style = \"text-align: right;\">44.2541</td><td style = \"text-align: right;\">-121.15</td></tr><tr><td class = \"rowNumber\" style = \"font-weight: bold; text-align: right;\">7</td><td style = \"text-align: left;\">MFR</td><td style = \"text-align: left;\">RDM</td><td style = \"text-align: left;\">Medford, OR</td><td style = \"text-align: left;\">Bend, OR</td><td style = \"text-align: right;\">2</td><td style = \"text-align: right;\">72</td><td style = \"text-align: right;\">4</td><td style = \"text-align: right;\">156</td><td style = \"text-align: left;\">1990-01-01</td><td style = \"text-align: right;\">147300</td><td style = \"text-align: right;\">76034</td><td style = \"text-align: right;\">42.3742</td><td style = \"text-align: right;\">-122.873</td><td style = \"text-align: right;\">44.2541</td><td style = \"text-align: right;\">-121.15</td></tr><tr><td class = \"rowNumber\" style = \"font-weight: bold; text-align: right;\">8</td><td style = \"text-align: left;\">MFR</td><td style = \"text-align: left;\">RDM</td><td style = \"text-align: left;\">Medford, OR</td><td style = \"text-align: left;\">Bend, OR</td><td style = \"text-align: right;\">7</td><td style = \"text-align: right;\">18</td><td style = \"text-align: right;\">1</td><td style = \"text-align: right;\">156</td><td style = \"text-align: left;\">1990-09-01</td><td style = \"text-align: right;\">147300</td><td style = \"text-align: right;\">76034</td><td style = \"text-align: right;\">42.3742</td><td style = \"text-align: right;\">-122.873</td><td style = \"text-align: right;\">44.2541</td><td style = \"text-align: right;\">-121.15</td></tr><tr><td class = \"rowNumber\" style = \"font-weight: bold; text-align: right;\">9</td><td style = \"text-align: left;\">MFR</td><td style = \"text-align: left;\">RDM</td><td style = \"text-align: left;\">Medford, OR</td><td style = \"text-align: left;\">Bend, OR</td><td style = \"text-align: right;\">7</td><td style = \"text-align: right;\">36</td><td style = \"text-align: right;\">2</td><td style = \"text-align: right;\">156</td><td style = \"text-align: left;\">1990-11-01</td><td style = \"text-align: right;\">147300</td><td style = \"text-align: right;\">76034</td><td style = \"text-align: right;\">42.3742</td><td style = \"text-align: right;\">-122.873</td><td style = \"text-align: right;\">44.2541</td><td style = \"text-align: right;\">-121.15</td></tr><tr><td class = \"rowNumber\" style = \"font-weight: bold; text-align: right;\">10</td><td style = \"text-align: left;\">SEA</td><td style = \"text-align: left;\">RDM</td><td style = \"text-align: left;\">Seattle, WA</td><td style = \"text-align: left;\">Bend, OR</td><td style = \"text-align: right;\">8</td><td style = \"text-align: right;\">18</td><td style = \"text-align: right;\">1</td><td style = \"text-align: right;\">228</td><td style = \"text-align: left;\">1990-02-01</td><td style = \"text-align: right;\">5154164</td><td style = \"text-align: right;\">76034</td><td style = \"text-align: right;\">47.449</td><td style = \"text-align: right;\">-122.309</td><td style = \"text-align: right;\">44.2541</td><td style = \"text-align: right;\">-121.15</td></tr><tr><td class = \"rowNumber\" style = \"font-weight: bold; text-align: right;\">11</td><td style = \"text-align: left;\">SEA</td><td style = \"text-align: left;\">RDM</td><td style = \"text-align: left;\">Seattle, WA</td><td style = \"text-align: left;\">Bend, OR</td><td style = \"text-align: right;\">453</td><td style = \"text-align: right;\">3128</td><td style = \"text-align: right;\">23</td><td style = \"text-align: right;\">228</td><td style = \"text-align: left;\">1990-01-01</td><td style = \"text-align: right;\">5154164</td><td style = \"text-align: right;\">76034</td><td style = \"text-align: right;\">47.449</td><td style = \"text-align: right;\">-122.309</td><td style = \"text-align: right;\">44.2541</td><td style = \"text-align: right;\">-121.15</td></tr><tr><td class = \"rowNumber\" style = \"font-weight: bold; text-align: right;\">12</td><td style = \"text-align: left;\">SEA</td><td style = \"text-align: left;\">RDM</td><td style = \"text-align: left;\">Seattle, WA</td><td style = \"text-align: left;\">Bend, OR</td><td style = \"text-align: right;\">784</td><td style = \"text-align: right;\">2720</td><td style = \"text-align: right;\">20</td><td style = \"text-align: right;\">228</td><td style = \"text-align: left;\">1990-02-01</td><td style = \"text-align: right;\">5154164</td><td style = \"text-align: right;\">76034</td><td style = \"text-align: right;\">47.449</td><td style = \"text-align: right;\">-122.309</td><td style = \"text-align: right;\">44.2541</td><td style = \"text-align: right;\">-121.15</td></tr><tr><td class = \"rowNumber\" style = \"font-weight: bold; text-align: right;\">13</td><td style = \"text-align: left;\">SEA</td><td style = \"text-align: left;\">RDM</td><td style = \"text-align: left;\">Seattle, WA</td><td style = \"text-align: left;\">Bend, OR</td><td style = \"text-align: right;\">749</td><td style = \"text-align: right;\">2992</td><td style = \"text-align: right;\">22</td><td style = \"text-align: right;\">228</td><td style = \"text-align: left;\">1990-03-01</td><td style = \"text-align: right;\">5154164</td><td style = \"text-align: right;\">76034</td><td style = \"text-align: right;\">47.449</td><td style = \"text-align: right;\">-122.309</td><td style = \"text-align: right;\">44.2541</td><td style = \"text-align: right;\">-121.15</td></tr><tr><td style = \"text-align: right;\">&vellip;</td><td style = \"text-align: right;\">&vellip;</td><td style = \"text-align: right;\">&vellip;</td><td style = \"text-align: right;\">&vellip;</td><td style = \"text-align: right;\">&vellip;</td><td style = \"text-align: right;\">&vellip;</td><td style = \"text-align: right;\">&vellip;</td><td style = \"text-align: right;\">&vellip;</td><td style = \"text-align: right;\">&vellip;</td><td style = \"text-align: right;\">&vellip;</td><td style = \"text-align: right;\">&vellip;</td><td style = \"text-align: right;\">&vellip;</td><td style = \"text-align: right;\">&vellip;</td><td style = \"text-align: right;\">&vellip;</td><td style = \"text-align: right;\">&vellip;</td><td style = \"text-align: right;\">&vellip;</td></tr><tr><td class = \"rowNumber\" style = \"font-weight: bold; text-align: right;\">3606792</td><td style = \"text-align: left;\">STL</td><td style = \"text-align: left;\">TBN</td><td style = \"text-align: left;\">St. Louis, MO</td><td style = \"text-align: left;\">Fort Leonard Wood, MO</td><td style = \"text-align: right;\">294</td><td style = \"text-align: right;\">1254</td><td style = \"text-align: right;\">66</td><td style = \"text-align: right;\">119</td><td style = \"text-align: left;\">2009-10-01</td><td style = \"text-align: right;\">2828990</td><td style = \"text-align: right;\">46457</td><td style = \"text-align: right;\">38.7487</td><td style = \"text-align: right;\">-90.37</td><td style = \"text-align: right;\">37.7416</td><td style = \"text-align: right;\">-92.1407</td></tr><tr><td class = \"rowNumber\" style = \"font-weight: bold; text-align: right;\">3606793</td><td style = \"text-align: left;\">BRL</td><td style = \"text-align: left;\">TBN</td><td style = \"text-align: left;\">Burlington, IA</td><td style = \"text-align: left;\">Fort Leonard Wood, MO</td><td style = \"text-align: right;\">0</td><td style = \"text-align: right;\">19</td><td style = \"text-align: right;\">1</td><td style = \"text-align: right;\">217</td><td style = \"text-align: left;\">2009-03-01</td><td style = \"text-align: right;\">48412</td><td style = \"text-align: right;\">46457</td><td style = \"text-align: right;\">40.7832</td><td style = \"text-align: right;\">-91.1255</td><td style = \"text-align: right;\">37.7416</td><td style = \"text-align: right;\">-92.1407</td></tr><tr><td class = \"rowNumber\" style = \"font-weight: bold; text-align: right;\">3606794</td><td style = \"text-align: left;\">STL</td><td style = \"text-align: left;\">TBN</td><td style = \"text-align: left;\">St. Louis, MO</td><td style = \"text-align: left;\">Fort Leonard Wood, MO</td><td style = \"text-align: right;\">348</td><td style = \"text-align: right;\">1083</td><td style = \"text-align: right;\">57</td><td style = \"text-align: right;\">119</td><td style = \"text-align: left;\">2009-03-01</td><td style = \"text-align: right;\">2828990</td><td style = \"text-align: right;\">46457</td><td style = \"text-align: right;\">38.7487</td><td style = \"text-align: right;\">-90.37</td><td style = \"text-align: right;\">37.7416</td><td style = \"text-align: right;\">-92.1407</td></tr><tr><td class = \"rowNumber\" style = \"font-weight: bold; text-align: right;\">3606795</td><td style = \"text-align: left;\">STL</td><td style = \"text-align: left;\">TBN</td><td style = \"text-align: left;\">St. Louis, MO</td><td style = \"text-align: left;\">Fort Leonard Wood, MO</td><td style = \"text-align: right;\">286</td><td style = \"text-align: right;\">969</td><td style = \"text-align: right;\">51</td><td style = \"text-align: right;\">119</td><td style = \"text-align: left;\">2009-01-01</td><td style = \"text-align: right;\">2828990</td><td style = \"text-align: right;\">46457</td><td style = \"text-align: right;\">38.7487</td><td style = \"text-align: right;\">-90.37</td><td style = \"text-align: right;\">37.7416</td><td style = \"text-align: right;\">-92.1407</td></tr><tr><td class = \"rowNumber\" style = \"font-weight: bold; text-align: right;\">3606796</td><td style = \"text-align: left;\">STL</td><td style = \"text-align: left;\">TBN</td><td style = \"text-align: left;\">St. Louis, MO</td><td style = \"text-align: left;\">Fort Leonard Wood, MO</td><td style = \"text-align: right;\">153</td><td style = \"text-align: right;\">608</td><td style = \"text-align: right;\">32</td><td style = \"text-align: right;\">119</td><td style = \"text-align: left;\">2009-12-01</td><td style = \"text-align: right;\">2828990</td><td style = \"text-align: right;\">46457</td><td style = \"text-align: right;\">38.7487</td><td style = \"text-align: right;\">-90.37</td><td style = \"text-align: right;\">37.7416</td><td style = \"text-align: right;\">-92.1407</td></tr><tr><td class = \"rowNumber\" style = \"font-weight: bold; text-align: right;\">3606797</td><td style = \"text-align: left;\">STL</td><td style = \"text-align: left;\">TBN</td><td style = \"text-align: left;\">St. Louis, MO</td><td style = \"text-align: left;\">Fort Leonard Wood, MO</td><td style = \"text-align: right;\">331</td><td style = \"text-align: right;\">1330</td><td style = \"text-align: right;\">70</td><td style = \"text-align: right;\">119</td><td style = \"text-align: left;\">2009-05-01</td><td style = \"text-align: right;\">2828990</td><td style = \"text-align: right;\">46457</td><td style = \"text-align: right;\">38.7487</td><td style = \"text-align: right;\">-90.37</td><td style = \"text-align: right;\">37.7416</td><td style = \"text-align: right;\">-92.1407</td></tr><tr><td class = \"rowNumber\" style = \"font-weight: bold; text-align: right;\">3606798</td><td style = \"text-align: left;\">STL</td><td style = \"text-align: left;\">TBN</td><td style = \"text-align: left;\">St. Louis, MO</td><td style = \"text-align: left;\">Fort Leonard Wood, MO</td><td style = \"text-align: right;\">292</td><td style = \"text-align: right;\">1311</td><td style = \"text-align: right;\">69</td><td style = \"text-align: right;\">119</td><td style = \"text-align: left;\">2009-06-01</td><td style = \"text-align: right;\">2828990</td><td style = \"text-align: right;\">46457</td><td style = \"text-align: right;\">38.7487</td><td style = \"text-align: right;\">-90.37</td><td style = \"text-align: right;\">37.7416</td><td style = \"text-align: right;\">-92.1407</td></tr><tr><td class = \"rowNumber\" style = \"font-weight: bold; text-align: right;\">3606799</td><td style = \"text-align: left;\">STL</td><td style = \"text-align: left;\">TBN</td><td style = \"text-align: left;\">St. Louis, MO</td><td style = \"text-align: left;\">Fort Leonard Wood, MO</td><td style = \"text-align: right;\">281</td><td style = \"text-align: right;\">969</td><td style = \"text-align: right;\">51</td><td style = \"text-align: right;\">119</td><td style = \"text-align: left;\">2009-02-01</td><td style = \"text-align: right;\">2828990</td><td style = \"text-align: right;\">46457</td><td style = \"text-align: right;\">38.7487</td><td style = \"text-align: right;\">-90.37</td><td style = \"text-align: right;\">37.7416</td><td style = \"text-align: right;\">-92.1407</td></tr><tr><td class = \"rowNumber\" style = \"font-weight: bold; text-align: right;\">3606800</td><td style = \"text-align: left;\">STL</td><td style = \"text-align: left;\">TBN</td><td style = \"text-align: left;\">St. Louis, MO</td><td style = \"text-align: left;\">Fort Leonard Wood, MO</td><td style = \"text-align: right;\">245</td><td style = \"text-align: right;\">1026</td><td style = \"text-align: right;\">54</td><td style = \"text-align: right;\">119</td><td style = \"text-align: left;\">2009-11-01</td><td style = \"text-align: right;\">2828990</td><td style = \"text-align: right;\">46457</td><td style = \"text-align: right;\">38.7487</td><td style = \"text-align: right;\">-90.37</td><td style = \"text-align: right;\">37.7416</td><td style = \"text-align: right;\">-92.1407</td></tr><tr><td class = \"rowNumber\" style = \"font-weight: bold; text-align: right;\">3606801</td><td style = \"text-align: left;\">STL</td><td style = \"text-align: left;\">TBN</td><td style = \"text-align: left;\">St. Louis, MO</td><td style = \"text-align: left;\">Fort Leonard Wood, MO</td><td style = \"text-align: right;\">363</td><td style = \"text-align: right;\">1273</td><td style = \"text-align: right;\">67</td><td style = \"text-align: right;\">119</td><td style = \"text-align: left;\">2009-08-01</td><td style = \"text-align: right;\">2828990</td><td style = \"text-align: right;\">46457</td><td style = \"text-align: right;\">38.7487</td><td style = \"text-align: right;\">-90.37</td><td style = \"text-align: right;\">37.7416</td><td style = \"text-align: right;\">-92.1407</td></tr><tr><td class = \"rowNumber\" style = \"font-weight: bold; text-align: right;\">3606802</td><td style = \"text-align: left;\">CGI</td><td style = \"text-align: left;\">TBN</td><td style = \"text-align: left;\">Cape Girardeau, MO</td><td style = \"text-align: left;\">Fort Leonard Wood, MO</td><td style = \"text-align: right;\">2</td><td style = \"text-align: right;\">19</td><td style = \"text-align: right;\">1</td><td style = \"text-align: right;\">146</td><td style = \"text-align: left;\">2009-08-01</td><td style = \"text-align: right;\">93712</td><td style = \"text-align: right;\">46457</td><td style = \"text-align: right;\">37.2253</td><td style = \"text-align: right;\">-89.5708</td><td style = \"text-align: right;\">37.7416</td><td style = \"text-align: right;\">-92.1407</td></tr><tr><td class = \"rowNumber\" style = \"font-weight: bold; text-align: right;\">3606803</td><td style = \"text-align: left;\">FWA</td><td style = \"text-align: left;\">OH1</td><td style = \"text-align: left;\">Fort Wayne, IN</td><td style = \"text-align: left;\">Washington Court House, OH</td><td style = \"text-align: right;\">0</td><td style = \"text-align: right;\">0</td><td style = \"text-align: right;\">1</td><td style = \"text-align: right;\">135</td><td style = \"text-align: left;\">2003-09-01</td><td style = \"text-align: right;\">398574</td><td style = \"text-align: right;\">28133</td><td style = \"text-align: right;\">40.9785</td><td style = \"text-align: right;\">-85.1951</td><td style = \"text-align: right;\">missing</td><td style = \"text-align: right;\">missing</td></tr></tbody></table></div>"
      ],
      "text/latex": [
       "\\begin{tabular}{r|cccccc}\n",
       "\t& Origin\\_airport & Destination\\_airport & Origin\\_city & Destination\\_city & Passengers & \\\\\n",
       "\t\\hline\n",
       "\t& String3 & String3 & String31 & String31 & Int64 & \\\\\n",
       "\t\\hline\n",
       "\t1 & MHK & AMW & Manhattan, KS & Ames, IA & 21 & $\\dots$ \\\\\n",
       "\t2 & EUG & RDM & Eugene, OR & Bend, OR & 41 & $\\dots$ \\\\\n",
       "\t3 & EUG & RDM & Eugene, OR & Bend, OR & 88 & $\\dots$ \\\\\n",
       "\t4 & EUG & RDM & Eugene, OR & Bend, OR & 11 & $\\dots$ \\\\\n",
       "\t5 & MFR & RDM & Medford, OR & Bend, OR & 0 & $\\dots$ \\\\\n",
       "\t6 & MFR & RDM & Medford, OR & Bend, OR & 11 & $\\dots$ \\\\\n",
       "\t7 & MFR & RDM & Medford, OR & Bend, OR & 2 & $\\dots$ \\\\\n",
       "\t8 & MFR & RDM & Medford, OR & Bend, OR & 7 & $\\dots$ \\\\\n",
       "\t9 & MFR & RDM & Medford, OR & Bend, OR & 7 & $\\dots$ \\\\\n",
       "\t10 & SEA & RDM & Seattle, WA & Bend, OR & 8 & $\\dots$ \\\\\n",
       "\t11 & SEA & RDM & Seattle, WA & Bend, OR & 453 & $\\dots$ \\\\\n",
       "\t12 & SEA & RDM & Seattle, WA & Bend, OR & 784 & $\\dots$ \\\\\n",
       "\t13 & SEA & RDM & Seattle, WA & Bend, OR & 749 & $\\dots$ \\\\\n",
       "\t14 & SEA & RDM & Seattle, WA & Bend, OR & 11 & $\\dots$ \\\\\n",
       "\t15 & PDX & RDM & Portland, OR & Bend, OR & 349 & $\\dots$ \\\\\n",
       "\t16 & PDX & RDM & Portland, OR & Bend, OR & 1376 & $\\dots$ \\\\\n",
       "\t17 & PDX & RDM & Portland, OR & Bend, OR & 444 & $\\dots$ \\\\\n",
       "\t18 & PDX & RDM & Portland, OR & Bend, OR & 1949 & $\\dots$ \\\\\n",
       "\t19 & PDX & RDM & Portland, OR & Bend, OR & 381 & $\\dots$ \\\\\n",
       "\t20 & PDX & RDM & Portland, OR & Bend, OR & 1559 & $\\dots$ \\\\\n",
       "\t21 & PDX & RDM & Portland, OR & Bend, OR & 1852 & $\\dots$ \\\\\n",
       "\t22 & PDX & RDM & Portland, OR & Bend, OR & 483 & $\\dots$ \\\\\n",
       "\t23 & PDX & RDM & Portland, OR & Bend, OR & 1965 & $\\dots$ \\\\\n",
       "\t24 & PDX & RDM & Portland, OR & Bend, OR & 494 & $\\dots$ \\\\\n",
       "\t25 & PDX & RDM & Portland, OR & Bend, OR & 459 & $\\dots$ \\\\\n",
       "\t26 & PDX & RDM & Portland, OR & Bend, OR & 553 & $\\dots$ \\\\\n",
       "\t27 & PDX & RDM & Portland, OR & Bend, OR & 1887 & $\\dots$ \\\\\n",
       "\t28 & PDX & RDM & Portland, OR & Bend, OR & 773 & $\\dots$ \\\\\n",
       "\t29 & PDX & RDM & Portland, OR & Bend, OR & 1800 & $\\dots$ \\\\\n",
       "\t30 & PDX & RDM & Portland, OR & Bend, OR & 1173 & $\\dots$ \\\\\n",
       "\t$\\dots$ & $\\dots$ & $\\dots$ & $\\dots$ & $\\dots$ & $\\dots$ &  \\\\\n",
       "\\end{tabular}\n"
      ],
      "text/plain": [
       "\u001b[1m3606803×15 DataFrame\u001b[0m\n",
       "\u001b[1m     Row \u001b[0m│\u001b[1m Origin_airport \u001b[0m\u001b[1m Destination_airport \u001b[0m\u001b[1m Origin_city        \u001b[0m\u001b[1m Destinatio\u001b[0m ⋯\n",
       "         │\u001b[90m String3        \u001b[0m\u001b[90m String3             \u001b[0m\u001b[90m String31           \u001b[0m\u001b[90m String31  \u001b[0m ⋯\n",
       "─────────┼──────────────────────────────────────────────────────────────────────\n",
       "       1 │ MHK             AMW                  Manhattan, KS       Ames, IA   ⋯\n",
       "       2 │ EUG             RDM                  Eugene, OR          Bend, OR\n",
       "       3 │ EUG             RDM                  Eugene, OR          Bend, OR\n",
       "       4 │ EUG             RDM                  Eugene, OR          Bend, OR\n",
       "       5 │ MFR             RDM                  Medford, OR         Bend, OR   ⋯\n",
       "       6 │ MFR             RDM                  Medford, OR         Bend, OR\n",
       "       7 │ MFR             RDM                  Medford, OR         Bend, OR\n",
       "       8 │ MFR             RDM                  Medford, OR         Bend, OR\n",
       "       9 │ MFR             RDM                  Medford, OR         Bend, OR   ⋯\n",
       "      10 │ SEA             RDM                  Seattle, WA         Bend, OR\n",
       "      11 │ SEA             RDM                  Seattle, WA         Bend, OR\n",
       "    ⋮    │       ⋮                  ⋮                   ⋮                      ⋱\n",
       " 3606794 │ STL             TBN                  St. Louis, MO       Fort Leona\n",
       " 3606795 │ STL             TBN                  St. Louis, MO       Fort Leona ⋯\n",
       " 3606796 │ STL             TBN                  St. Louis, MO       Fort Leona\n",
       " 3606797 │ STL             TBN                  St. Louis, MO       Fort Leona\n",
       " 3606798 │ STL             TBN                  St. Louis, MO       Fort Leona\n",
       " 3606799 │ STL             TBN                  St. Louis, MO       Fort Leona ⋯\n",
       " 3606800 │ STL             TBN                  St. Louis, MO       Fort Leona\n",
       " 3606801 │ STL             TBN                  St. Louis, MO       Fort Leona\n",
       " 3606802 │ CGI             TBN                  Cape Girardeau, MO  Fort Leona\n",
       " 3606803 │ FWA             OH1                  Fort Wayne, IN      Washington ⋯\n",
       "\u001b[36m                                             12 columns and 3606782 rows omitted\u001b[0m"
      ]
     },
     "execution_count": 3,
     "metadata": {},
     "output_type": "execute_result"
    }
   ],
   "source": [
    "df = CSV.read(\"Airports2.csv\", DataFrame, missingstring=\"NA\")"
   ]
  },
  {
   "cell_type": "markdown",
   "metadata": {},
   "source": [
    "Our data frame contains the following columns:\n",
    "\n",
    "1. `:Origin_airport`: Three letter airport code of the origin airport\n",
    "2. `:Destination_airport`: Three letter airport code of the destination airport\n",
    "3. `:Origin_city`: Origin city name\n",
    "4. `:Destination_city`: Destination city name\n",
    "5. `:Passengers`: Number of passengers transported from origin to destination\n",
    "6. `:Seats`: Number of seats available on flights from origin to destination\n",
    "7. `:Flights`: Number of flights between origin and destination (multiple records for one month, many with flights > 1)\n",
    "8. `:Distance`: Distance (to nearest mile) flown between origin and destination\n",
    "9. `:Fly_date`: The date (yyyymm) of flight\n",
    "10. `:Origin_population`: Origin city's population as reported by US Census\n",
    "11. `:Destination_population`: Destination city's population as reported by US Census\n",
    "\n",
    "Let us first investigate its metadata"
   ]
  },
  {
   "cell_type": "code",
   "execution_count": 4,
   "metadata": {},
   "outputs": [
    {
     "data": {
      "text/plain": [
       "(3606803, 15)"
      ]
     },
     "execution_count": 4,
     "metadata": {},
     "output_type": "execute_result"
    }
   ],
   "source": [
    "size(df)"
   ]
  },
  {
   "cell_type": "code",
   "execution_count": 5,
   "metadata": {},
   "outputs": [
    {
     "data": {
      "text/plain": [
       "3606803"
      ]
     },
     "execution_count": 5,
     "metadata": {},
     "output_type": "execute_result"
    }
   ],
   "source": [
    "nrow(df)"
   ]
  },
  {
   "cell_type": "code",
   "execution_count": 6,
   "metadata": {},
   "outputs": [
    {
     "data": {
      "text/plain": [
       "15"
      ]
     },
     "execution_count": 6,
     "metadata": {},
     "output_type": "execute_result"
    }
   ],
   "source": [
    "ncol(df)"
   ]
  },
  {
   "cell_type": "code",
   "execution_count": 7,
   "metadata": {},
   "outputs": [
    {
     "data": {
      "text/plain": [
       "15-element Vector{String}:\n",
       " \"Origin_airport\"\n",
       " \"Destination_airport\"\n",
       " \"Origin_city\"\n",
       " \"Destination_city\"\n",
       " \"Passengers\"\n",
       " \"Seats\"\n",
       " \"Flights\"\n",
       " \"Distance\"\n",
       " \"Fly_date\"\n",
       " \"Origin_population\"\n",
       " \"Destination_population\"\n",
       " \"Org_airport_lat\"\n",
       " \"Org_airport_long\"\n",
       " \"Dest_airport_lat\"\n",
       " \"Dest_airport_long\""
      ]
     },
     "execution_count": 7,
     "metadata": {},
     "output_type": "execute_result"
    }
   ],
   "source": [
    "names(df)"
   ]
  },
  {
   "cell_type": "code",
   "execution_count": 8,
   "metadata": {},
   "outputs": [
    {
     "data": {
      "text/plain": [
       "15-element Vector{Symbol}:\n",
       " :Origin_airport\n",
       " :Destination_airport\n",
       " :Origin_city\n",
       " :Destination_city\n",
       " :Passengers\n",
       " :Seats\n",
       " :Flights\n",
       " :Distance\n",
       " :Fly_date\n",
       " :Origin_population\n",
       " :Destination_population\n",
       " :Org_airport_lat\n",
       " :Org_airport_long\n",
       " :Dest_airport_lat\n",
       " :Dest_airport_long"
      ]
     },
     "execution_count": 8,
     "metadata": {},
     "output_type": "execute_result"
    }
   ],
   "source": [
    "propertynames(df)"
   ]
  },
  {
   "cell_type": "markdown",
   "metadata": {},
   "source": [
    "An important thing to note is that the `names` function returns a vector of `String`s and the `propertynames` function returns a vector of `Symbol`s.\n",
    "\n",
    "In DataFrames.jl both strings and `Symbol`s can be used for column indexing."
   ]
  },
  {
   "cell_type": "markdown",
   "metadata": {},
   "source": [
    "Let us now get some summary statistics of our data set using the `describe` function:"
   ]
  },
  {
   "cell_type": "code",
   "execution_count": 9,
   "metadata": {},
   "outputs": [
    {
     "data": {
      "text/html": [
       "<div><div style = \"float: left;\"><span>15×7 DataFrame</span></div><div style = \"clear: both;\"></div></div><div class = \"data-frame\" style = \"overflow-x: scroll;\"><table class = \"data-frame\" style = \"margin-bottom: 6px;\"><thead><tr class = \"header\"><th class = \"rowNumber\" style = \"font-weight: bold; text-align: right;\">Row</th><th style = \"text-align: left;\">variable</th><th style = \"text-align: left;\">mean</th><th style = \"text-align: left;\">min</th><th style = \"text-align: left;\">median</th><th style = \"text-align: left;\">max</th><th style = \"text-align: left;\">nmissing</th><th style = \"text-align: left;\">eltype</th></tr><tr class = \"subheader headerLastRow\"><th class = \"rowNumber\" style = \"font-weight: bold; text-align: right;\"></th><th title = \"Symbol\" style = \"text-align: left;\">Symbol</th><th title = \"Union{Nothing, Float64}\" style = \"text-align: left;\">Union…</th><th title = \"Any\" style = \"text-align: left;\">Any</th><th title = \"Any\" style = \"text-align: left;\">Any</th><th title = \"Any\" style = \"text-align: left;\">Any</th><th title = \"Int64\" style = \"text-align: left;\">Int64</th><th title = \"Type\" style = \"text-align: left;\">Type</th></tr></thead><tbody><tr><td class = \"rowNumber\" style = \"font-weight: bold; text-align: right;\">1</td><td style = \"text-align: left;\">Origin_airport</td><td style = \"font-style: italic; text-align: left;\"></td><td style = \"text-align: left;\">1B1</td><td style = \"font-style: italic; text-align: left;\"></td><td style = \"text-align: left;\">ZZV</td><td style = \"text-align: right;\">0</td><td style = \"text-align: left;\">String3</td></tr><tr><td class = \"rowNumber\" style = \"font-weight: bold; text-align: right;\">2</td><td style = \"text-align: left;\">Destination_airport</td><td style = \"font-style: italic; text-align: left;\"></td><td style = \"text-align: left;\">1B1</td><td style = \"font-style: italic; text-align: left;\"></td><td style = \"text-align: left;\">ZZV</td><td style = \"text-align: right;\">0</td><td style = \"text-align: left;\">String3</td></tr><tr><td class = \"rowNumber\" style = \"font-weight: bold; text-align: right;\">3</td><td style = \"text-align: left;\">Origin_city</td><td style = \"font-style: italic; text-align: left;\"></td><td style = \"text-align: left;\">Aberdeen, SD</td><td style = \"font-style: italic; text-align: left;\"></td><td style = \"text-align: left;\">Zanesville, OH</td><td style = \"text-align: right;\">0</td><td style = \"text-align: left;\">String31</td></tr><tr><td class = \"rowNumber\" style = \"font-weight: bold; text-align: right;\">4</td><td style = \"text-align: left;\">Destination_city</td><td style = \"font-style: italic; text-align: left;\"></td><td style = \"text-align: left;\">Aberdeen, SD</td><td style = \"font-style: italic; text-align: left;\"></td><td style = \"text-align: left;\">Zanesville, OH</td><td style = \"text-align: right;\">0</td><td style = \"text-align: left;\">String31</td></tr><tr><td class = \"rowNumber\" style = \"font-weight: bold; text-align: right;\">5</td><td style = \"text-align: left;\">Passengers</td><td style = \"text-align: left;\">2688.91</td><td style = \"text-align: left;\">0</td><td style = \"text-align: left;\">1118.0</td><td style = \"text-align: left;\">89597</td><td style = \"text-align: right;\">0</td><td style = \"text-align: left;\">Int64</td></tr><tr><td class = \"rowNumber\" style = \"font-weight: bold; text-align: right;\">6</td><td style = \"text-align: left;\">Seats</td><td style = \"text-align: left;\">4048.3</td><td style = \"text-align: left;\">0</td><td style = \"text-align: left;\">1998.0</td><td style = \"text-align: left;\">147062</td><td style = \"text-align: right;\">0</td><td style = \"text-align: left;\">Int64</td></tr><tr><td class = \"rowNumber\" style = \"font-weight: bold; text-align: right;\">7</td><td style = \"text-align: left;\">Flights</td><td style = \"text-align: left;\">37.2289</td><td style = \"text-align: left;\">0</td><td style = \"text-align: left;\">25.0</td><td style = \"text-align: left;\">1128</td><td style = \"text-align: right;\">0</td><td style = \"text-align: left;\">Int64</td></tr><tr><td class = \"rowNumber\" style = \"font-weight: bold; text-align: right;\">8</td><td style = \"text-align: left;\">Distance</td><td style = \"text-align: left;\">697.319</td><td style = \"text-align: left;\">0</td><td style = \"text-align: left;\">519.0</td><td style = \"text-align: left;\">5095</td><td style = \"text-align: right;\">0</td><td style = \"text-align: left;\">Int64</td></tr><tr><td class = \"rowNumber\" style = \"font-weight: bold; text-align: right;\">9</td><td style = \"text-align: left;\">Fly_date</td><td style = \"font-style: italic; text-align: left;\"></td><td style = \"text-align: left;\">1990-01-01</td><td style = \"text-align: left;\">2001-11-01</td><td style = \"text-align: left;\">2009-12-01</td><td style = \"text-align: right;\">0</td><td style = \"text-align: left;\">Date</td></tr><tr><td class = \"rowNumber\" style = \"font-weight: bold; text-align: right;\">10</td><td style = \"text-align: left;\">Origin_population</td><td style = \"text-align: left;\">5.8715e6</td><td style = \"text-align: left;\">13005</td><td style = \"text-align: left;\">2.40019e6</td><td style = \"text-align: left;\">38139592</td><td style = \"text-align: right;\">0</td><td style = \"text-align: left;\">Int64</td></tr><tr><td class = \"rowNumber\" style = \"font-weight: bold; text-align: right;\">11</td><td style = \"text-align: left;\">Destination_population</td><td style = \"text-align: left;\">5.89798e6</td><td style = \"text-align: left;\">12887</td><td style = \"text-align: left;\">2.40019e6</td><td style = \"text-align: left;\">38139592</td><td style = \"text-align: right;\">0</td><td style = \"text-align: left;\">Int64</td></tr><tr><td class = \"rowNumber\" style = \"font-weight: bold; text-align: right;\">12</td><td style = \"text-align: left;\">Org_airport_lat</td><td style = \"text-align: left;\">37.7503</td><td style = \"text-align: left;\">19.7214</td><td style = \"text-align: left;\">38.8521</td><td style = \"text-align: left;\">64.8375</td><td style = \"text-align: right;\">6954</td><td style = \"text-align: left;\">Union{Missing, Float64}</td></tr><tr><td class = \"rowNumber\" style = \"font-weight: bold; text-align: right;\">13</td><td style = \"text-align: left;\">Org_airport_long</td><td style = \"text-align: left;\">-91.8618</td><td style = \"text-align: left;\">-157.922</td><td style = \"text-align: left;\">-87.7524</td><td style = \"text-align: left;\">-68.8281</td><td style = \"text-align: right;\">6954</td><td style = \"text-align: left;\">Union{Missing, Float64}</td></tr><tr><td class = \"rowNumber\" style = \"font-weight: bold; text-align: right;\">14</td><td style = \"text-align: left;\">Dest_airport_lat</td><td style = \"text-align: left;\">37.7409</td><td style = \"text-align: left;\">19.7214</td><td style = \"text-align: left;\">38.8521</td><td style = \"text-align: left;\">64.8375</td><td style = \"text-align: right;\">6807</td><td style = \"text-align: left;\">Union{Missing, Float64}</td></tr><tr><td class = \"rowNumber\" style = \"font-weight: bold; text-align: right;\">15</td><td style = \"text-align: left;\">Dest_airport_long</td><td style = \"text-align: left;\">-91.8343</td><td style = \"text-align: left;\">-157.922</td><td style = \"text-align: left;\">-87.7524</td><td style = \"text-align: left;\">-68.8281</td><td style = \"text-align: right;\">6807</td><td style = \"text-align: left;\">Union{Missing, Float64}</td></tr></tbody></table></div>"
      ],
      "text/latex": [
       "\\begin{tabular}{r|ccccccc}\n",
       "\t& variable & mean & min & median & max & nmissing & \\\\\n",
       "\t\\hline\n",
       "\t& Symbol & Union… & Any & Any & Any & Int64 & \\\\\n",
       "\t\\hline\n",
       "\t1 & Origin\\_airport &  & 1B1 &  & ZZV & 0 & $\\dots$ \\\\\n",
       "\t2 & Destination\\_airport &  & 1B1 &  & ZZV & 0 & $\\dots$ \\\\\n",
       "\t3 & Origin\\_city &  & Aberdeen, SD &  & Zanesville, OH & 0 & $\\dots$ \\\\\n",
       "\t4 & Destination\\_city &  & Aberdeen, SD &  & Zanesville, OH & 0 & $\\dots$ \\\\\n",
       "\t5 & Passengers & 2688.91 & 0 & 1118.0 & 89597 & 0 & $\\dots$ \\\\\n",
       "\t6 & Seats & 4048.3 & 0 & 1998.0 & 147062 & 0 & $\\dots$ \\\\\n",
       "\t7 & Flights & 37.2289 & 0 & 25.0 & 1128 & 0 & $\\dots$ \\\\\n",
       "\t8 & Distance & 697.319 & 0 & 519.0 & 5095 & 0 & $\\dots$ \\\\\n",
       "\t9 & Fly\\_date &  & 1990-01-01 & 2001-11-01 & 2009-12-01 & 0 & $\\dots$ \\\\\n",
       "\t10 & Origin\\_population & 5.8715e6 & 13005 & 2.40019e6 & 38139592 & 0 & $\\dots$ \\\\\n",
       "\t11 & Destination\\_population & 5.89798e6 & 12887 & 2.40019e6 & 38139592 & 0 & $\\dots$ \\\\\n",
       "\t12 & Org\\_airport\\_lat & 37.7503 & 19.7214 & 38.8521 & 64.8375 & 6954 & $\\dots$ \\\\\n",
       "\t13 & Org\\_airport\\_long & -91.8618 & -157.922 & -87.7524 & -68.8281 & 6954 & $\\dots$ \\\\\n",
       "\t14 & Dest\\_airport\\_lat & 37.7409 & 19.7214 & 38.8521 & 64.8375 & 6807 & $\\dots$ \\\\\n",
       "\t15 & Dest\\_airport\\_long & -91.8343 & -157.922 & -87.7524 & -68.8281 & 6807 & $\\dots$ \\\\\n",
       "\\end{tabular}\n"
      ],
      "text/plain": [
       "\u001b[1m15×7 DataFrame\u001b[0m\n",
       "\u001b[1m Row \u001b[0m│\u001b[1m variable               \u001b[0m\u001b[1m mean      \u001b[0m\u001b[1m min          \u001b[0m\u001b[1m median     \u001b[0m\u001b[1m max       \u001b[0m ⋯\n",
       "     │\u001b[90m Symbol                 \u001b[0m\u001b[90m Union…    \u001b[0m\u001b[90m Any          \u001b[0m\u001b[90m Any        \u001b[0m\u001b[90m Any       \u001b[0m ⋯\n",
       "─────┼──────────────────────────────────────────────────────────────────────────\n",
       "   1 │ Origin_airport         \u001b[90m           \u001b[0m 1B1          \u001b[90m            \u001b[0m ZZV        ⋯\n",
       "   2 │ Destination_airport    \u001b[90m           \u001b[0m 1B1          \u001b[90m            \u001b[0m ZZV\n",
       "   3 │ Origin_city            \u001b[90m           \u001b[0m Aberdeen, SD \u001b[90m            \u001b[0m Zanesville\n",
       "   4 │ Destination_city       \u001b[90m           \u001b[0m Aberdeen, SD \u001b[90m            \u001b[0m Zanesville\n",
       "   5 │ Passengers              2688.91    0             1118.0      89597      ⋯\n",
       "   6 │ Seats                   4048.3     0             1998.0      147062\n",
       "   7 │ Flights                 37.2289    0             25.0        1128\n",
       "   8 │ Distance                697.319    0             519.0       5095\n",
       "   9 │ Fly_date               \u001b[90m           \u001b[0m 1990-01-01    2001-11-01  2009-12-01 ⋯\n",
       "  10 │ Origin_population       5.8715e6   13005         2.40019e6   38139592\n",
       "  11 │ Destination_population  5.89798e6  12887         2.40019e6   38139592\n",
       "  12 │ Org_airport_lat         37.7503    19.7214       38.8521     64.8375\n",
       "  13 │ Org_airport_long        -91.8618   -157.922      -87.7524    -68.8281   ⋯\n",
       "  14 │ Dest_airport_lat        37.7409    19.7214       38.8521     64.8375\n",
       "  15 │ Dest_airport_long       -91.8343   -157.922      -87.7524    -68.8281\n",
       "\u001b[36m                                                               3 columns omitted\u001b[0m"
      ]
     },
     "execution_count": 9,
     "metadata": {},
     "output_type": "execute_result"
    }
   ],
   "source": [
    "describe(df)"
   ]
  },
  {
   "cell_type": "markdown",
   "metadata": {},
   "source": [
    "In particular note that CSV.jl correctly idenfitied `:Fly_date` column as being a `Date` type."
   ]
  },
  {
   "cell_type": "markdown",
   "metadata": {},
   "source": [
    "When we investigate the summary statistics we note that there are flights that potentially have `0` passengers, `0` seats, or `0` flights.\n",
    "\n",
    "In practice if you get such data it is good to investigate it, as it shows some potential data quality issues.\n",
    "\n",
    "So, let us investigate it:"
   ]
  },
  {
   "cell_type": "code",
   "execution_count": 10,
   "metadata": {},
   "outputs": [
    {
     "data": {
      "text/html": [
       "<div><div style = \"float: left;\"><span>8×5 DataFrame</span></div><div style = \"clear: both;\"></div></div><div class = \"data-frame\" style = \"overflow-x: scroll;\"><table class = \"data-frame\" style = \"margin-bottom: 6px;\"><thead><tr class = \"header\"><th class = \"rowNumber\" style = \"font-weight: bold; text-align: right;\">Row</th><th style = \"text-align: left;\">Passengers</th><th style = \"text-align: left;\">Seats</th><th style = \"text-align: left;\">Flights</th><th style = \"text-align: left;\">nrow</th><th style = \"text-align: left;\">proprow</th></tr><tr class = \"subheader headerLastRow\"><th class = \"rowNumber\" style = \"font-weight: bold; text-align: right;\"></th><th title = \"Bool\" style = \"text-align: left;\">Bool</th><th title = \"Bool\" style = \"text-align: left;\">Bool</th><th title = \"Bool\" style = \"text-align: left;\">Bool</th><th title = \"Int64\" style = \"text-align: left;\">Int64</th><th title = \"Float64\" style = \"text-align: left;\">Float64</th></tr></thead><tbody><tr><td class = \"rowNumber\" style = \"font-weight: bold; text-align: right;\">1</td><td style = \"text-align: right;\">false</td><td style = \"text-align: right;\">false</td><td style = \"text-align: right;\">false</td><td style = \"text-align: right;\">11239</td><td style = \"text-align: right;\">0.00311606</td></tr><tr><td class = \"rowNumber\" style = \"font-weight: bold; text-align: right;\">2</td><td style = \"text-align: right;\">false</td><td style = \"text-align: right;\">false</td><td style = \"text-align: right;\">true</td><td style = \"text-align: right;\">322787</td><td style = \"text-align: right;\">0.0894939</td></tr><tr><td class = \"rowNumber\" style = \"font-weight: bold; text-align: right;\">3</td><td style = \"text-align: right;\">false</td><td style = \"text-align: right;\">true</td><td style = \"text-align: right;\">false</td><td style = \"text-align: right;\">94</td><td style = \"text-align: right;\">2.60619e-5</td></tr><tr><td class = \"rowNumber\" style = \"font-weight: bold; text-align: right;\">4</td><td style = \"text-align: right;\">false</td><td style = \"text-align: right;\">true</td><td style = \"text-align: right;\">true</td><td style = \"text-align: right;\">51772</td><td style = \"text-align: right;\">0.014354</td></tr><tr><td class = \"rowNumber\" style = \"font-weight: bold; text-align: right;\">5</td><td style = \"text-align: right;\">true</td><td style = \"text-align: right;\">false</td><td style = \"text-align: right;\">false</td><td style = \"text-align: right;\">7</td><td style = \"text-align: right;\">1.94078e-6</td></tr><tr><td class = \"rowNumber\" style = \"font-weight: bold; text-align: right;\">6</td><td style = \"text-align: right;\">true</td><td style = \"text-align: right;\">false</td><td style = \"text-align: right;\">true</td><td style = \"text-align: right;\">3</td><td style = \"text-align: right;\">8.31762e-7</td></tr><tr><td class = \"rowNumber\" style = \"font-weight: bold; text-align: right;\">7</td><td style = \"text-align: right;\">true</td><td style = \"text-align: right;\">true</td><td style = \"text-align: right;\">false</td><td style = \"text-align: right;\">56</td><td style = \"text-align: right;\">1.55262e-5</td></tr><tr><td class = \"rowNumber\" style = \"font-weight: bold; text-align: right;\">8</td><td style = \"text-align: right;\">true</td><td style = \"text-align: right;\">true</td><td style = \"text-align: right;\">true</td><td style = \"text-align: right;\">3220845</td><td style = \"text-align: right;\">0.892992</td></tr></tbody></table></div>"
      ],
      "text/latex": [
       "\\begin{tabular}{r|ccccc}\n",
       "\t& Passengers & Seats & Flights & nrow & proprow\\\\\n",
       "\t\\hline\n",
       "\t& Bool & Bool & Bool & Int64 & Float64\\\\\n",
       "\t\\hline\n",
       "\t1 & 0 & 0 & 0 & 11239 & 0.00311606 \\\\\n",
       "\t2 & 0 & 0 & 1 & 322787 & 0.0894939 \\\\\n",
       "\t3 & 0 & 1 & 0 & 94 & 2.60619e-5 \\\\\n",
       "\t4 & 0 & 1 & 1 & 51772 & 0.014354 \\\\\n",
       "\t5 & 1 & 0 & 0 & 7 & 1.94078e-6 \\\\\n",
       "\t6 & 1 & 0 & 1 & 3 & 8.31762e-7 \\\\\n",
       "\t7 & 1 & 1 & 0 & 56 & 1.55262e-5 \\\\\n",
       "\t8 & 1 & 1 & 1 & 3220845 & 0.892992 \\\\\n",
       "\\end{tabular}\n"
      ],
      "text/plain": [
       "\u001b[1m8×5 DataFrame\u001b[0m\n",
       "\u001b[1m Row \u001b[0m│\u001b[1m Passengers \u001b[0m\u001b[1m Seats \u001b[0m\u001b[1m Flights \u001b[0m\u001b[1m nrow    \u001b[0m\u001b[1m proprow    \u001b[0m\n",
       "     │\u001b[90m Bool       \u001b[0m\u001b[90m Bool  \u001b[0m\u001b[90m Bool    \u001b[0m\u001b[90m Int64   \u001b[0m\u001b[90m Float64    \u001b[0m\n",
       "─────┼─────────────────────────────────────────────────\n",
       "   1 │      false  false    false    11239  0.00311606\n",
       "   2 │      false  false     true   322787  0.0894939\n",
       "   3 │      false   true    false       94  2.60619e-5\n",
       "   4 │      false   true     true    51772  0.014354\n",
       "   5 │       true  false    false        7  1.94078e-6\n",
       "   6 │       true  false     true        3  8.31762e-7\n",
       "   7 │       true   true    false       56  1.55262e-5\n",
       "   8 │       true   true     true  3220845  0.892992"
      ]
     },
     "execution_count": 10,
     "metadata": {},
     "output_type": "execute_result"
    }
   ],
   "source": [
    "@chain df begin\n",
    "    select(:Passengers, :Seats, :Flights)\n",
    "    mapcols(ByRow(>(0)), _)  # or: mapcols(ByRow( x -> x > 0 ), _ )\n",
    "    groupby(:, sort=true)\n",
    "    combine(nrow, proprow)\n",
    "end"
   ]
  },
  {
   "cell_type": "markdown",
   "metadata": {},
   "source": [
    "Before interpreting the results let us dissect the code:\n",
    "1. `@chain` is a macro from Chain.jl package, that makes it easy to chain function calls and makes `_` a placeholder for a value returned by a function that was earlier in the chain (you can read about the details here: https://github.com/jkrumbiegel/Chain.jl). Often, we don't even need to placeholder `_` - particularly in a DataFrames.jl context, where we give the result of an operation *as first argument* to the next operation.\n",
    "2. `select` creates a new data frame that keeps only three columns that we are interested in\n",
    "3. the `mapcols` statement applies a function to all columns. In this case, use `ByRow(>(0))`, which is basically the function `>(0)` wrapped in the `ByRow` helper function - which applies a function *to each row*. Notice that we could also have written `ByRow( x -> x > 0 )` if we found that easier to read. This line will transform each column of our data frame to have the `Bool` element type (check the output above!). On each row and for each column we will have a value `true` if an entry is greater than `0` and `false` otherwise. In this way we are able to easily idenfity rows with `0` entries, as they are most interesting for us\n",
    "4. `groupby` groups our data frame by all columns (indicated by the `:` selector) - i.e. we want to group this data by lumping together all the rows where `Passengers` is `true`, `Seats` is `true`, `Flights` is `true`, and so on. Finally we tell DataFrames.jl that the gorups should be sorted.\n",
    "5. finally `combine` just counts the number and proportion of rows in each group"
   ]
  },
  {
   "cell_type": "markdown",
   "metadata": {},
   "source": [
    "Now going to our results - some of entries can be explained, like `0` passenges, but some seats and some flights (I guess it means that just no one took some flight).\n",
    "\n",
    "However cases like some passengers, but `0` seats and `0` flights are probably a mistake in data (we have 7 rows that have this combination of values).\n",
    "\n",
    "Let us try to find these 7 rows in two ways:"
   ]
  },
  {
   "cell_type": "code",
   "execution_count": 11,
   "metadata": {},
   "outputs": [
    {
     "data": {
      "text/html": [
       "<div><div style = \"float: left;\"><span>7×15 DataFrame</span></div><div style = \"clear: both;\"></div></div><div class = \"data-frame\" style = \"overflow-x: scroll;\"><table class = \"data-frame\" style = \"margin-bottom: 6px;\"><thead><tr class = \"header\"><th class = \"rowNumber\" style = \"font-weight: bold; text-align: right;\">Row</th><th style = \"text-align: left;\">Origin_airport</th><th style = \"text-align: left;\">Destination_airport</th><th style = \"text-align: left;\">Origin_city</th><th style = \"text-align: left;\">Destination_city</th><th style = \"text-align: left;\">Passengers</th><th style = \"text-align: left;\">Seats</th><th style = \"text-align: left;\">Flights</th><th style = \"text-align: left;\">Distance</th><th style = \"text-align: left;\">Fly_date</th><th style = \"text-align: left;\">Origin_population</th><th style = \"text-align: left;\">Destination_population</th><th style = \"text-align: left;\">Org_airport_lat</th><th style = \"text-align: left;\">Org_airport_long</th><th style = \"text-align: left;\">Dest_airport_lat</th><th style = \"text-align: left;\">Dest_airport_long</th></tr><tr class = \"subheader headerLastRow\"><th class = \"rowNumber\" style = \"font-weight: bold; text-align: right;\"></th><th title = \"String3\" style = \"text-align: left;\">String3</th><th title = \"String3\" style = \"text-align: left;\">String3</th><th title = \"String31\" style = \"text-align: left;\">String31</th><th title = \"String31\" style = \"text-align: left;\">String31</th><th title = \"Int64\" style = \"text-align: left;\">Int64</th><th title = \"Int64\" style = \"text-align: left;\">Int64</th><th title = \"Int64\" style = \"text-align: left;\">Int64</th><th title = \"Int64\" style = \"text-align: left;\">Int64</th><th title = \"Date\" style = \"text-align: left;\">Date</th><th title = \"Int64\" style = \"text-align: left;\">Int64</th><th title = \"Int64\" style = \"text-align: left;\">Int64</th><th title = \"Union{Missing, Float64}\" style = \"text-align: left;\">Float64?</th><th title = \"Union{Missing, Float64}\" style = \"text-align: left;\">Float64?</th><th title = \"Union{Missing, Float64}\" style = \"text-align: left;\">Float64?</th><th title = \"Union{Missing, Float64}\" style = \"text-align: left;\">Float64?</th></tr></thead><tbody><tr><td class = \"rowNumber\" style = \"font-weight: bold; text-align: right;\">1</td><td style = \"text-align: left;\">ABR</td><td style = \"text-align: left;\">PIR</td><td style = \"text-align: left;\">Aberdeen, SD</td><td style = \"text-align: left;\">Pierre, SD</td><td style = \"text-align: right;\">11</td><td style = \"text-align: right;\">0</td><td style = \"text-align: right;\">0</td><td style = \"text-align: right;\">117</td><td style = \"text-align: left;\">1997-11-01</td><td style = \"text-align: right;\">39903</td><td style = \"text-align: right;\">18289</td><td style = \"text-align: right;\">45.4491</td><td style = \"text-align: right;\">-98.4218</td><td style = \"text-align: right;\">44.3827</td><td style = \"text-align: right;\">-100.286</td></tr><tr><td class = \"rowNumber\" style = \"font-weight: bold; text-align: right;\">2</td><td style = \"text-align: left;\">IAD</td><td style = \"text-align: left;\">BKW</td><td style = \"text-align: left;\">Washington, DC</td><td style = \"text-align: left;\">Beckley, WV</td><td style = \"text-align: right;\">2</td><td style = \"text-align: right;\">0</td><td style = \"text-align: right;\">0</td><td style = \"text-align: right;\">215</td><td style = \"text-align: left;\">2002-12-01</td><td style = \"text-align: right;\">10029142</td><td style = \"text-align: right;\">78851</td><td style = \"text-align: right;\">38.9445</td><td style = \"text-align: right;\">-77.4558</td><td style = \"text-align: right;\">37.7873</td><td style = \"text-align: right;\">-81.1242</td></tr><tr><td class = \"rowNumber\" style = \"font-weight: bold; text-align: right;\">3</td><td style = \"text-align: left;\">IAD</td><td style = \"text-align: left;\">BKW</td><td style = \"text-align: left;\">Washington, DC</td><td style = \"text-align: left;\">Beckley, WV</td><td style = \"text-align: right;\">1</td><td style = \"text-align: right;\">0</td><td style = \"text-align: right;\">0</td><td style = \"text-align: right;\">215</td><td style = \"text-align: left;\">2003-02-01</td><td style = \"text-align: right;\">10172752</td><td style = \"text-align: right;\">78587</td><td style = \"text-align: right;\">38.9445</td><td style = \"text-align: right;\">-77.4558</td><td style = \"text-align: right;\">37.7873</td><td style = \"text-align: right;\">-81.1242</td></tr><tr><td class = \"rowNumber\" style = \"font-weight: bold; text-align: right;\">4</td><td style = \"text-align: left;\">IAD</td><td style = \"text-align: left;\">BKW</td><td style = \"text-align: left;\">Washington, DC</td><td style = \"text-align: left;\">Beckley, WV</td><td style = \"text-align: right;\">2</td><td style = \"text-align: right;\">0</td><td style = \"text-align: right;\">0</td><td style = \"text-align: right;\">215</td><td style = \"text-align: left;\">2003-03-01</td><td style = \"text-align: right;\">10172752</td><td style = \"text-align: right;\">78587</td><td style = \"text-align: right;\">38.9445</td><td style = \"text-align: right;\">-77.4558</td><td style = \"text-align: right;\">37.7873</td><td style = \"text-align: right;\">-81.1242</td></tr><tr><td class = \"rowNumber\" style = \"font-weight: bold; text-align: right;\">5</td><td style = \"text-align: left;\">BOS</td><td style = \"text-align: left;\">LAS</td><td style = \"text-align: left;\">Boston, MA</td><td style = \"text-align: left;\">Las Vegas, NV</td><td style = \"text-align: right;\">9</td><td style = \"text-align: right;\">0</td><td style = \"text-align: right;\">0</td><td style = \"text-align: right;\">2381</td><td style = \"text-align: left;\">1993-06-01</td><td style = \"text-align: right;\">8260582</td><td style = \"text-align: right;\">877917</td><td style = \"text-align: right;\">42.3643</td><td style = \"text-align: right;\">-71.0052</td><td style = \"text-align: right;\">36.0801</td><td style = \"text-align: right;\">-115.152</td></tr><tr><td class = \"rowNumber\" style = \"font-weight: bold; text-align: right;\">6</td><td style = \"text-align: left;\">BKW</td><td style = \"text-align: left;\">IAD</td><td style = \"text-align: left;\">Beckley, WV</td><td style = \"text-align: left;\">Washington, DC</td><td style = \"text-align: right;\">7</td><td style = \"text-align: right;\">0</td><td style = \"text-align: right;\">0</td><td style = \"text-align: right;\">215</td><td style = \"text-align: left;\">2002-12-01</td><td style = \"text-align: right;\">78851</td><td style = \"text-align: right;\">10029142</td><td style = \"text-align: right;\">37.7873</td><td style = \"text-align: right;\">-81.1242</td><td style = \"text-align: right;\">38.9445</td><td style = \"text-align: right;\">-77.4558</td></tr><tr><td class = \"rowNumber\" style = \"font-weight: bold; text-align: right;\">7</td><td style = \"text-align: left;\">CMI</td><td style = \"text-align: left;\">BMI</td><td style = \"text-align: left;\">Champaign, IL</td><td style = \"text-align: left;\">Bloomington, IL</td><td style = \"text-align: right;\">6</td><td style = \"text-align: right;\">0</td><td style = \"text-align: right;\">0</td><td style = \"text-align: right;\">46</td><td style = \"text-align: left;\">1997-11-01</td><td style = \"text-align: right;\">201107</td><td style = \"text-align: right;\">141699</td><td style = \"text-align: right;\">40.0392</td><td style = \"text-align: right;\">-88.2781</td><td style = \"text-align: right;\">40.4771</td><td style = \"text-align: right;\">-88.9159</td></tr></tbody></table></div>"
      ],
      "text/latex": [
       "\\begin{tabular}{r|cccccc}\n",
       "\t& Origin\\_airport & Destination\\_airport & Origin\\_city & Destination\\_city & Passengers & \\\\\n",
       "\t\\hline\n",
       "\t& String3 & String3 & String31 & String31 & Int64 & \\\\\n",
       "\t\\hline\n",
       "\t1 & ABR & PIR & Aberdeen, SD & Pierre, SD & 11 & $\\dots$ \\\\\n",
       "\t2 & IAD & BKW & Washington, DC & Beckley, WV & 2 & $\\dots$ \\\\\n",
       "\t3 & IAD & BKW & Washington, DC & Beckley, WV & 1 & $\\dots$ \\\\\n",
       "\t4 & IAD & BKW & Washington, DC & Beckley, WV & 2 & $\\dots$ \\\\\n",
       "\t5 & BOS & LAS & Boston, MA & Las Vegas, NV & 9 & $\\dots$ \\\\\n",
       "\t6 & BKW & IAD & Beckley, WV & Washington, DC & 7 & $\\dots$ \\\\\n",
       "\t7 & CMI & BMI & Champaign, IL & Bloomington, IL & 6 & $\\dots$ \\\\\n",
       "\\end{tabular}\n"
      ],
      "text/plain": [
       "\u001b[1m7×15 DataFrame\u001b[0m\n",
       "\u001b[1m Row \u001b[0m│\u001b[1m Origin_airport \u001b[0m\u001b[1m Destination_airport \u001b[0m\u001b[1m Origin_city    \u001b[0m\u001b[1m Destination_city \u001b[0m\u001b[1m \u001b[0m ⋯\n",
       "     │\u001b[90m String3        \u001b[0m\u001b[90m String3             \u001b[0m\u001b[90m String31       \u001b[0m\u001b[90m String31         \u001b[0m\u001b[90m \u001b[0m ⋯\n",
       "─────┼──────────────────────────────────────────────────────────────────────────\n",
       "   1 │ ABR             PIR                  Aberdeen, SD    Pierre, SD         ⋯\n",
       "   2 │ IAD             BKW                  Washington, DC  Beckley, WV\n",
       "   3 │ IAD             BKW                  Washington, DC  Beckley, WV\n",
       "   4 │ IAD             BKW                  Washington, DC  Beckley, WV\n",
       "   5 │ BOS             LAS                  Boston, MA      Las Vegas, NV      ⋯\n",
       "   6 │ BKW             IAD                  Beckley, WV     Washington, DC\n",
       "   7 │ CMI             BMI                  Champaign, IL   Bloomington, IL\n",
       "\u001b[36m                                                              11 columns omitted\u001b[0m"
      ]
     },
     "execution_count": 11,
     "metadata": {},
     "output_type": "execute_result"
    }
   ],
   "source": [
    "filter(row -> row.Passengers > 0 && row.Seats == 0 && row.Flights == 0, df)"
   ]
  },
  {
   "cell_type": "code",
   "execution_count": 12,
   "metadata": {},
   "outputs": [
    {
     "data": {
      "text/html": [
       "<div><div style = \"float: left;\"><span>7×15 DataFrame</span></div><div style = \"clear: both;\"></div></div><div class = \"data-frame\" style = \"overflow-x: scroll;\"><table class = \"data-frame\" style = \"margin-bottom: 6px;\"><thead><tr class = \"header\"><th class = \"rowNumber\" style = \"font-weight: bold; text-align: right;\">Row</th><th style = \"text-align: left;\">Origin_airport</th><th style = \"text-align: left;\">Destination_airport</th><th style = \"text-align: left;\">Origin_city</th><th style = \"text-align: left;\">Destination_city</th><th style = \"text-align: left;\">Passengers</th><th style = \"text-align: left;\">Seats</th><th style = \"text-align: left;\">Flights</th><th style = \"text-align: left;\">Distance</th><th style = \"text-align: left;\">Fly_date</th><th style = \"text-align: left;\">Origin_population</th><th style = \"text-align: left;\">Destination_population</th><th style = \"text-align: left;\">Org_airport_lat</th><th style = \"text-align: left;\">Org_airport_long</th><th style = \"text-align: left;\">Dest_airport_lat</th><th style = \"text-align: left;\">Dest_airport_long</th></tr><tr class = \"subheader headerLastRow\"><th class = \"rowNumber\" style = \"font-weight: bold; text-align: right;\"></th><th title = \"String3\" style = \"text-align: left;\">String3</th><th title = \"String3\" style = \"text-align: left;\">String3</th><th title = \"String31\" style = \"text-align: left;\">String31</th><th title = \"String31\" style = \"text-align: left;\">String31</th><th title = \"Int64\" style = \"text-align: left;\">Int64</th><th title = \"Int64\" style = \"text-align: left;\">Int64</th><th title = \"Int64\" style = \"text-align: left;\">Int64</th><th title = \"Int64\" style = \"text-align: left;\">Int64</th><th title = \"Date\" style = \"text-align: left;\">Date</th><th title = \"Int64\" style = \"text-align: left;\">Int64</th><th title = \"Int64\" style = \"text-align: left;\">Int64</th><th title = \"Union{Missing, Float64}\" style = \"text-align: left;\">Float64?</th><th title = \"Union{Missing, Float64}\" style = \"text-align: left;\">Float64?</th><th title = \"Union{Missing, Float64}\" style = \"text-align: left;\">Float64?</th><th title = \"Union{Missing, Float64}\" style = \"text-align: left;\">Float64?</th></tr></thead><tbody><tr><td class = \"rowNumber\" style = \"font-weight: bold; text-align: right;\">1</td><td style = \"text-align: left;\">ABR</td><td style = \"text-align: left;\">PIR</td><td style = \"text-align: left;\">Aberdeen, SD</td><td style = \"text-align: left;\">Pierre, SD</td><td style = \"text-align: right;\">11</td><td style = \"text-align: right;\">0</td><td style = \"text-align: right;\">0</td><td style = \"text-align: right;\">117</td><td style = \"text-align: left;\">1997-11-01</td><td style = \"text-align: right;\">39903</td><td style = \"text-align: right;\">18289</td><td style = \"text-align: right;\">45.4491</td><td style = \"text-align: right;\">-98.4218</td><td style = \"text-align: right;\">44.3827</td><td style = \"text-align: right;\">-100.286</td></tr><tr><td class = \"rowNumber\" style = \"font-weight: bold; text-align: right;\">2</td><td style = \"text-align: left;\">IAD</td><td style = \"text-align: left;\">BKW</td><td style = \"text-align: left;\">Washington, DC</td><td style = \"text-align: left;\">Beckley, WV</td><td style = \"text-align: right;\">2</td><td style = \"text-align: right;\">0</td><td style = \"text-align: right;\">0</td><td style = \"text-align: right;\">215</td><td style = \"text-align: left;\">2002-12-01</td><td style = \"text-align: right;\">10029142</td><td style = \"text-align: right;\">78851</td><td style = \"text-align: right;\">38.9445</td><td style = \"text-align: right;\">-77.4558</td><td style = \"text-align: right;\">37.7873</td><td style = \"text-align: right;\">-81.1242</td></tr><tr><td class = \"rowNumber\" style = \"font-weight: bold; text-align: right;\">3</td><td style = \"text-align: left;\">IAD</td><td style = \"text-align: left;\">BKW</td><td style = \"text-align: left;\">Washington, DC</td><td style = \"text-align: left;\">Beckley, WV</td><td style = \"text-align: right;\">1</td><td style = \"text-align: right;\">0</td><td style = \"text-align: right;\">0</td><td style = \"text-align: right;\">215</td><td style = \"text-align: left;\">2003-02-01</td><td style = \"text-align: right;\">10172752</td><td style = \"text-align: right;\">78587</td><td style = \"text-align: right;\">38.9445</td><td style = \"text-align: right;\">-77.4558</td><td style = \"text-align: right;\">37.7873</td><td style = \"text-align: right;\">-81.1242</td></tr><tr><td class = \"rowNumber\" style = \"font-weight: bold; text-align: right;\">4</td><td style = \"text-align: left;\">IAD</td><td style = \"text-align: left;\">BKW</td><td style = \"text-align: left;\">Washington, DC</td><td style = \"text-align: left;\">Beckley, WV</td><td style = \"text-align: right;\">2</td><td style = \"text-align: right;\">0</td><td style = \"text-align: right;\">0</td><td style = \"text-align: right;\">215</td><td style = \"text-align: left;\">2003-03-01</td><td style = \"text-align: right;\">10172752</td><td style = \"text-align: right;\">78587</td><td style = \"text-align: right;\">38.9445</td><td style = \"text-align: right;\">-77.4558</td><td style = \"text-align: right;\">37.7873</td><td style = \"text-align: right;\">-81.1242</td></tr><tr><td class = \"rowNumber\" style = \"font-weight: bold; text-align: right;\">5</td><td style = \"text-align: left;\">BOS</td><td style = \"text-align: left;\">LAS</td><td style = \"text-align: left;\">Boston, MA</td><td style = \"text-align: left;\">Las Vegas, NV</td><td style = \"text-align: right;\">9</td><td style = \"text-align: right;\">0</td><td style = \"text-align: right;\">0</td><td style = \"text-align: right;\">2381</td><td style = \"text-align: left;\">1993-06-01</td><td style = \"text-align: right;\">8260582</td><td style = \"text-align: right;\">877917</td><td style = \"text-align: right;\">42.3643</td><td style = \"text-align: right;\">-71.0052</td><td style = \"text-align: right;\">36.0801</td><td style = \"text-align: right;\">-115.152</td></tr><tr><td class = \"rowNumber\" style = \"font-weight: bold; text-align: right;\">6</td><td style = \"text-align: left;\">BKW</td><td style = \"text-align: left;\">IAD</td><td style = \"text-align: left;\">Beckley, WV</td><td style = \"text-align: left;\">Washington, DC</td><td style = \"text-align: right;\">7</td><td style = \"text-align: right;\">0</td><td style = \"text-align: right;\">0</td><td style = \"text-align: right;\">215</td><td style = \"text-align: left;\">2002-12-01</td><td style = \"text-align: right;\">78851</td><td style = \"text-align: right;\">10029142</td><td style = \"text-align: right;\">37.7873</td><td style = \"text-align: right;\">-81.1242</td><td style = \"text-align: right;\">38.9445</td><td style = \"text-align: right;\">-77.4558</td></tr><tr><td class = \"rowNumber\" style = \"font-weight: bold; text-align: right;\">7</td><td style = \"text-align: left;\">CMI</td><td style = \"text-align: left;\">BMI</td><td style = \"text-align: left;\">Champaign, IL</td><td style = \"text-align: left;\">Bloomington, IL</td><td style = \"text-align: right;\">6</td><td style = \"text-align: right;\">0</td><td style = \"text-align: right;\">0</td><td style = \"text-align: right;\">46</td><td style = \"text-align: left;\">1997-11-01</td><td style = \"text-align: right;\">201107</td><td style = \"text-align: right;\">141699</td><td style = \"text-align: right;\">40.0392</td><td style = \"text-align: right;\">-88.2781</td><td style = \"text-align: right;\">40.4771</td><td style = \"text-align: right;\">-88.9159</td></tr></tbody></table></div>"
      ],
      "text/latex": [
       "\\begin{tabular}{r|cccccc}\n",
       "\t& Origin\\_airport & Destination\\_airport & Origin\\_city & Destination\\_city & Passengers & \\\\\n",
       "\t\\hline\n",
       "\t& String3 & String3 & String31 & String31 & Int64 & \\\\\n",
       "\t\\hline\n",
       "\t1 & ABR & PIR & Aberdeen, SD & Pierre, SD & 11 & $\\dots$ \\\\\n",
       "\t2 & IAD & BKW & Washington, DC & Beckley, WV & 2 & $\\dots$ \\\\\n",
       "\t3 & IAD & BKW & Washington, DC & Beckley, WV & 1 & $\\dots$ \\\\\n",
       "\t4 & IAD & BKW & Washington, DC & Beckley, WV & 2 & $\\dots$ \\\\\n",
       "\t5 & BOS & LAS & Boston, MA & Las Vegas, NV & 9 & $\\dots$ \\\\\n",
       "\t6 & BKW & IAD & Beckley, WV & Washington, DC & 7 & $\\dots$ \\\\\n",
       "\t7 & CMI & BMI & Champaign, IL & Bloomington, IL & 6 & $\\dots$ \\\\\n",
       "\\end{tabular}\n"
      ],
      "text/plain": [
       "\u001b[1m7×15 DataFrame\u001b[0m\n",
       "\u001b[1m Row \u001b[0m│\u001b[1m Origin_airport \u001b[0m\u001b[1m Destination_airport \u001b[0m\u001b[1m Origin_city    \u001b[0m\u001b[1m Destination_city \u001b[0m\u001b[1m \u001b[0m ⋯\n",
       "     │\u001b[90m String3        \u001b[0m\u001b[90m String3             \u001b[0m\u001b[90m String31       \u001b[0m\u001b[90m String31         \u001b[0m\u001b[90m \u001b[0m ⋯\n",
       "─────┼──────────────────────────────────────────────────────────────────────────\n",
       "   1 │ ABR             PIR                  Aberdeen, SD    Pierre, SD         ⋯\n",
       "   2 │ IAD             BKW                  Washington, DC  Beckley, WV\n",
       "   3 │ IAD             BKW                  Washington, DC  Beckley, WV\n",
       "   4 │ IAD             BKW                  Washington, DC  Beckley, WV\n",
       "   5 │ BOS             LAS                  Boston, MA      Las Vegas, NV      ⋯\n",
       "   6 │ BKW             IAD                  Beckley, WV     Washington, DC\n",
       "   7 │ CMI             BMI                  Champaign, IL   Bloomington, IL\n",
       "\u001b[36m                                                              11 columns omitted\u001b[0m"
      ]
     },
     "execution_count": 12,
     "metadata": {},
     "output_type": "execute_result"
    }
   ],
   "source": [
    "subset(df, :Passengers => ByRow(>(0)), :Seats => ByRow(==(0)), :Flights  => ByRow(==(0)))"
   ]
  },
  {
   "cell_type": "markdown",
   "metadata": {},
   "source": [
    "Let us compare the timing of both options:"
   ]
  },
  {
   "cell_type": "code",
   "execution_count": 13,
   "metadata": {},
   "outputs": [
    {
     "name": "stdout",
     "output_type": "stream",
     "text": [
      "  1.285620 seconds (18.31 M allocations: 293.122 MiB, 53.01% gc time, 4.19% compilation time)\n"
     ]
    }
   ],
   "source": [
    "@time filter(row -> row.Passengers > 0 && row.Seats == 0 && row.Flights == 0, df);"
   ]
  },
  {
   "cell_type": "code",
   "execution_count": 14,
   "metadata": {},
   "outputs": [
    {
     "name": "stdout",
     "output_type": "stream",
     "text": [
      "  0.006925 seconds (422 allocations: 10.776 MiB)\n"
     ]
    }
   ],
   "source": [
    "@time subset(df, :Passengers => ByRow(>(0)), :Seats => ByRow(==(0)), :Flights  => ByRow(==(0)));"
   ]
  },
  {
   "cell_type": "markdown",
   "metadata": {},
   "source": [
    "Now let us move to another analysis.\n",
    "\n",
    "We want to get an information about the occupancy of each flight. It can be calculated as ratio of the number of passengers and number of seats time number of flights. The problem is that if there are `0` seats or flights we would be dividing by `0` and get a `NaN` result. We prefer to get a `missing` value in this case. Therefore first define a helper function:"
   ]
  },
  {
   "cell_type": "code",
   "execution_count": 15,
   "metadata": {},
   "outputs": [
    {
     "data": {
      "text/plain": [
       "get_occupied (generic function with 1 method)"
      ]
     },
     "execution_count": 15,
     "metadata": {},
     "output_type": "execute_result"
    }
   ],
   "source": [
    "function get_occupied(passengers, seats, flights)\n",
    "    if seats == 0 || flights == 0\n",
    "        return missing\n",
    "    else\n",
    "        return passengers / (seats * flights)\n",
    "    end\n",
    "end"
   ]
  },
  {
   "cell_type": "markdown",
   "metadata": {},
   "source": [
    "and now we use it to add a new column to our data frame. Additionally we create three new columns:\n",
    "1. `:ost`: state of the origin city\n",
    "2. `:dst`: state of the destination city\n",
    "3. `:year`: year of flight"
   ]
  },
  {
   "cell_type": "code",
   "execution_count": 16,
   "metadata": {
    "scrolled": false
   },
   "outputs": [
    {
     "data": {
      "text/html": [
       "<div><div style = \"float: left;\"><span>3606803×19 DataFrame</span></div><div style = \"float: right;\"><span style = \"font-style: italic;\">3606778 rows omitted</span></div><div style = \"clear: both;\"></div></div><div class = \"data-frame\" style = \"overflow-x: scroll;\"><table class = \"data-frame\" style = \"margin-bottom: 6px;\"><thead><tr class = \"header\"><th class = \"rowNumber\" style = \"font-weight: bold; text-align: right;\">Row</th><th style = \"text-align: left;\">Origin_airport</th><th style = \"text-align: left;\">Destination_airport</th><th style = \"text-align: left;\">Origin_city</th><th style = \"text-align: left;\">Destination_city</th><th style = \"text-align: left;\">Passengers</th><th style = \"text-align: left;\">Seats</th><th style = \"text-align: left;\">Flights</th><th style = \"text-align: left;\">Distance</th><th style = \"text-align: left;\">Fly_date</th><th style = \"text-align: left;\">Origin_population</th><th style = \"text-align: left;\">Destination_population</th><th style = \"text-align: left;\">Org_airport_lat</th><th style = \"text-align: left;\">Org_airport_long</th><th style = \"text-align: left;\">Dest_airport_lat</th><th style = \"text-align: left;\">Dest_airport_long</th><th style = \"text-align: left;\">occupied</th><th style = \"text-align: left;\">ost</th><th style = \"text-align: left;\">dst</th><th style = \"text-align: left;\">year</th></tr><tr class = \"subheader headerLastRow\"><th class = \"rowNumber\" style = \"font-weight: bold; text-align: right;\"></th><th title = \"String3\" style = \"text-align: left;\">String3</th><th title = \"String3\" style = \"text-align: left;\">String3</th><th title = \"String31\" style = \"text-align: left;\">String31</th><th title = \"String31\" style = \"text-align: left;\">String31</th><th title = \"Int64\" style = \"text-align: left;\">Int64</th><th title = \"Int64\" style = \"text-align: left;\">Int64</th><th title = \"Int64\" style = \"text-align: left;\">Int64</th><th title = \"Int64\" style = \"text-align: left;\">Int64</th><th title = \"Date\" style = \"text-align: left;\">Date</th><th title = \"Int64\" style = \"text-align: left;\">Int64</th><th title = \"Int64\" style = \"text-align: left;\">Int64</th><th title = \"Union{Missing, Float64}\" style = \"text-align: left;\">Float64?</th><th title = \"Union{Missing, Float64}\" style = \"text-align: left;\">Float64?</th><th title = \"Union{Missing, Float64}\" style = \"text-align: left;\">Float64?</th><th title = \"Union{Missing, Float64}\" style = \"text-align: left;\">Float64?</th><th title = \"Union{Missing, Float64}\" style = \"text-align: left;\">Float64?</th><th title = \"String31\" style = \"text-align: left;\">String31</th><th title = \"String31\" style = \"text-align: left;\">String31</th><th title = \"Int64\" style = \"text-align: left;\">Int64</th></tr></thead><tbody><tr><td class = \"rowNumber\" style = \"font-weight: bold; text-align: right;\">1</td><td style = \"text-align: left;\">MHK</td><td style = \"text-align: left;\">AMW</td><td style = \"text-align: left;\">Manhattan, KS</td><td style = \"text-align: left;\">Ames, IA</td><td style = \"text-align: right;\">21</td><td style = \"text-align: right;\">30</td><td style = \"text-align: right;\">1</td><td style = \"text-align: right;\">254</td><td style = \"text-align: left;\">2008-10-01</td><td style = \"text-align: right;\">122049</td><td style = \"text-align: right;\">86219</td><td style = \"text-align: right;\">39.141</td><td style = \"text-align: right;\">-96.6708</td><td style = \"font-style: italic; text-align: right;\">missing</td><td style = \"font-style: italic; text-align: right;\">missing</td><td style = \"text-align: right;\">0.7</td><td style = \"text-align: left;\">KS</td><td style = \"text-align: left;\">IA</td><td style = \"text-align: right;\">2008</td></tr><tr><td class = \"rowNumber\" style = \"font-weight: bold; text-align: right;\">2</td><td style = \"text-align: left;\">EUG</td><td style = \"text-align: left;\">RDM</td><td style = \"text-align: left;\">Eugene, OR</td><td style = \"text-align: left;\">Bend, OR</td><td style = \"text-align: right;\">41</td><td style = \"text-align: right;\">396</td><td style = \"text-align: right;\">22</td><td style = \"text-align: right;\">103</td><td style = \"text-align: left;\">1990-11-01</td><td style = \"text-align: right;\">284093</td><td style = \"text-align: right;\">76034</td><td style = \"text-align: right;\">44.1246</td><td style = \"text-align: right;\">-123.212</td><td style = \"text-align: right;\">44.2541</td><td style = \"text-align: right;\">-121.15</td><td style = \"text-align: right;\">0.00470615</td><td style = \"text-align: left;\">OR</td><td style = \"text-align: left;\">OR</td><td style = \"text-align: right;\">1990</td></tr><tr><td class = \"rowNumber\" style = \"font-weight: bold; text-align: right;\">3</td><td style = \"text-align: left;\">EUG</td><td style = \"text-align: left;\">RDM</td><td style = \"text-align: left;\">Eugene, OR</td><td style = \"text-align: left;\">Bend, OR</td><td style = \"text-align: right;\">88</td><td style = \"text-align: right;\">342</td><td style = \"text-align: right;\">19</td><td style = \"text-align: right;\">103</td><td style = \"text-align: left;\">1990-12-01</td><td style = \"text-align: right;\">284093</td><td style = \"text-align: right;\">76034</td><td style = \"text-align: right;\">44.1246</td><td style = \"text-align: right;\">-123.212</td><td style = \"text-align: right;\">44.2541</td><td style = \"text-align: right;\">-121.15</td><td style = \"text-align: right;\">0.0135426</td><td style = \"text-align: left;\">OR</td><td style = \"text-align: left;\">OR</td><td style = \"text-align: right;\">1990</td></tr><tr><td class = \"rowNumber\" style = \"font-weight: bold; text-align: right;\">4</td><td style = \"text-align: left;\">EUG</td><td style = \"text-align: left;\">RDM</td><td style = \"text-align: left;\">Eugene, OR</td><td style = \"text-align: left;\">Bend, OR</td><td style = \"text-align: right;\">11</td><td style = \"text-align: right;\">72</td><td style = \"text-align: right;\">4</td><td style = \"text-align: right;\">103</td><td style = \"text-align: left;\">1990-10-01</td><td style = \"text-align: right;\">284093</td><td style = \"text-align: right;\">76034</td><td style = \"text-align: right;\">44.1246</td><td style = \"text-align: right;\">-123.212</td><td style = \"text-align: right;\">44.2541</td><td style = \"text-align: right;\">-121.15</td><td style = \"text-align: right;\">0.0381944</td><td style = \"text-align: left;\">OR</td><td style = \"text-align: left;\">OR</td><td style = \"text-align: right;\">1990</td></tr><tr><td class = \"rowNumber\" style = \"font-weight: bold; text-align: right;\">5</td><td style = \"text-align: left;\">MFR</td><td style = \"text-align: left;\">RDM</td><td style = \"text-align: left;\">Medford, OR</td><td style = \"text-align: left;\">Bend, OR</td><td style = \"text-align: right;\">0</td><td style = \"text-align: right;\">18</td><td style = \"text-align: right;\">1</td><td style = \"text-align: right;\">156</td><td style = \"text-align: left;\">1990-02-01</td><td style = \"text-align: right;\">147300</td><td style = \"text-align: right;\">76034</td><td style = \"text-align: right;\">42.3742</td><td style = \"text-align: right;\">-122.873</td><td style = \"text-align: right;\">44.2541</td><td style = \"text-align: right;\">-121.15</td><td style = \"text-align: right;\">0.0</td><td style = \"text-align: left;\">OR</td><td style = \"text-align: left;\">OR</td><td style = \"text-align: right;\">1990</td></tr><tr><td class = \"rowNumber\" style = \"font-weight: bold; text-align: right;\">6</td><td style = \"text-align: left;\">MFR</td><td style = \"text-align: left;\">RDM</td><td style = \"text-align: left;\">Medford, OR</td><td style = \"text-align: left;\">Bend, OR</td><td style = \"text-align: right;\">11</td><td style = \"text-align: right;\">18</td><td style = \"text-align: right;\">1</td><td style = \"text-align: right;\">156</td><td style = \"text-align: left;\">1990-03-01</td><td style = \"text-align: right;\">147300</td><td style = \"text-align: right;\">76034</td><td style = \"text-align: right;\">42.3742</td><td style = \"text-align: right;\">-122.873</td><td style = \"text-align: right;\">44.2541</td><td style = \"text-align: right;\">-121.15</td><td style = \"text-align: right;\">0.611111</td><td style = \"text-align: left;\">OR</td><td style = \"text-align: left;\">OR</td><td style = \"text-align: right;\">1990</td></tr><tr><td class = \"rowNumber\" style = \"font-weight: bold; text-align: right;\">7</td><td style = \"text-align: left;\">MFR</td><td style = \"text-align: left;\">RDM</td><td style = \"text-align: left;\">Medford, OR</td><td style = \"text-align: left;\">Bend, OR</td><td style = \"text-align: right;\">2</td><td style = \"text-align: right;\">72</td><td style = \"text-align: right;\">4</td><td style = \"text-align: right;\">156</td><td style = \"text-align: left;\">1990-01-01</td><td style = \"text-align: right;\">147300</td><td style = \"text-align: right;\">76034</td><td style = \"text-align: right;\">42.3742</td><td style = \"text-align: right;\">-122.873</td><td style = \"text-align: right;\">44.2541</td><td style = \"text-align: right;\">-121.15</td><td style = \"text-align: right;\">0.00694444</td><td style = \"text-align: left;\">OR</td><td style = \"text-align: left;\">OR</td><td style = \"text-align: right;\">1990</td></tr><tr><td class = \"rowNumber\" style = \"font-weight: bold; text-align: right;\">8</td><td style = \"text-align: left;\">MFR</td><td style = \"text-align: left;\">RDM</td><td style = \"text-align: left;\">Medford, OR</td><td style = \"text-align: left;\">Bend, OR</td><td style = \"text-align: right;\">7</td><td style = \"text-align: right;\">18</td><td style = \"text-align: right;\">1</td><td style = \"text-align: right;\">156</td><td style = \"text-align: left;\">1990-09-01</td><td style = \"text-align: right;\">147300</td><td style = \"text-align: right;\">76034</td><td style = \"text-align: right;\">42.3742</td><td style = \"text-align: right;\">-122.873</td><td style = \"text-align: right;\">44.2541</td><td style = \"text-align: right;\">-121.15</td><td style = \"text-align: right;\">0.388889</td><td style = \"text-align: left;\">OR</td><td style = \"text-align: left;\">OR</td><td style = \"text-align: right;\">1990</td></tr><tr><td class = \"rowNumber\" style = \"font-weight: bold; text-align: right;\">9</td><td style = \"text-align: left;\">MFR</td><td style = \"text-align: left;\">RDM</td><td style = \"text-align: left;\">Medford, OR</td><td style = \"text-align: left;\">Bend, OR</td><td style = \"text-align: right;\">7</td><td style = \"text-align: right;\">36</td><td style = \"text-align: right;\">2</td><td style = \"text-align: right;\">156</td><td style = \"text-align: left;\">1990-11-01</td><td style = \"text-align: right;\">147300</td><td style = \"text-align: right;\">76034</td><td style = \"text-align: right;\">42.3742</td><td style = \"text-align: right;\">-122.873</td><td style = \"text-align: right;\">44.2541</td><td style = \"text-align: right;\">-121.15</td><td style = \"text-align: right;\">0.0972222</td><td style = \"text-align: left;\">OR</td><td style = \"text-align: left;\">OR</td><td style = \"text-align: right;\">1990</td></tr><tr><td class = \"rowNumber\" style = \"font-weight: bold; text-align: right;\">10</td><td style = \"text-align: left;\">SEA</td><td style = \"text-align: left;\">RDM</td><td style = \"text-align: left;\">Seattle, WA</td><td style = \"text-align: left;\">Bend, OR</td><td style = \"text-align: right;\">8</td><td style = \"text-align: right;\">18</td><td style = \"text-align: right;\">1</td><td style = \"text-align: right;\">228</td><td style = \"text-align: left;\">1990-02-01</td><td style = \"text-align: right;\">5154164</td><td style = \"text-align: right;\">76034</td><td style = \"text-align: right;\">47.449</td><td style = \"text-align: right;\">-122.309</td><td style = \"text-align: right;\">44.2541</td><td style = \"text-align: right;\">-121.15</td><td style = \"text-align: right;\">0.444444</td><td style = \"text-align: left;\">WA</td><td style = \"text-align: left;\">OR</td><td style = \"text-align: right;\">1990</td></tr><tr><td class = \"rowNumber\" style = \"font-weight: bold; text-align: right;\">11</td><td style = \"text-align: left;\">SEA</td><td style = \"text-align: left;\">RDM</td><td style = \"text-align: left;\">Seattle, WA</td><td style = \"text-align: left;\">Bend, OR</td><td style = \"text-align: right;\">453</td><td style = \"text-align: right;\">3128</td><td style = \"text-align: right;\">23</td><td style = \"text-align: right;\">228</td><td style = \"text-align: left;\">1990-01-01</td><td style = \"text-align: right;\">5154164</td><td style = \"text-align: right;\">76034</td><td style = \"text-align: right;\">47.449</td><td style = \"text-align: right;\">-122.309</td><td style = \"text-align: right;\">44.2541</td><td style = \"text-align: right;\">-121.15</td><td style = \"text-align: right;\">0.00629656</td><td style = \"text-align: left;\">WA</td><td style = \"text-align: left;\">OR</td><td style = \"text-align: right;\">1990</td></tr><tr><td class = \"rowNumber\" style = \"font-weight: bold; text-align: right;\">12</td><td style = \"text-align: left;\">SEA</td><td style = \"text-align: left;\">RDM</td><td style = \"text-align: left;\">Seattle, WA</td><td style = \"text-align: left;\">Bend, OR</td><td style = \"text-align: right;\">784</td><td style = \"text-align: right;\">2720</td><td style = \"text-align: right;\">20</td><td style = \"text-align: right;\">228</td><td style = \"text-align: left;\">1990-02-01</td><td style = \"text-align: right;\">5154164</td><td style = \"text-align: right;\">76034</td><td style = \"text-align: right;\">47.449</td><td style = \"text-align: right;\">-122.309</td><td style = \"text-align: right;\">44.2541</td><td style = \"text-align: right;\">-121.15</td><td style = \"text-align: right;\">0.0144118</td><td style = \"text-align: left;\">WA</td><td style = \"text-align: left;\">OR</td><td style = \"text-align: right;\">1990</td></tr><tr><td class = \"rowNumber\" style = \"font-weight: bold; text-align: right;\">13</td><td style = \"text-align: left;\">SEA</td><td style = \"text-align: left;\">RDM</td><td style = \"text-align: left;\">Seattle, WA</td><td style = \"text-align: left;\">Bend, OR</td><td style = \"text-align: right;\">749</td><td style = \"text-align: right;\">2992</td><td style = \"text-align: right;\">22</td><td style = \"text-align: right;\">228</td><td style = \"text-align: left;\">1990-03-01</td><td style = \"text-align: right;\">5154164</td><td style = \"text-align: right;\">76034</td><td style = \"text-align: right;\">47.449</td><td style = \"text-align: right;\">-122.309</td><td style = \"text-align: right;\">44.2541</td><td style = \"text-align: right;\">-121.15</td><td style = \"text-align: right;\">0.0113788</td><td style = \"text-align: left;\">WA</td><td style = \"text-align: left;\">OR</td><td style = \"text-align: right;\">1990</td></tr><tr><td style = \"text-align: right;\">&vellip;</td><td style = \"text-align: right;\">&vellip;</td><td style = \"text-align: right;\">&vellip;</td><td style = \"text-align: right;\">&vellip;</td><td style = \"text-align: right;\">&vellip;</td><td style = \"text-align: right;\">&vellip;</td><td style = \"text-align: right;\">&vellip;</td><td style = \"text-align: right;\">&vellip;</td><td style = \"text-align: right;\">&vellip;</td><td style = \"text-align: right;\">&vellip;</td><td style = \"text-align: right;\">&vellip;</td><td style = \"text-align: right;\">&vellip;</td><td style = \"text-align: right;\">&vellip;</td><td style = \"text-align: right;\">&vellip;</td><td style = \"text-align: right;\">&vellip;</td><td style = \"text-align: right;\">&vellip;</td><td style = \"text-align: right;\">&vellip;</td><td style = \"text-align: right;\">&vellip;</td><td style = \"text-align: right;\">&vellip;</td><td style = \"text-align: right;\">&vellip;</td></tr><tr><td class = \"rowNumber\" style = \"font-weight: bold; text-align: right;\">3606792</td><td style = \"text-align: left;\">STL</td><td style = \"text-align: left;\">TBN</td><td style = \"text-align: left;\">St. Louis, MO</td><td style = \"text-align: left;\">Fort Leonard Wood, MO</td><td style = \"text-align: right;\">294</td><td style = \"text-align: right;\">1254</td><td style = \"text-align: right;\">66</td><td style = \"text-align: right;\">119</td><td style = \"text-align: left;\">2009-10-01</td><td style = \"text-align: right;\">2828990</td><td style = \"text-align: right;\">46457</td><td style = \"text-align: right;\">38.7487</td><td style = \"text-align: right;\">-90.37</td><td style = \"text-align: right;\">37.7416</td><td style = \"text-align: right;\">-92.1407</td><td style = \"text-align: right;\">0.00355227</td><td style = \"text-align: left;\">MO</td><td style = \"text-align: left;\">MO</td><td style = \"text-align: right;\">2009</td></tr><tr><td class = \"rowNumber\" style = \"font-weight: bold; text-align: right;\">3606793</td><td style = \"text-align: left;\">BRL</td><td style = \"text-align: left;\">TBN</td><td style = \"text-align: left;\">Burlington, IA</td><td style = \"text-align: left;\">Fort Leonard Wood, MO</td><td style = \"text-align: right;\">0</td><td style = \"text-align: right;\">19</td><td style = \"text-align: right;\">1</td><td style = \"text-align: right;\">217</td><td style = \"text-align: left;\">2009-03-01</td><td style = \"text-align: right;\">48412</td><td style = \"text-align: right;\">46457</td><td style = \"text-align: right;\">40.7832</td><td style = \"text-align: right;\">-91.1255</td><td style = \"text-align: right;\">37.7416</td><td style = \"text-align: right;\">-92.1407</td><td style = \"text-align: right;\">0.0</td><td style = \"text-align: left;\">IA</td><td style = \"text-align: left;\">MO</td><td style = \"text-align: right;\">2009</td></tr><tr><td class = \"rowNumber\" style = \"font-weight: bold; text-align: right;\">3606794</td><td style = \"text-align: left;\">STL</td><td style = \"text-align: left;\">TBN</td><td style = \"text-align: left;\">St. Louis, MO</td><td style = \"text-align: left;\">Fort Leonard Wood, MO</td><td style = \"text-align: right;\">348</td><td style = \"text-align: right;\">1083</td><td style = \"text-align: right;\">57</td><td style = \"text-align: right;\">119</td><td style = \"text-align: left;\">2009-03-01</td><td style = \"text-align: right;\">2828990</td><td style = \"text-align: right;\">46457</td><td style = \"text-align: right;\">38.7487</td><td style = \"text-align: right;\">-90.37</td><td style = \"text-align: right;\">37.7416</td><td style = \"text-align: right;\">-92.1407</td><td style = \"text-align: right;\">0.00563736</td><td style = \"text-align: left;\">MO</td><td style = \"text-align: left;\">MO</td><td style = \"text-align: right;\">2009</td></tr><tr><td class = \"rowNumber\" style = \"font-weight: bold; text-align: right;\">3606795</td><td style = \"text-align: left;\">STL</td><td style = \"text-align: left;\">TBN</td><td style = \"text-align: left;\">St. Louis, MO</td><td style = \"text-align: left;\">Fort Leonard Wood, MO</td><td style = \"text-align: right;\">286</td><td style = \"text-align: right;\">969</td><td style = \"text-align: right;\">51</td><td style = \"text-align: right;\">119</td><td style = \"text-align: left;\">2009-01-01</td><td style = \"text-align: right;\">2828990</td><td style = \"text-align: right;\">46457</td><td style = \"text-align: right;\">38.7487</td><td style = \"text-align: right;\">-90.37</td><td style = \"text-align: right;\">37.7416</td><td style = \"text-align: right;\">-92.1407</td><td style = \"text-align: right;\">0.00578725</td><td style = \"text-align: left;\">MO</td><td style = \"text-align: left;\">MO</td><td style = \"text-align: right;\">2009</td></tr><tr><td class = \"rowNumber\" style = \"font-weight: bold; text-align: right;\">3606796</td><td style = \"text-align: left;\">STL</td><td style = \"text-align: left;\">TBN</td><td style = \"text-align: left;\">St. Louis, MO</td><td style = \"text-align: left;\">Fort Leonard Wood, MO</td><td style = \"text-align: right;\">153</td><td style = \"text-align: right;\">608</td><td style = \"text-align: right;\">32</td><td style = \"text-align: right;\">119</td><td style = \"text-align: left;\">2009-12-01</td><td style = \"text-align: right;\">2828990</td><td style = \"text-align: right;\">46457</td><td style = \"text-align: right;\">38.7487</td><td style = \"text-align: right;\">-90.37</td><td style = \"text-align: right;\">37.7416</td><td style = \"text-align: right;\">-92.1407</td><td style = \"text-align: right;\">0.0078639</td><td style = \"text-align: left;\">MO</td><td style = \"text-align: left;\">MO</td><td style = \"text-align: right;\">2009</td></tr><tr><td class = \"rowNumber\" style = \"font-weight: bold; text-align: right;\">3606797</td><td style = \"text-align: left;\">STL</td><td style = \"text-align: left;\">TBN</td><td style = \"text-align: left;\">St. Louis, MO</td><td style = \"text-align: left;\">Fort Leonard Wood, MO</td><td style = \"text-align: right;\">331</td><td style = \"text-align: right;\">1330</td><td style = \"text-align: right;\">70</td><td style = \"text-align: right;\">119</td><td style = \"text-align: left;\">2009-05-01</td><td style = \"text-align: right;\">2828990</td><td style = \"text-align: right;\">46457</td><td style = \"text-align: right;\">38.7487</td><td style = \"text-align: right;\">-90.37</td><td style = \"text-align: right;\">37.7416</td><td style = \"text-align: right;\">-92.1407</td><td style = \"text-align: right;\">0.00355532</td><td style = \"text-align: left;\">MO</td><td style = \"text-align: left;\">MO</td><td style = \"text-align: right;\">2009</td></tr><tr><td class = \"rowNumber\" style = \"font-weight: bold; text-align: right;\">3606798</td><td style = \"text-align: left;\">STL</td><td style = \"text-align: left;\">TBN</td><td style = \"text-align: left;\">St. Louis, MO</td><td style = \"text-align: left;\">Fort Leonard Wood, MO</td><td style = \"text-align: right;\">292</td><td style = \"text-align: right;\">1311</td><td style = \"text-align: right;\">69</td><td style = \"text-align: right;\">119</td><td style = \"text-align: left;\">2009-06-01</td><td style = \"text-align: right;\">2828990</td><td style = \"text-align: right;\">46457</td><td style = \"text-align: right;\">38.7487</td><td style = \"text-align: right;\">-90.37</td><td style = \"text-align: right;\">37.7416</td><td style = \"text-align: right;\">-92.1407</td><td style = \"text-align: right;\">0.00322798</td><td style = \"text-align: left;\">MO</td><td style = \"text-align: left;\">MO</td><td style = \"text-align: right;\">2009</td></tr><tr><td class = \"rowNumber\" style = \"font-weight: bold; text-align: right;\">3606799</td><td style = \"text-align: left;\">STL</td><td style = \"text-align: left;\">TBN</td><td style = \"text-align: left;\">St. Louis, MO</td><td style = \"text-align: left;\">Fort Leonard Wood, MO</td><td style = \"text-align: right;\">281</td><td style = \"text-align: right;\">969</td><td style = \"text-align: right;\">51</td><td style = \"text-align: right;\">119</td><td style = \"text-align: left;\">2009-02-01</td><td style = \"text-align: right;\">2828990</td><td style = \"text-align: right;\">46457</td><td style = \"text-align: right;\">38.7487</td><td style = \"text-align: right;\">-90.37</td><td style = \"text-align: right;\">37.7416</td><td style = \"text-align: right;\">-92.1407</td><td style = \"text-align: right;\">0.00568607</td><td style = \"text-align: left;\">MO</td><td style = \"text-align: left;\">MO</td><td style = \"text-align: right;\">2009</td></tr><tr><td class = \"rowNumber\" style = \"font-weight: bold; text-align: right;\">3606800</td><td style = \"text-align: left;\">STL</td><td style = \"text-align: left;\">TBN</td><td style = \"text-align: left;\">St. Louis, MO</td><td style = \"text-align: left;\">Fort Leonard Wood, MO</td><td style = \"text-align: right;\">245</td><td style = \"text-align: right;\">1026</td><td style = \"text-align: right;\">54</td><td style = \"text-align: right;\">119</td><td style = \"text-align: left;\">2009-11-01</td><td style = \"text-align: right;\">2828990</td><td style = \"text-align: right;\">46457</td><td style = \"text-align: right;\">38.7487</td><td style = \"text-align: right;\">-90.37</td><td style = \"text-align: right;\">37.7416</td><td style = \"text-align: right;\">-92.1407</td><td style = \"text-align: right;\">0.00442206</td><td style = \"text-align: left;\">MO</td><td style = \"text-align: left;\">MO</td><td style = \"text-align: right;\">2009</td></tr><tr><td class = \"rowNumber\" style = \"font-weight: bold; text-align: right;\">3606801</td><td style = \"text-align: left;\">STL</td><td style = \"text-align: left;\">TBN</td><td style = \"text-align: left;\">St. Louis, MO</td><td style = \"text-align: left;\">Fort Leonard Wood, MO</td><td style = \"text-align: right;\">363</td><td style = \"text-align: right;\">1273</td><td style = \"text-align: right;\">67</td><td style = \"text-align: right;\">119</td><td style = \"text-align: left;\">2009-08-01</td><td style = \"text-align: right;\">2828990</td><td style = \"text-align: right;\">46457</td><td style = \"text-align: right;\">38.7487</td><td style = \"text-align: right;\">-90.37</td><td style = \"text-align: right;\">37.7416</td><td style = \"text-align: right;\">-92.1407</td><td style = \"text-align: right;\">0.00425602</td><td style = \"text-align: left;\">MO</td><td style = \"text-align: left;\">MO</td><td style = \"text-align: right;\">2009</td></tr><tr><td class = \"rowNumber\" style = \"font-weight: bold; text-align: right;\">3606802</td><td style = \"text-align: left;\">CGI</td><td style = \"text-align: left;\">TBN</td><td style = \"text-align: left;\">Cape Girardeau, MO</td><td style = \"text-align: left;\">Fort Leonard Wood, MO</td><td style = \"text-align: right;\">2</td><td style = \"text-align: right;\">19</td><td style = \"text-align: right;\">1</td><td style = \"text-align: right;\">146</td><td style = \"text-align: left;\">2009-08-01</td><td style = \"text-align: right;\">93712</td><td style = \"text-align: right;\">46457</td><td style = \"text-align: right;\">37.2253</td><td style = \"text-align: right;\">-89.5708</td><td style = \"text-align: right;\">37.7416</td><td style = \"text-align: right;\">-92.1407</td><td style = \"text-align: right;\">0.105263</td><td style = \"text-align: left;\">MO</td><td style = \"text-align: left;\">MO</td><td style = \"text-align: right;\">2009</td></tr><tr><td class = \"rowNumber\" style = \"font-weight: bold; text-align: right;\">3606803</td><td style = \"text-align: left;\">FWA</td><td style = \"text-align: left;\">OH1</td><td style = \"text-align: left;\">Fort Wayne, IN</td><td style = \"text-align: left;\">Washington Court House, OH</td><td style = \"text-align: right;\">0</td><td style = \"text-align: right;\">0</td><td style = \"text-align: right;\">1</td><td style = \"text-align: right;\">135</td><td style = \"text-align: left;\">2003-09-01</td><td style = \"text-align: right;\">398574</td><td style = \"text-align: right;\">28133</td><td style = \"text-align: right;\">40.9785</td><td style = \"text-align: right;\">-85.1951</td><td style = \"text-align: right;\">missing</td><td style = \"text-align: right;\">missing</td><td style = \"text-align: right;\">missing</td><td style = \"text-align: left;\">IN</td><td style = \"text-align: left;\">OH</td><td style = \"text-align: right;\">2003</td></tr></tbody></table></div>"
      ],
      "text/latex": [
       "\\begin{tabular}{r|cccccc}\n",
       "\t& Origin\\_airport & Destination\\_airport & Origin\\_city & Destination\\_city & Passengers & \\\\\n",
       "\t\\hline\n",
       "\t& String3 & String3 & String31 & String31 & Int64 & \\\\\n",
       "\t\\hline\n",
       "\t1 & MHK & AMW & Manhattan, KS & Ames, IA & 21 & $\\dots$ \\\\\n",
       "\t2 & EUG & RDM & Eugene, OR & Bend, OR & 41 & $\\dots$ \\\\\n",
       "\t3 & EUG & RDM & Eugene, OR & Bend, OR & 88 & $\\dots$ \\\\\n",
       "\t4 & EUG & RDM & Eugene, OR & Bend, OR & 11 & $\\dots$ \\\\\n",
       "\t5 & MFR & RDM & Medford, OR & Bend, OR & 0 & $\\dots$ \\\\\n",
       "\t6 & MFR & RDM & Medford, OR & Bend, OR & 11 & $\\dots$ \\\\\n",
       "\t7 & MFR & RDM & Medford, OR & Bend, OR & 2 & $\\dots$ \\\\\n",
       "\t8 & MFR & RDM & Medford, OR & Bend, OR & 7 & $\\dots$ \\\\\n",
       "\t9 & MFR & RDM & Medford, OR & Bend, OR & 7 & $\\dots$ \\\\\n",
       "\t10 & SEA & RDM & Seattle, WA & Bend, OR & 8 & $\\dots$ \\\\\n",
       "\t11 & SEA & RDM & Seattle, WA & Bend, OR & 453 & $\\dots$ \\\\\n",
       "\t12 & SEA & RDM & Seattle, WA & Bend, OR & 784 & $\\dots$ \\\\\n",
       "\t13 & SEA & RDM & Seattle, WA & Bend, OR & 749 & $\\dots$ \\\\\n",
       "\t14 & SEA & RDM & Seattle, WA & Bend, OR & 11 & $\\dots$ \\\\\n",
       "\t15 & PDX & RDM & Portland, OR & Bend, OR & 349 & $\\dots$ \\\\\n",
       "\t16 & PDX & RDM & Portland, OR & Bend, OR & 1376 & $\\dots$ \\\\\n",
       "\t17 & PDX & RDM & Portland, OR & Bend, OR & 444 & $\\dots$ \\\\\n",
       "\t18 & PDX & RDM & Portland, OR & Bend, OR & 1949 & $\\dots$ \\\\\n",
       "\t19 & PDX & RDM & Portland, OR & Bend, OR & 381 & $\\dots$ \\\\\n",
       "\t20 & PDX & RDM & Portland, OR & Bend, OR & 1559 & $\\dots$ \\\\\n",
       "\t21 & PDX & RDM & Portland, OR & Bend, OR & 1852 & $\\dots$ \\\\\n",
       "\t22 & PDX & RDM & Portland, OR & Bend, OR & 483 & $\\dots$ \\\\\n",
       "\t23 & PDX & RDM & Portland, OR & Bend, OR & 1965 & $\\dots$ \\\\\n",
       "\t24 & PDX & RDM & Portland, OR & Bend, OR & 494 & $\\dots$ \\\\\n",
       "\t25 & PDX & RDM & Portland, OR & Bend, OR & 459 & $\\dots$ \\\\\n",
       "\t26 & PDX & RDM & Portland, OR & Bend, OR & 553 & $\\dots$ \\\\\n",
       "\t27 & PDX & RDM & Portland, OR & Bend, OR & 1887 & $\\dots$ \\\\\n",
       "\t28 & PDX & RDM & Portland, OR & Bend, OR & 773 & $\\dots$ \\\\\n",
       "\t29 & PDX & RDM & Portland, OR & Bend, OR & 1800 & $\\dots$ \\\\\n",
       "\t30 & PDX & RDM & Portland, OR & Bend, OR & 1173 & $\\dots$ \\\\\n",
       "\t$\\dots$ & $\\dots$ & $\\dots$ & $\\dots$ & $\\dots$ & $\\dots$ &  \\\\\n",
       "\\end{tabular}\n"
      ],
      "text/plain": [
       "\u001b[1m3606803×19 DataFrame\u001b[0m\n",
       "\u001b[1m     Row \u001b[0m│\u001b[1m Origin_airport \u001b[0m\u001b[1m Destination_airport \u001b[0m\u001b[1m Origin_city        \u001b[0m\u001b[1m Destinatio\u001b[0m ⋯\n",
       "         │\u001b[90m String3        \u001b[0m\u001b[90m String3             \u001b[0m\u001b[90m String31           \u001b[0m\u001b[90m String31  \u001b[0m ⋯\n",
       "─────────┼──────────────────────────────────────────────────────────────────────\n",
       "       1 │ MHK             AMW                  Manhattan, KS       Ames, IA   ⋯\n",
       "       2 │ EUG             RDM                  Eugene, OR          Bend, OR\n",
       "       3 │ EUG             RDM                  Eugene, OR          Bend, OR\n",
       "       4 │ EUG             RDM                  Eugene, OR          Bend, OR\n",
       "       5 │ MFR             RDM                  Medford, OR         Bend, OR   ⋯\n",
       "       6 │ MFR             RDM                  Medford, OR         Bend, OR\n",
       "       7 │ MFR             RDM                  Medford, OR         Bend, OR\n",
       "       8 │ MFR             RDM                  Medford, OR         Bend, OR\n",
       "       9 │ MFR             RDM                  Medford, OR         Bend, OR   ⋯\n",
       "      10 │ SEA             RDM                  Seattle, WA         Bend, OR\n",
       "      11 │ SEA             RDM                  Seattle, WA         Bend, OR\n",
       "    ⋮    │       ⋮                  ⋮                   ⋮                      ⋱\n",
       " 3606794 │ STL             TBN                  St. Louis, MO       Fort Leona\n",
       " 3606795 │ STL             TBN                  St. Louis, MO       Fort Leona ⋯\n",
       " 3606796 │ STL             TBN                  St. Louis, MO       Fort Leona\n",
       " 3606797 │ STL             TBN                  St. Louis, MO       Fort Leona\n",
       " 3606798 │ STL             TBN                  St. Louis, MO       Fort Leona\n",
       " 3606799 │ STL             TBN                  St. Louis, MO       Fort Leona ⋯\n",
       " 3606800 │ STL             TBN                  St. Louis, MO       Fort Leona\n",
       " 3606801 │ STL             TBN                  St. Louis, MO       Fort Leona\n",
       " 3606802 │ CGI             TBN                  Cape Girardeau, MO  Fort Leona\n",
       " 3606803 │ FWA             OH1                  Fort Wayne, IN      Washington ⋯\n",
       "\u001b[36m                                             16 columns and 3606782 rows omitted\u001b[0m"
      ]
     },
     "execution_count": 16,
     "metadata": {},
     "output_type": "execute_result"
    }
   ],
   "source": [
    "df2 = transform(df,\n",
    "                [:Passengers, :Seats, :Flights] => ByRow(get_occupied) => :occupied,\n",
    "                [:Origin_city, :Destination_city] .=> ByRow(x -> last(x, 2)) .=> [:ost, :dst],\n",
    "                :Fly_date => ByRow(year) => :year)"
   ]
  },
  {
   "cell_type": "markdown",
   "metadata": {},
   "source": [
    "Notice again that in the computation we used `ByRow` wrapper that instructs DataFrames.jl to apply the function for each row of the passed data.\n",
    "\n",
    "It is instructive to disect this pipeline step by step. When we said\n",
    "\n",
    "```julia\n",
    "[:Passengers, :Seats, :Flights] => ByRow(get_occupied) => :occupied\n",
    "```\n",
    "\n",
    "remember that the `get_occupied` function required 3 input arguments. The initial `[:Passengers, :Seats, :Flights]` selector makes sure we pass the required 3 columns, and in the correct order. Finally, having `ByRow(get_occupied) => :occupied` means that our function returns a single output *vector*, and we supply a single name, `:occupied` for it.\n",
    "\n",
    "In the next statement, we wrote \n",
    "\n",
    "```julia\n",
    "[:Origin_city, :Destination_city] .=> ByRow(x -> last(x, 2)) .=> [:ost, :dst]\n",
    "```\n",
    "\n",
    "which looks similar, but has a crucial difference: the `Pair` operator `=>` is being *broadcasted* this time (note the `.` in front of the `=>`)! In simple words, here we will apply our transformation *to each input column*, outputting as well 2 columns (ensured by the second `.=>`). One noteworthy feature of DataFrames.jl is that the so-written components of a data pipeline are valid julia code (and *not* part of a package-specific DSL). For instance, you can evaluate this line in the REPL to investigate the transformation we are building in this step:\n",
    "\n",
    "```julia\n",
    "julia> [:Origin_city, :Destination_city] .=> ByRow(x -> last(x, 2)) .=> [:ost, :dst]\n",
    "2-element Vector{Pair{Symbol, Pair{ByRow{var\"#5#6\"}, Symbol}}}:\n",
    "      :Origin_city => (ByRow{var\"#5#6\"}(var\"#5#6\"()) => :ost)\n",
    " :Destination_city => (ByRow{var\"#5#6\"}(var\"#5#6\"()) => :dst)\n",
    "\n",
    "```\n",
    "\n",
    "If the central part (the anonymous function with `ByRow` etc) looks confusing, consider this example, which is the essence of what's going on:\n",
    "\n",
    "```julia\n",
    "julia> [:x1, :x2] .=> [\"op1\", \"op2\"]\n",
    "2-element Vector{Pair{Symbol, String}}:\n",
    " :x1 => \"op1\"\n",
    " :x2 => \"op2\"\n",
    "```\n",
    "\n",
    "This also illustrates that the comma in the output column names array is of crucial importance (i.e. it should be `[:ost, :dst]` and not `[:ost :dst]`). The reason being simply that the julia broadcasting rules would expand the expression into the second dimension, i.e. \n",
    "\n",
    "```julia\n",
    "julia> [:x1, :x2] .=> [\"op1\" \"op2\"]\n",
    "2×2 Matrix{Pair{Symbol, String}}:\n",
    " :x1=>\"op1\"  :x1=>\"op2\"\n",
    " :x2=>\"op1\"  :x2=>\"op2\"\n",
    "```\n",
    "\n",
    "which is not what we want in this instance.\n",
    "\n",
    "Here is an alternative way to compute `:occupied` without using `ByRow`, but instead using standard broadcasting:"
   ]
  },
  {
   "cell_type": "code",
   "execution_count": 17,
   "metadata": {},
   "outputs": [
    {
     "data": {
      "text/plain": [
       "get_occupied2 (generic function with 1 method)"
      ]
     },
     "execution_count": 17,
     "metadata": {},
     "output_type": "execute_result"
    }
   ],
   "source": [
    "get_occupied2(passengers, seats, flights) =\n",
    "    @. ifelse((seats == 0) || (flights == 0), missing, passengers / (seats * flights))"
   ]
  },
  {
   "cell_type": "code",
   "execution_count": 18,
   "metadata": {
    "scrolled": false
   },
   "outputs": [],
   "source": [
    "df2′ = select(df, [:Passengers, :Seats, :Flights] => get_occupied2 => :occupied);"
   ]
  },
  {
   "cell_type": "markdown",
   "metadata": {},
   "source": [
    "First we check if both methods produced the same result:"
   ]
  },
  {
   "cell_type": "code",
   "execution_count": 19,
   "metadata": {},
   "outputs": [
    {
     "data": {
      "text/plain": [
       "true"
      ]
     },
     "execution_count": 19,
     "metadata": {},
     "output_type": "execute_result"
    }
   ],
   "source": [
    "isequal(df2.occupied, df2′.occupied)"
   ]
  },
  {
   "cell_type": "markdown",
   "metadata": {},
   "source": [
    "The second thing we can do is compare the performance of both options:"
   ]
  },
  {
   "cell_type": "code",
   "execution_count": 20,
   "metadata": {},
   "outputs": [
    {
     "data": {
      "text/plain": [
       "BenchmarkTools.Trial: 47 samples with 1 evaluation.\n",
       " Range \u001b[90m(\u001b[39m\u001b[36m\u001b[1mmin\u001b[22m\u001b[39m … \u001b[35mmax\u001b[39m\u001b[90m):  \u001b[39m\u001b[36m\u001b[1m105.917 ms\u001b[22m\u001b[39m … \u001b[35m117.231 ms\u001b[39m  \u001b[90m┊\u001b[39m GC \u001b[90m(\u001b[39mmin … max\u001b[90m): \u001b[39m90.60% … 91.39%\n",
       " Time  \u001b[90m(\u001b[39m\u001b[34m\u001b[1mmedian\u001b[22m\u001b[39m\u001b[90m):     \u001b[39m\u001b[34m\u001b[1m106.959 ms               \u001b[22m\u001b[39m\u001b[90m┊\u001b[39m GC \u001b[90m(\u001b[39mmedian\u001b[90m):    \u001b[39m90.80%\n",
       " Time  \u001b[90m(\u001b[39m\u001b[32m\u001b[1mmean\u001b[22m\u001b[39m ± \u001b[32mσ\u001b[39m\u001b[90m):   \u001b[39m\u001b[32m\u001b[1m107.677 ms\u001b[22m\u001b[39m ± \u001b[32m  2.409 ms\u001b[39m  \u001b[90m┊\u001b[39m GC \u001b[90m(\u001b[39mmean ± σ\u001b[90m):  \u001b[39m90.87% ±  0.22%\n",
       "\n",
       "  \u001b[39m \u001b[39m \u001b[39m \u001b[39m \u001b[39m█\u001b[39m█\u001b[34m▅\u001b[39m\u001b[39m \u001b[39m \u001b[32m \u001b[39m\u001b[39m \u001b[39m \u001b[39m \u001b[39m \u001b[39m \u001b[39m \u001b[39m \u001b[39m \u001b[39m \u001b[39m \u001b[39m \u001b[39m \u001b[39m \u001b[39m \u001b[39m \u001b[39m \u001b[39m \u001b[39m \u001b[39m \u001b[39m \u001b[39m \u001b[39m \u001b[39m \u001b[39m \u001b[39m \u001b[39m \u001b[39m \u001b[39m \u001b[39m \u001b[39m \u001b[39m \u001b[39m \u001b[39m \u001b[39m \u001b[39m \u001b[39m \u001b[39m \u001b[39m \u001b[39m \u001b[39m \u001b[39m \u001b[39m \u001b[39m \u001b[39m \u001b[39m \u001b[39m \u001b[39m \u001b[39m \u001b[39m \u001b[39m \u001b[39m \u001b[39m \u001b[39m \n",
       "  \u001b[39m▃\u001b[39m▁\u001b[39m▁\u001b[39m█\u001b[39m█\u001b[39m█\u001b[34m█\u001b[39m\u001b[39m▅\u001b[39m▃\u001b[32m▁\u001b[39m\u001b[39m▃\u001b[39m▃\u001b[39m▁\u001b[39m▁\u001b[39m▁\u001b[39m▁\u001b[39m▁\u001b[39m▁\u001b[39m▁\u001b[39m▁\u001b[39m▁\u001b[39m▁\u001b[39m▅\u001b[39m▁\u001b[39m▁\u001b[39m▁\u001b[39m▁\u001b[39m▁\u001b[39m▁\u001b[39m▁\u001b[39m▁\u001b[39m▁\u001b[39m▁\u001b[39m▁\u001b[39m▁\u001b[39m▁\u001b[39m▁\u001b[39m▁\u001b[39m▁\u001b[39m▁\u001b[39m▁\u001b[39m▁\u001b[39m▁\u001b[39m▁\u001b[39m▁\u001b[39m▁\u001b[39m▁\u001b[39m▁\u001b[39m▁\u001b[39m▁\u001b[39m▁\u001b[39m▁\u001b[39m▃\u001b[39m▁\u001b[39m▁\u001b[39m▃\u001b[39m▁\u001b[39m▁\u001b[39m▁\u001b[39m▁\u001b[39m▃\u001b[39m \u001b[39m▁\n",
       "  106 ms\u001b[90m           Histogram: frequency by time\u001b[39m          117 ms \u001b[0m\u001b[1m<\u001b[22m\n",
       "\n",
       " Memory estimate\u001b[90m: \u001b[39m\u001b[33m58.50 MiB\u001b[39m, allocs estimate\u001b[90m: \u001b[39m\u001b[33m406\u001b[39m."
      ]
     },
     "execution_count": 20,
     "metadata": {},
     "output_type": "execute_result"
    }
   ],
   "source": [
    "@benchmark select($df, [:Passengers, :Seats, :Flights] => ByRow(get_occupied) => :occupied)"
   ]
  },
  {
   "cell_type": "code",
   "execution_count": 21,
   "metadata": {},
   "outputs": [
    {
     "data": {
      "text/plain": [
       "BenchmarkTools.Trial: 44 samples with 1 evaluation.\n",
       " Range \u001b[90m(\u001b[39m\u001b[36m\u001b[1mmin\u001b[22m\u001b[39m … \u001b[35mmax\u001b[39m\u001b[90m):  \u001b[39m\u001b[36m\u001b[1m111.299 ms\u001b[22m\u001b[39m … \u001b[35m124.473 ms\u001b[39m  \u001b[90m┊\u001b[39m GC \u001b[90m(\u001b[39mmin … max\u001b[90m): \u001b[39m89.59% … 90.38%\n",
       " Time  \u001b[90m(\u001b[39m\u001b[34m\u001b[1mmedian\u001b[22m\u001b[39m\u001b[90m):     \u001b[39m\u001b[34m\u001b[1m112.845 ms               \u001b[22m\u001b[39m\u001b[90m┊\u001b[39m GC \u001b[90m(\u001b[39mmedian\u001b[90m):    \u001b[39m89.47%\n",
       " Time  \u001b[90m(\u001b[39m\u001b[32m\u001b[1mmean\u001b[22m\u001b[39m ± \u001b[32mσ\u001b[39m\u001b[90m):   \u001b[39m\u001b[32m\u001b[1m115.111 ms\u001b[22m\u001b[39m ± \u001b[32m  4.098 ms\u001b[39m  \u001b[90m┊\u001b[39m GC \u001b[90m(\u001b[39mmean ± σ\u001b[90m):  \u001b[39m89.67% ±  0.33%\n",
       "\n",
       "  \u001b[39m \u001b[39m \u001b[39m▂\u001b[39m▆\u001b[39m█\u001b[39m \u001b[39m \u001b[34m \u001b[39m\u001b[39m \u001b[39m \u001b[39m \u001b[39m \u001b[39m \u001b[39m \u001b[39m \u001b[39m \u001b[39m \u001b[39m \u001b[32m \u001b[39m\u001b[39m \u001b[39m \u001b[39m \u001b[39m \u001b[39m \u001b[39m \u001b[39m \u001b[39m \u001b[39m \u001b[39m \u001b[39m \u001b[39m \u001b[39m \u001b[39m \u001b[39m \u001b[39m \u001b[39m \u001b[39m \u001b[39m \u001b[39m \u001b[39m \u001b[39m \u001b[39m \u001b[39m \u001b[39m \u001b[39m \u001b[39m \u001b[39m \u001b[39m \u001b[39m \u001b[39m \u001b[39m \u001b[39m \u001b[39m \u001b[39m \u001b[39m \u001b[39m \u001b[39m \u001b[39m \u001b[39m \u001b[39m \u001b[39m \u001b[39m \u001b[39m \n",
       "  \u001b[39m█\u001b[39m▁\u001b[39m█\u001b[39m█\u001b[39m█\u001b[39m▄\u001b[39m▁\u001b[34m▆\u001b[39m\u001b[39m▆\u001b[39m▄\u001b[39m▄\u001b[39m▁\u001b[39m▁\u001b[39m▄\u001b[39m▁\u001b[39m▁\u001b[39m▁\u001b[39m▁\u001b[32m▄\u001b[39m\u001b[39m▁\u001b[39m▄\u001b[39m▁\u001b[39m▄\u001b[39m▁\u001b[39m▁\u001b[39m▁\u001b[39m▁\u001b[39m▄\u001b[39m▁\u001b[39m▁\u001b[39m▁\u001b[39m▁\u001b[39m▆\u001b[39m▁\u001b[39m▁\u001b[39m▁\u001b[39m▁\u001b[39m▁\u001b[39m▁\u001b[39m▁\u001b[39m▁\u001b[39m▆\u001b[39m▁\u001b[39m▄\u001b[39m▁\u001b[39m▄\u001b[39m▁\u001b[39m▁\u001b[39m▆\u001b[39m▄\u001b[39m▁\u001b[39m▄\u001b[39m▁\u001b[39m▁\u001b[39m▁\u001b[39m▁\u001b[39m▄\u001b[39m▁\u001b[39m▁\u001b[39m▁\u001b[39m▄\u001b[39m \u001b[39m▁\n",
       "  111 ms\u001b[90m           Histogram: frequency by time\u001b[39m          124 ms \u001b[0m\u001b[1m<\u001b[22m\n",
       "\n",
       " Memory estimate\u001b[90m: \u001b[39m\u001b[33m58.48 MiB\u001b[39m, allocs estimate\u001b[90m: \u001b[39m\u001b[33m158\u001b[39m."
      ]
     },
     "execution_count": 21,
     "metadata": {},
     "output_type": "execute_result"
    }
   ],
   "source": [
    "@benchmark select($df, [:Passengers, :Seats, :Flights] => get_occupied2 => :occupied)"
   ]
  },
  {
   "cell_type": "markdown",
   "metadata": {},
   "source": [
    "As you can see DataFrames.jl does a decent job in this case - the option with `ByRow` is a tad faster than the broadcasting approach."
   ]
  },
  {
   "cell_type": "markdown",
   "metadata": {},
   "source": [
    "A crucial value of piping with `@chain` is that it composes also with functions outside of DataFrames.jl package.\n",
    "\n",
    "Here is a simple example in which we will plot the total number of passengers that flew by year:"
   ]
  },
  {
   "cell_type": "code",
   "execution_count": 22,
   "metadata": {
    "scrolled": false
   },
   "outputs": [
    {
     "ename": "LoadError",
     "evalue": "UndefVarError: `plot` not defined",
     "output_type": "error",
     "traceback": [
      "UndefVarError: `plot` not defined",
      "",
      "Stacktrace:",
      " [1] top-level scope",
      "   @ In[22]:4"
     ]
    }
   ],
   "source": [
    "@chain df2 begin\n",
    "    groupby(:year, sort=true)\n",
    "    combine(:Passengers => sum)\n",
    "    plot(_.year, _.Passengers_sum ./ 10^6, legend=nothing,\n",
    "         xlab=\"year\", ylab=\"passengers (in millions)\")\n",
    "end"
   ]
  },
  {
   "cell_type": "markdown",
   "metadata": {},
   "source": [
    "I particular note that `_` notation from Chain.jl package allows you to write any valid code you could use on the passed value. In our case `plot` is passed a `DataFrame`, so we e.g. write `_.year` to get a `:year` column from it."
   ]
  },
  {
   "cell_type": "markdown",
   "metadata": {},
   "source": [
    "In the following example we will want to find pairs of origin-destination states that have the highest occupancy:"
   ]
  },
  {
   "cell_type": "code",
   "execution_count": 23,
   "metadata": {
    "scrolled": true
   },
   "outputs": [
    {
     "data": {
      "text/html": [
       "<div><div style = \"float: left;\"><span>2369×4 DataFrame</span></div><div style = \"float: right;\"><span style = \"font-style: italic;\">2344 rows omitted</span></div><div style = \"clear: both;\"></div></div><div class = \"data-frame\" style = \"overflow-x: scroll;\"><table class = \"data-frame\" style = \"margin-bottom: 6px;\"><thead><tr class = \"header\"><th class = \"rowNumber\" style = \"font-weight: bold; text-align: right;\">Row</th><th style = \"text-align: left;\">ost</th><th style = \"text-align: left;\">dst</th><th style = \"text-align: left;\">occupied</th><th style = \"text-align: left;\">Passengers_sum</th></tr><tr class = \"subheader headerLastRow\"><th class = \"rowNumber\" style = \"font-weight: bold; text-align: right;\"></th><th title = \"String31\" style = \"text-align: left;\">String31</th><th title = \"String31\" style = \"text-align: left;\">String31</th><th title = \"Float64\" style = \"text-align: left;\">Float64</th><th title = \"Int64\" style = \"text-align: left;\">Int64</th></tr></thead><tbody><tr><td class = \"rowNumber\" style = \"font-weight: bold; text-align: right;\">1</td><td style = \"text-align: left;\">NE</td><td style = \"text-align: left;\">AK</td><td style = \"text-align: right;\">1.0</td><td style = \"text-align: right;\">180</td></tr><tr><td class = \"rowNumber\" style = \"font-weight: bold; text-align: right;\">2</td><td style = \"text-align: left;\">MD</td><td style = \"text-align: left;\">ID</td><td style = \"text-align: right;\">1.0</td><td style = \"text-align: right;\">150</td></tr><tr><td class = \"rowNumber\" style = \"font-weight: bold; text-align: right;\">3</td><td style = \"text-align: left;\">ID</td><td style = \"text-align: left;\">AR</td><td style = \"text-align: right;\">1.0</td><td style = \"text-align: right;\">124</td></tr><tr><td class = \"rowNumber\" style = \"font-weight: bold; text-align: right;\">4</td><td style = \"text-align: left;\">ID</td><td style = \"text-align: left;\">MS</td><td style = \"text-align: right;\">1.0</td><td style = \"text-align: right;\">181</td></tr><tr><td class = \"rowNumber\" style = \"font-weight: bold; text-align: right;\">5</td><td style = \"text-align: left;\">ND</td><td style = \"text-align: left;\">RI</td><td style = \"text-align: right;\">1.0</td><td style = \"text-align: right;\">50</td></tr><tr><td class = \"rowNumber\" style = \"font-weight: bold; text-align: right;\">6</td><td style = \"text-align: left;\">WY</td><td style = \"text-align: left;\">NY</td><td style = \"text-align: right;\">0.991935</td><td style = \"text-align: right;\">123</td></tr><tr><td class = \"rowNumber\" style = \"font-weight: bold; text-align: right;\">7</td><td style = \"text-align: left;\">OR</td><td style = \"text-align: left;\">RI</td><td style = \"text-align: right;\">0.991935</td><td style = \"text-align: right;\">123</td></tr><tr><td class = \"rowNumber\" style = \"font-weight: bold; text-align: right;\">8</td><td style = \"text-align: left;\">WV</td><td style = \"text-align: left;\">NE</td><td style = \"text-align: right;\">0.984615</td><td style = \"text-align: right;\">176</td></tr><tr><td class = \"rowNumber\" style = \"font-weight: bold; text-align: right;\">9</td><td style = \"text-align: left;\">KS</td><td style = \"text-align: left;\">ID</td><td style = \"text-align: right;\">0.983871</td><td style = \"text-align: right;\">122</td></tr><tr><td class = \"rowNumber\" style = \"font-weight: bold; text-align: right;\">10</td><td style = \"text-align: left;\">AK</td><td style = \"text-align: left;\">TN</td><td style = \"text-align: right;\">0.981723</td><td style = \"text-align: right;\">376</td></tr><tr><td class = \"rowNumber\" style = \"font-weight: bold; text-align: right;\">11</td><td style = \"text-align: left;\">NM</td><td style = \"text-align: left;\">KY</td><td style = \"text-align: right;\">0.979204</td><td style = \"text-align: right;\">285</td></tr><tr><td class = \"rowNumber\" style = \"font-weight: bold; text-align: right;\">12</td><td style = \"text-align: left;\">HI</td><td style = \"text-align: left;\">NE</td><td style = \"text-align: right;\">0.977472</td><td style = \"text-align: right;\">1327</td></tr><tr><td class = \"rowNumber\" style = \"font-weight: bold; text-align: right;\">13</td><td style = \"text-align: left;\">PA</td><td style = \"text-align: left;\">HI</td><td style = \"text-align: right;\">0.974296</td><td style = \"text-align: right;\">699</td></tr><tr><td style = \"text-align: right;\">&vellip;</td><td style = \"text-align: right;\">&vellip;</td><td style = \"text-align: right;\">&vellip;</td><td style = \"text-align: right;\">&vellip;</td><td style = \"text-align: right;\">&vellip;</td></tr><tr><td class = \"rowNumber\" style = \"font-weight: bold; text-align: right;\">2358</td><td style = \"text-align: left;\">CA</td><td style = \"text-align: left;\">WV</td><td style = \"text-align: right;\">0.0</td><td style = \"text-align: right;\">0</td></tr><tr><td class = \"rowNumber\" style = \"font-weight: bold; text-align: right;\">2359</td><td style = \"text-align: left;\">SD</td><td style = \"text-align: left;\">WV</td><td style = \"text-align: right;\">0.0</td><td style = \"text-align: right;\">0</td></tr><tr><td class = \"rowNumber\" style = \"font-weight: bold; text-align: right;\">2360</td><td style = \"text-align: left;\">ND</td><td style = \"text-align: left;\">WV</td><td style = \"text-align: right;\">0.0</td><td style = \"text-align: right;\">0</td></tr><tr><td class = \"rowNumber\" style = \"font-weight: bold; text-align: right;\">2361</td><td style = \"text-align: left;\">AK</td><td style = \"text-align: left;\">PA</td><td style = \"text-align: right;\">0.0</td><td style = \"text-align: right;\">0</td></tr><tr><td class = \"rowNumber\" style = \"font-weight: bold; text-align: right;\">2362</td><td style = \"text-align: left;\">VT</td><td style = \"text-align: left;\">LA</td><td style = \"text-align: right;\">0.0</td><td style = \"text-align: right;\">0</td></tr><tr><td class = \"rowNumber\" style = \"font-weight: bold; text-align: right;\">2363</td><td style = \"text-align: left;\">RI</td><td style = \"text-align: left;\">RI</td><td style = \"text-align: right;\">0.0</td><td style = \"text-align: right;\">0</td></tr><tr><td class = \"rowNumber\" style = \"font-weight: bold; text-align: right;\">2364</td><td style = \"text-align: left;\">MN</td><td style = \"text-align: left;\">DE</td><td style = \"text-align: right;\">0.0</td><td style = \"text-align: right;\">0</td></tr><tr><td class = \"rowNumber\" style = \"font-weight: bold; text-align: right;\">2365</td><td style = \"text-align: left;\">AK</td><td style = \"text-align: left;\">AR</td><td style = \"text-align: right;\">0.0</td><td style = \"text-align: right;\">0</td></tr><tr><td class = \"rowNumber\" style = \"font-weight: bold; text-align: right;\">2366</td><td style = \"text-align: left;\">DE</td><td style = \"text-align: left;\">MN</td><td style = \"text-align: right;\">0.0</td><td style = \"text-align: right;\">0</td></tr><tr><td class = \"rowNumber\" style = \"font-weight: bold; text-align: right;\">2367</td><td style = \"text-align: left;\">AL</td><td style = \"text-align: left;\">SD</td><td style = \"text-align: right;\">0.0</td><td style = \"text-align: right;\">0</td></tr><tr><td class = \"rowNumber\" style = \"font-weight: bold; text-align: right;\">2368</td><td style = \"text-align: left;\">SC</td><td style = \"text-align: left;\">SD</td><td style = \"text-align: right;\">0.0</td><td style = \"text-align: right;\">0</td></tr><tr><td class = \"rowNumber\" style = \"font-weight: bold; text-align: right;\">2369</td><td style = \"text-align: left;\">AK</td><td style = \"text-align: left;\">VA</td><td style = \"text-align: right;\">0.0</td><td style = \"text-align: right;\">0</td></tr></tbody></table></div>"
      ],
      "text/latex": [
       "\\begin{tabular}{r|cccc}\n",
       "\t& ost & dst & occupied & Passengers\\_sum\\\\\n",
       "\t\\hline\n",
       "\t& String31 & String31 & Float64 & Int64\\\\\n",
       "\t\\hline\n",
       "\t1 & NE & AK & 1.0 & 180 \\\\\n",
       "\t2 & MD & ID & 1.0 & 150 \\\\\n",
       "\t3 & ID & AR & 1.0 & 124 \\\\\n",
       "\t4 & ID & MS & 1.0 & 181 \\\\\n",
       "\t5 & ND & RI & 1.0 & 50 \\\\\n",
       "\t6 & WY & NY & 0.991935 & 123 \\\\\n",
       "\t7 & OR & RI & 0.991935 & 123 \\\\\n",
       "\t8 & WV & NE & 0.984615 & 176 \\\\\n",
       "\t9 & KS & ID & 0.983871 & 122 \\\\\n",
       "\t10 & AK & TN & 0.981723 & 376 \\\\\n",
       "\t11 & NM & KY & 0.979204 & 285 \\\\\n",
       "\t12 & HI & NE & 0.977472 & 1327 \\\\\n",
       "\t13 & PA & HI & 0.974296 & 699 \\\\\n",
       "\t14 & SD & MS & 0.971098 & 168 \\\\\n",
       "\t15 & WV & NV & 0.970803 & 133 \\\\\n",
       "\t16 & MI & ID & 0.966667 & 145 \\\\\n",
       "\t17 & MS & SD & 0.965318 & 167 \\\\\n",
       "\t18 & MD & HI & 0.963899 & 267 \\\\\n",
       "\t19 & MT & OK & 0.959677 & 164 \\\\\n",
       "\t20 & OR & VA & 0.955169 & 653 \\\\\n",
       "\t21 & HI & SD & 0.954395 & 1050 \\\\\n",
       "\t22 & NE & HI & 0.953069 & 264 \\\\\n",
       "\t23 & WY & WI & 0.952528 & 458 \\\\\n",
       "\t24 & VA & HI & 0.942238 & 261 \\\\\n",
       "\t25 & KY & CO & 0.94 & 47 \\\\\n",
       "\t26 & WY & WV & 0.939394 & 124 \\\\\n",
       "\t27 & LA & DE & 0.939306 & 325 \\\\\n",
       "\t28 & NE & ME & 0.93617 & 132 \\\\\n",
       "\t29 & AL & DE & 0.934426 & 228 \\\\\n",
       "\t30 & MA & WY & 0.934337 & 1757 \\\\\n",
       "\t$\\dots$ & $\\dots$ & $\\dots$ & $\\dots$ & $\\dots$ \\\\\n",
       "\\end{tabular}\n"
      ],
      "text/plain": [
       "\u001b[1m2369×4 DataFrame\u001b[0m\n",
       "\u001b[1m  Row \u001b[0m│\u001b[1m ost      \u001b[0m\u001b[1m dst      \u001b[0m\u001b[1m occupied \u001b[0m\u001b[1m Passengers_sum \u001b[0m\n",
       "      │\u001b[90m String31 \u001b[0m\u001b[90m String31 \u001b[0m\u001b[90m Float64  \u001b[0m\u001b[90m Int64          \u001b[0m\n",
       "──────┼──────────────────────────────────────────────\n",
       "    1 │ NE        AK        1.0                  180\n",
       "    2 │ MD        ID        1.0                  150\n",
       "    3 │ ID        AR        1.0                  124\n",
       "    4 │ ID        MS        1.0                  181\n",
       "    5 │ ND        RI        1.0                   50\n",
       "    6 │ WY        NY        0.991935             123\n",
       "    7 │ OR        RI        0.991935             123\n",
       "    8 │ WV        NE        0.984615             176\n",
       "    9 │ KS        ID        0.983871             122\n",
       "   10 │ AK        TN        0.981723             376\n",
       "   11 │ NM        KY        0.979204             285\n",
       "  ⋮   │    ⋮         ⋮         ⋮            ⋮\n",
       " 2360 │ ND        WV        0.0                    0\n",
       " 2361 │ AK        PA        0.0                    0\n",
       " 2362 │ VT        LA        0.0                    0\n",
       " 2363 │ RI        RI        0.0                    0\n",
       " 2364 │ MN        DE        0.0                    0\n",
       " 2365 │ AK        AR        0.0                    0\n",
       " 2366 │ DE        MN        0.0                    0\n",
       " 2367 │ AL        SD        0.0                    0\n",
       " 2368 │ SC        SD        0.0                    0\n",
       " 2369 │ AK        VA        0.0                    0\n",
       "\u001b[36m                                    2348 rows omitted\u001b[0m"
      ]
     },
     "execution_count": 23,
     "metadata": {},
     "output_type": "execute_result"
    }
   ],
   "source": [
    "df3 = @chain df2 begin\n",
    "    groupby([:ost, :dst])\n",
    "    combine(:occupied => mean∘skipmissing => :occupied, :Passengers => sum)\n",
    "    filter!(:occupied => isfinite, _)\n",
    "    sort!(:occupied, rev=true)\n",
    "end"
   ]
  },
  {
   "cell_type": "markdown",
   "metadata": {},
   "source": [
    "In the above code note two things: we use `filter!` and `sort!` functions to process the data frame returned by `combine` in place (which reduces the number of allocations we make).\n",
    "\n",
    "Additionally note that when we aggregate `:occupied` column in `combine` using `mean∘skipmissing` then for some origin-destination state combinations we get zero observations, which produce `NaN`, so we filter them out using `isfinite` predicate."
   ]
  },
  {
   "cell_type": "markdown",
   "metadata": {},
   "source": [
    "Just to make sure what happens when we apply `mean∘skipmissing` to a vector containing only missing values consider the following simple example:"
   ]
  },
  {
   "cell_type": "code",
   "execution_count": 24,
   "metadata": {},
   "outputs": [
    {
     "data": {
      "text/html": [
       "<div><div style = \"float: left;\"><span>2×2 DataFrame</span></div><div style = \"clear: both;\"></div></div><div class = \"data-frame\" style = \"overflow-x: scroll;\"><table class = \"data-frame\" style = \"margin-bottom: 6px;\"><thead><tr class = \"header\"><th class = \"rowNumber\" style = \"font-weight: bold; text-align: right;\">Row</th><th style = \"text-align: left;\">g</th><th style = \"text-align: left;\">v_mean_skipmissing</th></tr><tr class = \"subheader headerLastRow\"><th class = \"rowNumber\" style = \"font-weight: bold; text-align: right;\"></th><th title = \"Int64\" style = \"text-align: left;\">Int64</th><th title = \"Float64\" style = \"text-align: left;\">Float64</th></tr></thead><tbody><tr><td class = \"rowNumber\" style = \"font-weight: bold; text-align: right;\">1</td><td style = \"text-align: right;\">1</td><td style = \"text-align: right;\">1.5</td></tr><tr><td class = \"rowNumber\" style = \"font-weight: bold; text-align: right;\">2</td><td style = \"text-align: right;\">2</td><td style = \"text-align: right;\">NaN</td></tr></tbody></table></div>"
      ],
      "text/latex": [
       "\\begin{tabular}{r|cc}\n",
       "\t& g & v\\_mean\\_skipmissing\\\\\n",
       "\t\\hline\n",
       "\t& Int64 & Float64\\\\\n",
       "\t\\hline\n",
       "\t1 & 1 & 1.5 \\\\\n",
       "\t2 & 2 & NaN \\\\\n",
       "\\end{tabular}\n"
      ],
      "text/plain": [
       "\u001b[1m2×2 DataFrame\u001b[0m\n",
       "\u001b[1m Row \u001b[0m│\u001b[1m g     \u001b[0m\u001b[1m v_mean_skipmissing \u001b[0m\n",
       "     │\u001b[90m Int64 \u001b[0m\u001b[90m Float64            \u001b[0m\n",
       "─────┼───────────────────────────\n",
       "   1 │     1                 1.5\n",
       "   2 │     2               NaN"
      ]
     },
     "execution_count": 24,
     "metadata": {},
     "output_type": "execute_result"
    }
   ],
   "source": [
    "@chain DataFrame(g=[1,1,2,2], v=[1,2,missing, missing]) begin\n",
    "    groupby(:g)\n",
    "    combine(:v => mean∘skipmissing)\n",
    "end"
   ]
  },
  {
   "cell_type": "markdown",
   "metadata": {},
   "source": [
    "As a final example let us consider the following case. Assume that you want to query the `df3` data frame by `:ost` and `:dst` columns very often.\n",
    "\n",
    "The simplest way to do it is to use `subset` as we have already discussed:"
   ]
  },
  {
   "cell_type": "code",
   "execution_count": 25,
   "metadata": {},
   "outputs": [
    {
     "data": {
      "text/html": [
       "<div><div style = \"float: left;\"><span>1×4 DataFrame</span></div><div style = \"clear: both;\"></div></div><div class = \"data-frame\" style = \"overflow-x: scroll;\"><table class = \"data-frame\" style = \"margin-bottom: 6px;\"><thead><tr class = \"header\"><th class = \"rowNumber\" style = \"font-weight: bold; text-align: right;\">Row</th><th style = \"text-align: left;\">ost</th><th style = \"text-align: left;\">dst</th><th style = \"text-align: left;\">occupied</th><th style = \"text-align: left;\">Passengers_sum</th></tr><tr class = \"subheader headerLastRow\"><th class = \"rowNumber\" style = \"font-weight: bold; text-align: right;\"></th><th title = \"String31\" style = \"text-align: left;\">String31</th><th title = \"String31\" style = \"text-align: left;\">String31</th><th title = \"Float64\" style = \"text-align: left;\">Float64</th><th title = \"Int64\" style = \"text-align: left;\">Int64</th></tr></thead><tbody><tr><td class = \"rowNumber\" style = \"font-weight: bold; text-align: right;\">1</td><td style = \"text-align: left;\">NE</td><td style = \"text-align: left;\">AK</td><td style = \"text-align: right;\">1.0</td><td style = \"text-align: right;\">180</td></tr></tbody></table></div>"
      ],
      "text/latex": [
       "\\begin{tabular}{r|cccc}\n",
       "\t& ost & dst & occupied & Passengers\\_sum\\\\\n",
       "\t\\hline\n",
       "\t& String31 & String31 & Float64 & Int64\\\\\n",
       "\t\\hline\n",
       "\t1 & NE & AK & 1.0 & 180 \\\\\n",
       "\\end{tabular}\n"
      ],
      "text/plain": [
       "\u001b[1m1×4 DataFrame\u001b[0m\n",
       "\u001b[1m Row \u001b[0m│\u001b[1m ost      \u001b[0m\u001b[1m dst      \u001b[0m\u001b[1m occupied \u001b[0m\u001b[1m Passengers_sum \u001b[0m\n",
       "     │\u001b[90m String31 \u001b[0m\u001b[90m String31 \u001b[0m\u001b[90m Float64  \u001b[0m\u001b[90m Int64          \u001b[0m\n",
       "─────┼──────────────────────────────────────────────\n",
       "   1 │ NE        AK             1.0             180"
      ]
     },
     "execution_count": 25,
     "metadata": {},
     "output_type": "execute_result"
    }
   ],
   "source": [
    "subset(df3, :ost => ByRow(==(\"NE\")), :dst => ByRow(==(\"AK\")))"
   ]
  },
  {
   "cell_type": "markdown",
   "metadata": {},
   "source": [
    "Now let us use a bit different technique. We `groupby` the `df3` data frame first:"
   ]
  },
  {
   "cell_type": "code",
   "execution_count": 26,
   "metadata": {},
   "outputs": [
    {
     "data": {
      "text/html": [
       "<p><b>GroupedDataFrame with 2369 groups based on keys: ost, dst</b></p><div><div style = \"float: left;\"><span>First Group (1 row): ost = &quot;NE&quot;, dst = &quot;AK&quot;</span></div><div style = \"clear: both;\"></div></div><div class = \"data-frame\" style = \"overflow-x: scroll;\"><table class = \"data-frame\" style = \"margin-bottom: 6px;\"><thead><tr class = \"header\"><th class = \"rowNumber\" style = \"font-weight: bold; text-align: right;\">Row</th><th style = \"text-align: left;\">ost</th><th style = \"text-align: left;\">dst</th><th style = \"text-align: left;\">occupied</th><th style = \"text-align: left;\">Passengers_sum</th></tr><tr class = \"subheader headerLastRow\"><th class = \"rowNumber\" style = \"font-weight: bold; text-align: right;\"></th><th title = \"String31\" style = \"text-align: left;\">String31</th><th title = \"String31\" style = \"text-align: left;\">String31</th><th title = \"Float64\" style = \"text-align: left;\">Float64</th><th title = \"Int64\" style = \"text-align: left;\">Int64</th></tr></thead><tbody><tr><td class = \"rowNumber\" style = \"font-weight: bold; text-align: right;\">1</td><td style = \"text-align: left;\">NE</td><td style = \"text-align: left;\">AK</td><td style = \"text-align: right;\">1.0</td><td style = \"text-align: right;\">180</td></tr></tbody></table></div><p>&vellip;</p><div><div style = \"float: left;\"><span>Last Group (1 row): ost = &quot;AK&quot;, dst = &quot;VA&quot;</span></div><div style = \"clear: both;\"></div></div><div class = \"data-frame\" style = \"overflow-x: scroll;\"><table class = \"data-frame\" style = \"margin-bottom: 6px;\"><thead><tr class = \"header\"><th class = \"rowNumber\" style = \"font-weight: bold; text-align: right;\">Row</th><th style = \"text-align: left;\">ost</th><th style = \"text-align: left;\">dst</th><th style = \"text-align: left;\">occupied</th><th style = \"text-align: left;\">Passengers_sum</th></tr><tr class = \"subheader headerLastRow\"><th class = \"rowNumber\" style = \"font-weight: bold; text-align: right;\"></th><th title = \"String31\" style = \"text-align: left;\">String31</th><th title = \"String31\" style = \"text-align: left;\">String31</th><th title = \"Float64\" style = \"text-align: left;\">Float64</th><th title = \"Int64\" style = \"text-align: left;\">Int64</th></tr></thead><tbody><tr><td class = \"rowNumber\" style = \"font-weight: bold; text-align: right;\">1</td><td style = \"text-align: left;\">AK</td><td style = \"text-align: left;\">VA</td><td style = \"text-align: right;\">0.0</td><td style = \"text-align: right;\">0</td></tr></tbody></table></div>"
      ],
      "text/latex": [
       "GroupedDataFrame with 2369 groups based on keys: ost, dst\n",
       "\n",
       "First Group (1 row): ost = \"NE\", dst = \"AK\"\n",
       "\n",
       "\\begin{tabular}{r|cccc}\n",
       "\t& ost & dst & occupied & Passengers\\_sum\\\\\n",
       "\t\\hline\n",
       "\t& String31 & String31 & Float64 & Int64\\\\\n",
       "\t\\hline\n",
       "\t1 & NE & AK & 1.0 & 180 \\\\\n",
       "\\end{tabular}\n",
       "\n",
       "$\\dots$\n",
       "\n",
       "Last Group (1 row): ost = \"AK\", dst = \"VA\"\n",
       "\n",
       "\\begin{tabular}{r|cccc}\n",
       "\t& ost & dst & occupied & Passengers\\_sum\\\\\n",
       "\t\\hline\n",
       "\t& String31 & String31 & Float64 & Int64\\\\\n",
       "\t\\hline\n",
       "\t1 & AK & VA & 0.0 & 0 \\\\\n",
       "\\end{tabular}\n"
      ],
      "text/plain": [
       "GroupedDataFrame with 2369 groups based on keys: ost, dst\n",
       "First Group (1 row): ost = \"NE\", dst = \"AK\"\n",
       "\u001b[1m Row \u001b[0m│\u001b[1m ost      \u001b[0m\u001b[1m dst      \u001b[0m\u001b[1m occupied \u001b[0m\u001b[1m Passengers_sum \u001b[0m\n",
       "     │\u001b[90m String31 \u001b[0m\u001b[90m String31 \u001b[0m\u001b[90m Float64  \u001b[0m\u001b[90m Int64          \u001b[0m\n",
       "─────┼──────────────────────────────────────────────\n",
       "   1 │ NE        AK             1.0             180\n",
       "⋮\n",
       "Last Group (1 row): ost = \"AK\", dst = \"VA\"\n",
       "\u001b[1m Row \u001b[0m│\u001b[1m ost      \u001b[0m\u001b[1m dst      \u001b[0m\u001b[1m occupied \u001b[0m\u001b[1m Passengers_sum \u001b[0m\n",
       "     │\u001b[90m String31 \u001b[0m\u001b[90m String31 \u001b[0m\u001b[90m Float64  \u001b[0m\u001b[90m Int64          \u001b[0m\n",
       "─────┼──────────────────────────────────────────────\n",
       "   1 │ AK        VA             0.0               0"
      ]
     },
     "execution_count": 26,
     "metadata": {},
     "output_type": "execute_result"
    }
   ],
   "source": [
    "gdf3 = groupby(df3, [:ost, :dst])"
   ]
  },
  {
   "cell_type": "markdown",
   "metadata": {},
   "source": [
    "Now we can easiliy query it by group values (here we show such indexing by `Tuple` or `NamedTuple`):"
   ]
  },
  {
   "cell_type": "code",
   "execution_count": 27,
   "metadata": {},
   "outputs": [
    {
     "data": {
      "text/html": [
       "<div><div style = \"float: left;\"><span>1×4 SubDataFrame</span></div><div style = \"clear: both;\"></div></div><div class = \"data-frame\" style = \"overflow-x: scroll;\"><table class = \"data-frame\" style = \"margin-bottom: 6px;\"><thead><tr class = \"header\"><th class = \"rowNumber\" style = \"font-weight: bold; text-align: right;\">Row</th><th style = \"text-align: left;\">ost</th><th style = \"text-align: left;\">dst</th><th style = \"text-align: left;\">occupied</th><th style = \"text-align: left;\">Passengers_sum</th></tr><tr class = \"subheader headerLastRow\"><th class = \"rowNumber\" style = \"font-weight: bold; text-align: right;\"></th><th title = \"String31\" style = \"text-align: left;\">String31</th><th title = \"String31\" style = \"text-align: left;\">String31</th><th title = \"Float64\" style = \"text-align: left;\">Float64</th><th title = \"Int64\" style = \"text-align: left;\">Int64</th></tr></thead><tbody><tr><td class = \"rowNumber\" style = \"font-weight: bold; text-align: right;\">1</td><td style = \"text-align: left;\">NE</td><td style = \"text-align: left;\">AK</td><td style = \"text-align: right;\">1.0</td><td style = \"text-align: right;\">180</td></tr></tbody></table></div>"
      ],
      "text/latex": [
       "\\begin{tabular}{r|cccc}\n",
       "\t& ost & dst & occupied & Passengers\\_sum\\\\\n",
       "\t\\hline\n",
       "\t& String31 & String31 & Float64 & Int64\\\\\n",
       "\t\\hline\n",
       "\t1 & NE & AK & 1.0 & 180 \\\\\n",
       "\\end{tabular}\n"
      ],
      "text/plain": [
       "\u001b[1m1×4 SubDataFrame\u001b[0m\n",
       "\u001b[1m Row \u001b[0m│\u001b[1m ost      \u001b[0m\u001b[1m dst      \u001b[0m\u001b[1m occupied \u001b[0m\u001b[1m Passengers_sum \u001b[0m\n",
       "     │\u001b[90m String31 \u001b[0m\u001b[90m String31 \u001b[0m\u001b[90m Float64  \u001b[0m\u001b[90m Int64          \u001b[0m\n",
       "─────┼──────────────────────────────────────────────\n",
       "   1 │ NE        AK             1.0             180"
      ]
     },
     "execution_count": 27,
     "metadata": {},
     "output_type": "execute_result"
    }
   ],
   "source": [
    "gdf3[(\"NE\", \"AK\")]"
   ]
  },
  {
   "cell_type": "code",
   "execution_count": 28,
   "metadata": {},
   "outputs": [
    {
     "data": {
      "text/html": [
       "<div><div style = \"float: left;\"><span>1×4 SubDataFrame</span></div><div style = \"clear: both;\"></div></div><div class = \"data-frame\" style = \"overflow-x: scroll;\"><table class = \"data-frame\" style = \"margin-bottom: 6px;\"><thead><tr class = \"header\"><th class = \"rowNumber\" style = \"font-weight: bold; text-align: right;\">Row</th><th style = \"text-align: left;\">ost</th><th style = \"text-align: left;\">dst</th><th style = \"text-align: left;\">occupied</th><th style = \"text-align: left;\">Passengers_sum</th></tr><tr class = \"subheader headerLastRow\"><th class = \"rowNumber\" style = \"font-weight: bold; text-align: right;\"></th><th title = \"String31\" style = \"text-align: left;\">String31</th><th title = \"String31\" style = \"text-align: left;\">String31</th><th title = \"Float64\" style = \"text-align: left;\">Float64</th><th title = \"Int64\" style = \"text-align: left;\">Int64</th></tr></thead><tbody><tr><td class = \"rowNumber\" style = \"font-weight: bold; text-align: right;\">1</td><td style = \"text-align: left;\">NE</td><td style = \"text-align: left;\">AK</td><td style = \"text-align: right;\">1.0</td><td style = \"text-align: right;\">180</td></tr></tbody></table></div>"
      ],
      "text/latex": [
       "\\begin{tabular}{r|cccc}\n",
       "\t& ost & dst & occupied & Passengers\\_sum\\\\\n",
       "\t\\hline\n",
       "\t& String31 & String31 & Float64 & Int64\\\\\n",
       "\t\\hline\n",
       "\t1 & NE & AK & 1.0 & 180 \\\\\n",
       "\\end{tabular}\n"
      ],
      "text/plain": [
       "\u001b[1m1×4 SubDataFrame\u001b[0m\n",
       "\u001b[1m Row \u001b[0m│\u001b[1m ost      \u001b[0m\u001b[1m dst      \u001b[0m\u001b[1m occupied \u001b[0m\u001b[1m Passengers_sum \u001b[0m\n",
       "     │\u001b[90m String31 \u001b[0m\u001b[90m String31 \u001b[0m\u001b[90m Float64  \u001b[0m\u001b[90m Int64          \u001b[0m\n",
       "─────┼──────────────────────────────────────────────\n",
       "   1 │ NE        AK             1.0             180"
      ]
     },
     "execution_count": 28,
     "metadata": {},
     "output_type": "execute_result"
    }
   ],
   "source": [
    "gdf3[(ost=\"NE\", dst=\"AK\")]"
   ]
  },
  {
   "cell_type": "markdown",
   "metadata": {},
   "source": [
    "Note that you can use `keys` on `GroupedDataFrame`:"
   ]
  },
  {
   "cell_type": "code",
   "execution_count": 29,
   "metadata": {},
   "outputs": [
    {
     "data": {
      "text/plain": [
       "2369-element DataFrames.GroupKeys{GroupedDataFrame{DataFrame}}:\n",
       " GroupKey: (ost = String31(\"NE\"), dst = String31(\"AK\"))\n",
       " GroupKey: (ost = String31(\"MD\"), dst = String31(\"ID\"))\n",
       " GroupKey: (ost = String31(\"ID\"), dst = String31(\"AR\"))\n",
       " GroupKey: (ost = String31(\"ID\"), dst = String31(\"MS\"))\n",
       " GroupKey: (ost = String31(\"ND\"), dst = String31(\"RI\"))\n",
       " GroupKey: (ost = String31(\"WY\"), dst = String31(\"NY\"))\n",
       " GroupKey: (ost = String31(\"OR\"), dst = String31(\"RI\"))\n",
       " GroupKey: (ost = String31(\"WV\"), dst = String31(\"NE\"))\n",
       " GroupKey: (ost = String31(\"KS\"), dst = String31(\"ID\"))\n",
       " GroupKey: (ost = String31(\"AK\"), dst = String31(\"TN\"))\n",
       " GroupKey: (ost = String31(\"NM\"), dst = String31(\"KY\"))\n",
       " GroupKey: (ost = String31(\"HI\"), dst = String31(\"NE\"))\n",
       " GroupKey: (ost = String31(\"PA\"), dst = String31(\"HI\"))\n",
       " ⋮\n",
       " GroupKey: (ost = String31(\"CA\"), dst = String31(\"WV\"))\n",
       " GroupKey: (ost = String31(\"SD\"), dst = String31(\"WV\"))\n",
       " GroupKey: (ost = String31(\"ND\"), dst = String31(\"WV\"))\n",
       " GroupKey: (ost = String31(\"AK\"), dst = String31(\"PA\"))\n",
       " GroupKey: (ost = String31(\"VT\"), dst = String31(\"LA\"))\n",
       " GroupKey: (ost = String31(\"RI\"), dst = String31(\"RI\"))\n",
       " GroupKey: (ost = String31(\"MN\"), dst = String31(\"DE\"))\n",
       " GroupKey: (ost = String31(\"AK\"), dst = String31(\"AR\"))\n",
       " GroupKey: (ost = String31(\"DE\"), dst = String31(\"MN\"))\n",
       " GroupKey: (ost = String31(\"AL\"), dst = String31(\"SD\"))\n",
       " GroupKey: (ost = String31(\"SC\"), dst = String31(\"SD\"))\n",
       " GroupKey: (ost = String31(\"AK\"), dst = String31(\"VA\"))"
      ]
     },
     "execution_count": 29,
     "metadata": {},
     "output_type": "execute_result"
    }
   ],
   "source": [
    "keys(gdf3)"
   ]
  },
  {
   "cell_type": "markdown",
   "metadata": {},
   "source": [
    "In this way we got only the origin-destination state combinations that are actually present in our `GroupedDataFrame`."
   ]
  },
  {
   "cell_type": "markdown",
   "metadata": {},
   "source": [
    "The ability to query a `GroupedDataFrame` by grouping columns fast makes it a very useful way to add an index to a data frame."
   ]
  },
  {
   "cell_type": "markdown",
   "metadata": {},
   "source": [
    "It is also fast"
   ]
  },
  {
   "cell_type": "code",
   "execution_count": 30,
   "metadata": {},
   "outputs": [
    {
     "data": {
      "text/plain": [
       "BenchmarkTools.Trial: 10000 samples with 1 evaluation.\n",
       " Range \u001b[90m(\u001b[39m\u001b[36m\u001b[1mmin\u001b[22m\u001b[39m … \u001b[35mmax\u001b[39m\u001b[90m):  \u001b[39m\u001b[36m\u001b[1m 68.083 μs\u001b[22m\u001b[39m … \u001b[35m109.170 ms\u001b[39m  \u001b[90m┊\u001b[39m GC \u001b[90m(\u001b[39mmin … max\u001b[90m): \u001b[39m 0.00% … 99.85%\n",
       " Time  \u001b[90m(\u001b[39m\u001b[34m\u001b[1mmedian\u001b[22m\u001b[39m\u001b[90m):     \u001b[39m\u001b[34m\u001b[1m 69.958 μs               \u001b[22m\u001b[39m\u001b[90m┊\u001b[39m GC \u001b[90m(\u001b[39mmedian\u001b[90m):    \u001b[39m 0.00%\n",
       " Time  \u001b[90m(\u001b[39m\u001b[32m\u001b[1mmean\u001b[22m\u001b[39m ± \u001b[32mσ\u001b[39m\u001b[90m):   \u001b[39m\u001b[32m\u001b[1m133.015 μs\u001b[22m\u001b[39m ± \u001b[32m  2.555 ms\u001b[39m  \u001b[90m┊\u001b[39m GC \u001b[90m(\u001b[39mmean ± σ\u001b[90m):  \u001b[39m47.01% ±  2.45%\n",
       "\n",
       "  \u001b[39m \u001b[39m \u001b[39m \u001b[39m \u001b[39m \u001b[39m \u001b[39m▁\u001b[39m▅\u001b[39m▄\u001b[39m█\u001b[39m▅\u001b[39m█\u001b[39m▇\u001b[34m▃\u001b[39m\u001b[39m▅\u001b[39m▁\u001b[39m▃\u001b[39m \u001b[39m \u001b[39m \u001b[39m \u001b[39m \u001b[39m \u001b[39m \u001b[39m \u001b[39m \u001b[39m \u001b[39m \u001b[39m \u001b[39m \u001b[39m \u001b[39m \u001b[39m \u001b[39m \u001b[39m \u001b[39m \u001b[39m \u001b[39m \u001b[39m \u001b[39m \u001b[39m \u001b[39m \u001b[39m \u001b[39m \u001b[39m \u001b[39m \u001b[39m \u001b[39m \u001b[39m \u001b[39m \u001b[39m \u001b[39m \u001b[39m \u001b[39m \u001b[39m \u001b[39m \u001b[39m \u001b[39m \u001b[39m \u001b[39m \u001b[39m \u001b[39m \u001b[39m \n",
       "  \u001b[39m▂\u001b[39m▂\u001b[39m▂\u001b[39m▄\u001b[39m▄\u001b[39m█\u001b[39m█\u001b[39m█\u001b[39m█\u001b[39m█\u001b[39m█\u001b[39m█\u001b[39m█\u001b[34m█\u001b[39m\u001b[39m█\u001b[39m█\u001b[39m█\u001b[39m▇\u001b[39m█\u001b[39m▆\u001b[39m▆\u001b[39m▄\u001b[39m▄\u001b[39m▄\u001b[39m▄\u001b[39m▃\u001b[39m▃\u001b[39m▄\u001b[39m▃\u001b[39m▄\u001b[39m▃\u001b[39m▃\u001b[39m▃\u001b[39m▃\u001b[39m▃\u001b[39m▃\u001b[39m▃\u001b[39m▂\u001b[39m▃\u001b[39m▂\u001b[39m▂\u001b[39m▂\u001b[39m▂\u001b[39m▂\u001b[39m▂\u001b[39m▂\u001b[39m▂\u001b[39m▂\u001b[39m▂\u001b[39m▂\u001b[39m▂\u001b[39m▂\u001b[39m▂\u001b[39m▂\u001b[39m▂\u001b[39m▂\u001b[39m▁\u001b[39m▂\u001b[39m▂\u001b[39m▂\u001b[39m▂\u001b[39m \u001b[39m▄\n",
       "  68.1 μs\u001b[90m          Histogram: frequency by time\u001b[39m         77.1 μs \u001b[0m\u001b[1m<\u001b[22m\n",
       "\n",
       " Memory estimate\u001b[90m: \u001b[39m\u001b[33m28.91 KiB\u001b[39m, allocs estimate\u001b[90m: \u001b[39m\u001b[33m350\u001b[39m."
      ]
     },
     "execution_count": 30,
     "metadata": {},
     "output_type": "execute_result"
    }
   ],
   "source": [
    "@benchmark subset(df3, :ost => ByRow(==(\"NE\")), :dst => ByRow(==(\"AK\")))"
   ]
  },
  {
   "cell_type": "code",
   "execution_count": 31,
   "metadata": {},
   "outputs": [
    {
     "data": {
      "text/plain": [
       "BenchmarkTools.Trial: 10000 samples with 182 evaluations.\n",
       " Range \u001b[90m(\u001b[39m\u001b[36m\u001b[1mmin\u001b[22m\u001b[39m … \u001b[35mmax\u001b[39m\u001b[90m):  \u001b[39m\u001b[36m\u001b[1m573.264 ns\u001b[22m\u001b[39m … \u001b[35m587.990 μs\u001b[39m  \u001b[90m┊\u001b[39m GC \u001b[90m(\u001b[39mmin … max\u001b[90m): \u001b[39m 0.00% … 99.85%\n",
       " Time  \u001b[90m(\u001b[39m\u001b[34m\u001b[1mmedian\u001b[22m\u001b[39m\u001b[90m):     \u001b[39m\u001b[34m\u001b[1m600.275 ns               \u001b[22m\u001b[39m\u001b[90m┊\u001b[39m GC \u001b[90m(\u001b[39mmedian\u001b[90m):    \u001b[39m 0.00%\n",
       " Time  \u001b[90m(\u001b[39m\u001b[32m\u001b[1mmean\u001b[22m\u001b[39m ± \u001b[32mσ\u001b[39m\u001b[90m):   \u001b[39m\u001b[32m\u001b[1m  1.288 μs\u001b[22m\u001b[39m ± \u001b[32m 19.813 μs\u001b[39m  \u001b[90m┊\u001b[39m GC \u001b[90m(\u001b[39mmean ± σ\u001b[90m):  \u001b[39m53.28% ±  3.46%\n",
       "\n",
       "  \u001b[39m \u001b[39m \u001b[39m \u001b[39m \u001b[39m \u001b[39m \u001b[39m \u001b[39m \u001b[39m \u001b[39m \u001b[39m \u001b[39m \u001b[39m \u001b[39m \u001b[39m \u001b[39m \u001b[39m▃\u001b[39m▄\u001b[39m▆\u001b[39m▆\u001b[39m▄\u001b[39m█\u001b[39m▇\u001b[39m█\u001b[39m▆\u001b[34m▄\u001b[39m\u001b[39m▅\u001b[39m▇\u001b[39m▆\u001b[39m▄\u001b[39m▂\u001b[39m▁\u001b[39m▁\u001b[39m \u001b[39m \u001b[39m \u001b[39m \u001b[39m \u001b[39m \u001b[39m \u001b[39m \u001b[39m \u001b[39m \u001b[39m \u001b[39m \u001b[39m \u001b[39m \u001b[39m \u001b[39m \u001b[39m \u001b[39m \u001b[39m \u001b[39m \u001b[39m \u001b[39m \u001b[39m \u001b[39m \u001b[39m \u001b[39m \u001b[39m \u001b[39m \u001b[39m \u001b[39m \n",
       "  \u001b[39m▂\u001b[39m▁\u001b[39m▂\u001b[39m▂\u001b[39m▂\u001b[39m▂\u001b[39m▂\u001b[39m▃\u001b[39m▃\u001b[39m▃\u001b[39m▄\u001b[39m▅\u001b[39m▆\u001b[39m▆\u001b[39m█\u001b[39m█\u001b[39m█\u001b[39m█\u001b[39m█\u001b[39m█\u001b[39m█\u001b[39m█\u001b[39m█\u001b[39m█\u001b[39m█\u001b[34m█\u001b[39m\u001b[39m█\u001b[39m█\u001b[39m█\u001b[39m█\u001b[39m█\u001b[39m█\u001b[39m█\u001b[39m█\u001b[39m▇\u001b[39m▆\u001b[39m▇\u001b[39m▅\u001b[39m▅\u001b[39m▅\u001b[39m▄\u001b[39m▄\u001b[39m▃\u001b[39m▄\u001b[39m▃\u001b[39m▃\u001b[39m▃\u001b[39m▃\u001b[39m▃\u001b[39m▂\u001b[39m▂\u001b[39m▂\u001b[39m▃\u001b[39m▂\u001b[39m▂\u001b[39m▂\u001b[39m▂\u001b[39m▂\u001b[39m▂\u001b[39m▂\u001b[39m▂\u001b[39m \u001b[39m▅\n",
       "  573 ns\u001b[90m           Histogram: frequency by time\u001b[39m          640 ns \u001b[0m\u001b[1m<\u001b[22m\n",
       "\n",
       " Memory estimate\u001b[90m: \u001b[39m\u001b[33m304 bytes\u001b[39m, allocs estimate\u001b[90m: \u001b[39m\u001b[33m12\u001b[39m."
      ]
     },
     "execution_count": 31,
     "metadata": {},
     "output_type": "execute_result"
    }
   ],
   "source": [
    "@benchmark gdf3[(\"NE\", \"AK\")]"
   ]
  },
  {
   "cell_type": "markdown",
   "metadata": {},
   "source": [
    "## Custom Transforms\n",
    "\n",
    "* We have seen that with the `transform(d, :var1 => fun)` construct we can easily transform one or more columns.\n",
    "* We have also seen the `ByRow` wrapper, which is a shorthand for broadcasting a scalar operation over an entire column.\n",
    "* Some transformations are more involved, however. Imagine, we would like to answer the question \n",
    "\n",
    "> Which origin state had the largest share of transported passengers by year? Like, what percentage of passengers transported by air, where departing from which state?\n",
    "\n",
    "1. Of course looking at absolute numbers (rather than shares) would inform us equally well here. The point is that in Economics we often work with *shares*, hence we want to know how to compute those.\n",
    "2. A *share* is a number that you divide by a *(group) total*. So, here we will group by *year*, and within each year, we will count passengers departing from all airports, and we will compute the corresponding shares.\n",
    "\n",
    "### Steps\n",
    "\n",
    "1. aggregate passengers to (origin-)state-year level\n",
    "2. for each year, compute total number of passengers, and compute according share for each state.\n"
   ]
  },
  {
   "cell_type": "code",
   "execution_count": 32,
   "metadata": {},
   "outputs": [],
   "source": [
    "df4 = @chain df2 begin\n",
    "    groupby([:ost, :year])\n",
    "    combine(:Passengers => sum)\n",
    "    groupby(:year)\n",
    "    transform(:Passengers_sum => (x -> 100 * (x ./ sum(x))) => :passenger_share)\n",
    "    sort(:year)\n",
    "end;"
   ]
  },
  {
   "cell_type": "code",
   "execution_count": 33,
   "metadata": {},
   "outputs": [
    {
     "data": {
      "text/html": [
       "<div><div style = \"float: left;\"><span>1017×4 DataFrame</span></div><div style = \"float: right;\"><span style = \"font-style: italic;\">992 rows omitted</span></div><div style = \"clear: both;\"></div></div><div class = \"data-frame\" style = \"overflow-x: scroll;\"><table class = \"data-frame\" style = \"margin-bottom: 6px;\"><thead><tr class = \"header\"><th class = \"rowNumber\" style = \"font-weight: bold; text-align: right;\">Row</th><th style = \"text-align: left;\">ost</th><th style = \"text-align: left;\">year</th><th style = \"text-align: left;\">Passengers_sum</th><th style = \"text-align: left;\">passenger_share</th></tr><tr class = \"subheader headerLastRow\"><th class = \"rowNumber\" style = \"font-weight: bold; text-align: right;\"></th><th title = \"String31\" style = \"text-align: left;\">String31</th><th title = \"Int64\" style = \"text-align: left;\">Int64</th><th title = \"Int64\" style = \"text-align: left;\">Int64</th><th title = \"Float64\" style = \"text-align: left;\">Float64</th></tr></thead><tbody><tr><td class = \"rowNumber\" style = \"font-weight: bold; text-align: right;\">1</td><td style = \"text-align: left;\">OR</td><td style = \"text-align: right;\">1990</td><td style = \"text-align: right;\">3423079</td><td style = \"text-align: right;\">0.924146</td></tr><tr><td class = \"rowNumber\" style = \"font-weight: bold; text-align: right;\">2</td><td style = \"text-align: left;\">WA</td><td style = \"text-align: right;\">1990</td><td style = \"text-align: right;\">7849573</td><td style = \"text-align: right;\">2.11919</td></tr><tr><td class = \"rowNumber\" style = \"font-weight: bold; text-align: right;\">3</td><td style = \"text-align: left;\">CA</td><td style = \"text-align: right;\">1990</td><td style = \"text-align: right;\">36295764</td><td style = \"text-align: right;\">9.79896</td></tr><tr><td class = \"rowNumber\" style = \"font-weight: bold; text-align: right;\">4</td><td style = \"text-align: left;\">PA</td><td style = \"text-align: right;\">1990</td><td style = \"text-align: right;\">15585194</td><td style = \"text-align: right;\">4.20762</td></tr><tr><td class = \"rowNumber\" style = \"font-weight: bold; text-align: right;\">5</td><td style = \"text-align: left;\">OH</td><td style = \"text-align: right;\">1990</td><td style = \"text-align: right;\">12016758</td><td style = \"text-align: right;\">3.24423</td></tr><tr><td class = \"rowNumber\" style = \"font-weight: bold; text-align: right;\">6</td><td style = \"text-align: left;\">MA</td><td style = \"text-align: right;\">1990</td><td style = \"text-align: right;\">8855285</td><td style = \"text-align: right;\">2.39071</td></tr><tr><td class = \"rowNumber\" style = \"font-weight: bold; text-align: right;\">7</td><td style = \"text-align: left;\">NY</td><td style = \"text-align: right;\">1990</td><td style = \"text-align: right;\">20384500</td><td style = \"text-align: right;\">5.50331</td></tr><tr><td class = \"rowNumber\" style = \"font-weight: bold; text-align: right;\">8</td><td style = \"text-align: left;\">GA</td><td style = \"text-align: right;\">1990</td><td style = \"text-align: right;\">21422086</td><td style = \"text-align: right;\">5.78343</td></tr><tr><td class = \"rowNumber\" style = \"font-weight: bold; text-align: right;\">9</td><td style = \"text-align: left;\">IL</td><td style = \"text-align: right;\">1990</td><td style = \"text-align: right;\">26672408</td><td style = \"text-align: right;\">7.20089</td></tr><tr><td class = \"rowNumber\" style = \"font-weight: bold; text-align: right;\">10</td><td style = \"text-align: left;\">NV</td><td style = \"text-align: right;\">1990</td><td style = \"text-align: right;\">7723686</td><td style = \"text-align: right;\">2.0852</td></tr><tr><td class = \"rowNumber\" style = \"font-weight: bold; text-align: right;\">11</td><td style = \"text-align: left;\">HI</td><td style = \"text-align: right;\">1990</td><td style = \"text-align: right;\">9022184</td><td style = \"text-align: right;\">2.43577</td></tr><tr><td class = \"rowNumber\" style = \"font-weight: bold; text-align: right;\">12</td><td style = \"text-align: left;\">MI</td><td style = \"text-align: right;\">1990</td><td style = \"text-align: right;\">10653830</td><td style = \"text-align: right;\">2.87627</td></tr><tr><td class = \"rowNumber\" style = \"font-weight: bold; text-align: right;\">13</td><td style = \"text-align: left;\">NM</td><td style = \"text-align: right;\">1990</td><td style = \"text-align: right;\">2492290</td><td style = \"text-align: right;\">0.672856</td></tr><tr><td style = \"text-align: right;\">&vellip;</td><td style = \"text-align: right;\">&vellip;</td><td style = \"text-align: right;\">&vellip;</td><td style = \"text-align: right;\">&vellip;</td><td style = \"text-align: right;\">&vellip;</td></tr><tr><td class = \"rowNumber\" style = \"font-weight: bold; text-align: right;\">1006</td><td style = \"text-align: left;\">NC</td><td style = \"text-align: right;\">2009</td><td style = \"text-align: right;\">21425022</td><td style = \"text-align: right;\">4.07086</td></tr><tr><td class = \"rowNumber\" style = \"font-weight: bold; text-align: right;\">1007</td><td style = \"text-align: left;\">DC</td><td style = \"text-align: right;\">2009</td><td style = \"text-align: right;\">15560021</td><td style = \"text-align: right;\">2.95648</td></tr><tr><td class = \"rowNumber\" style = \"font-weight: bold; text-align: right;\">1008</td><td style = \"text-align: left;\">MD</td><td style = \"text-align: right;\">2009</td><td style = \"text-align: right;\">9584532</td><td style = \"text-align: right;\">1.82111</td></tr><tr><td class = \"rowNumber\" style = \"font-weight: bold; text-align: right;\">1009</td><td style = \"text-align: left;\">AK</td><td style = \"text-align: right;\">2009</td><td style = \"text-align: right;\">2501331</td><td style = \"text-align: right;\">0.475265</td></tr><tr><td class = \"rowNumber\" style = \"font-weight: bold; text-align: right;\">1010</td><td style = \"text-align: left;\">DE</td><td style = \"text-align: right;\">2009</td><td style = \"text-align: right;\">760</td><td style = \"text-align: right;\">0.000144404</td></tr><tr><td class = \"rowNumber\" style = \"font-weight: bold; text-align: right;\">1011</td><td style = \"text-align: left;\">SD</td><td style = \"text-align: right;\">2009</td><td style = \"text-align: right;\">462001</td><td style = \"text-align: right;\">0.0877825</td></tr><tr><td class = \"rowNumber\" style = \"font-weight: bold; text-align: right;\">1012</td><td style = \"text-align: left;\">RI</td><td style = \"text-align: right;\">2009</td><td style = \"text-align: right;\">2142756</td><td style = \"text-align: right;\">0.407134</td></tr><tr><td class = \"rowNumber\" style = \"font-weight: bold; text-align: right;\">1013</td><td style = \"text-align: left;\">ME</td><td style = \"text-align: right;\">2009</td><td style = \"text-align: right;\">1078261</td><td style = \"text-align: right;\">0.204875</td></tr><tr><td class = \"rowNumber\" style = \"font-weight: bold; text-align: right;\">1014</td><td style = \"text-align: left;\">NH</td><td style = \"text-align: right;\">2009</td><td style = \"text-align: right;\">1572435</td><td style = \"text-align: right;\">0.298771</td></tr><tr><td class = \"rowNumber\" style = \"font-weight: bold; text-align: right;\">1015</td><td style = \"text-align: left;\">WY</td><td style = \"text-align: right;\">2009</td><td style = \"text-align: right;\">241103</td><td style = \"text-align: right;\">0.0458108</td></tr><tr><td class = \"rowNumber\" style = \"font-weight: bold; text-align: right;\">1016</td><td style = \"text-align: left;\">WV</td><td style = \"text-align: right;\">2009</td><td style = \"text-align: right;\">268206</td><td style = \"text-align: right;\">0.0509605</td></tr><tr><td class = \"rowNumber\" style = \"font-weight: bold; text-align: right;\">1017</td><td style = \"text-align: left;\">VT</td><td style = \"text-align: right;\">2009</td><td style = \"text-align: right;\">702605</td><td style = \"text-align: right;\">0.133498</td></tr></tbody></table></div>"
      ],
      "text/latex": [
       "\\begin{tabular}{r|cccc}\n",
       "\t& ost & year & Passengers\\_sum & passenger\\_share\\\\\n",
       "\t\\hline\n",
       "\t& String31 & Int64 & Int64 & Float64\\\\\n",
       "\t\\hline\n",
       "\t1 & OR & 1990 & 3423079 & 0.924146 \\\\\n",
       "\t2 & WA & 1990 & 7849573 & 2.11919 \\\\\n",
       "\t3 & CA & 1990 & 36295764 & 9.79896 \\\\\n",
       "\t4 & PA & 1990 & 15585194 & 4.20762 \\\\\n",
       "\t5 & OH & 1990 & 12016758 & 3.24423 \\\\\n",
       "\t6 & MA & 1990 & 8855285 & 2.39071 \\\\\n",
       "\t7 & NY & 1990 & 20384500 & 5.50331 \\\\\n",
       "\t8 & GA & 1990 & 21422086 & 5.78343 \\\\\n",
       "\t9 & IL & 1990 & 26672408 & 7.20089 \\\\\n",
       "\t10 & NV & 1990 & 7723686 & 2.0852 \\\\\n",
       "\t11 & HI & 1990 & 9022184 & 2.43577 \\\\\n",
       "\t12 & MI & 1990 & 10653830 & 2.87627 \\\\\n",
       "\t13 & NM & 1990 & 2492290 & 0.672856 \\\\\n",
       "\t14 & MN & 1990 & 8478189 & 2.2889 \\\\\n",
       "\t15 & NC & 1990 & 12247624 & 3.30655 \\\\\n",
       "\t16 & AZ & 1990 & 11270272 & 3.04269 \\\\\n",
       "\t17 & TX & 1990 & 43782319 & 11.8201 \\\\\n",
       "\t18 & NJ & 1990 & 8530703 & 2.30308 \\\\\n",
       "\t19 & UT & 1990 & 4659559 & 1.25797 \\\\\n",
       "\t20 & MD & 1990 & 4329150 & 1.16876 \\\\\n",
       "\t21 & IN & 1990 & 3382349 & 0.91315 \\\\\n",
       "\t22 & IA & 1990 & 1005876 & 0.271562 \\\\\n",
       "\t23 & WI & 1990 & 2903168 & 0.783783 \\\\\n",
       "\t24 & MT & 1990 & 1000499 & 0.27011 \\\\\n",
       "\t25 & TN & 1990 & 8516063 & 2.29913 \\\\\n",
       "\t26 & FL & 1990 & 28303938 & 7.64136 \\\\\n",
       "\t27 & CT & 1990 & 2291031 & 0.618522 \\\\\n",
       "\t28 & AK & 1990 & 1780907 & 0.480801 \\\\\n",
       "\t29 & SD & 1990 & 364026 & 0.098278 \\\\\n",
       "\t30 & ND & 1990 & 515477 & 0.139166 \\\\\n",
       "\t$\\dots$ & $\\dots$ & $\\dots$ & $\\dots$ & $\\dots$ \\\\\n",
       "\\end{tabular}\n"
      ],
      "text/plain": [
       "\u001b[1m1017×4 DataFrame\u001b[0m\n",
       "\u001b[1m  Row \u001b[0m│\u001b[1m ost      \u001b[0m\u001b[1m year  \u001b[0m\u001b[1m Passengers_sum \u001b[0m\u001b[1m passenger_share \u001b[0m\n",
       "      │\u001b[90m String31 \u001b[0m\u001b[90m Int64 \u001b[0m\u001b[90m Int64          \u001b[0m\u001b[90m Float64         \u001b[0m\n",
       "──────┼──────────────────────────────────────────────────\n",
       "    1 │ OR         1990         3423079      0.924146\n",
       "    2 │ WA         1990         7849573      2.11919\n",
       "    3 │ CA         1990        36295764      9.79896\n",
       "    4 │ PA         1990        15585194      4.20762\n",
       "    5 │ OH         1990        12016758      3.24423\n",
       "    6 │ MA         1990         8855285      2.39071\n",
       "    7 │ NY         1990        20384500      5.50331\n",
       "    8 │ GA         1990        21422086      5.78343\n",
       "    9 │ IL         1990        26672408      7.20089\n",
       "   10 │ NV         1990         7723686      2.0852\n",
       "   11 │ HI         1990         9022184      2.43577\n",
       "  ⋮   │    ⋮        ⋮          ⋮                ⋮\n",
       " 1008 │ MD         2009         9584532      1.82111\n",
       " 1009 │ AK         2009         2501331      0.475265\n",
       " 1010 │ DE         2009             760      0.000144404\n",
       " 1011 │ SD         2009          462001      0.0877825\n",
       " 1012 │ RI         2009         2142756      0.407134\n",
       " 1013 │ ME         2009         1078261      0.204875\n",
       " 1014 │ NH         2009         1572435      0.298771\n",
       " 1015 │ WY         2009          241103      0.0458108\n",
       " 1016 │ WV         2009          268206      0.0509605\n",
       " 1017 │ VT         2009          702605      0.133498\n",
       "\u001b[36m                                         996 rows omitted\u001b[0m"
      ]
     },
     "execution_count": 33,
     "metadata": {},
     "output_type": "execute_result"
    }
   ],
   "source": [
    "df4"
   ]
  },
  {
   "cell_type": "markdown",
   "metadata": {},
   "source": [
    "Ok, let's filter the ones with a share above 2.5% and make a plot!"
   ]
  },
  {
   "cell_type": "code",
   "execution_count": 36,
   "metadata": {},
   "outputs": [
    {
     "data": {
      "image/png": "[encoded data removed]",
      "image/svg+xml": [
       "<?xml version=\"1.0\" encoding=\"utf-8\"?>\n",
       "<svg xmlns=\"http://www.w3.org/2000/svg\" xmlns:xlink=\"http://www.w3.org/1999/xlink\" width=\"600\" height=\"400\" viewBox=\"0 0 2400 1600\">\n",
       "<defs>\n",
       "  <clipPath id=\"clip440\">\n",
       "    <rect x=\"0\" y=\"0\" width=\"2400\" height=\"1600\"/>\n",
       "  </clipPath>\n",
       "</defs>\n",
       "<path clip-path=\"url(#clip440)\" d=\"M0 1600 L2400 1600 L2400 0 L0 0  Z\" fill=\"#ffffff\" fill-rule=\"evenodd\" fill-opacity=\"1\"/>\n",
       "<defs>\n",
       "  <clipPath id=\"clip441\">\n",
       "    <rect x=\"480\" y=\"0\" width=\"1681\" height=\"1600\"/>\n",
       "  </clipPath>\n",
       "</defs>\n",
       "<path clip-path=\"url(#clip440)\" d=\"M202.227 1486.45 L1991.27 1486.45 L1991.27 47.2441 L202.227 47.2441  Z\" fill=\"#ffffff\" fill-rule=\"evenodd\" fill-opacity=\"1\"/>\n",
       "<defs>\n",
       "  <clipPath id=\"clip442\">\n",
       "    <rect x=\"202\" y=\"47\" width=\"1790\" height=\"1440\"/>\n",
       "  </clipPath>\n",
       "</defs>\n",
       "<polyline clip-path=\"url(#clip442)\" style=\"stroke:#000000; stroke-linecap:round; stroke-linejoin:round; stroke-width:2; stroke-opacity:0.1; fill:none\" points=\"252.861,1486.45 252.861,47.2441 \"/>\n",
       "<polyline clip-path=\"url(#clip442)\" style=\"stroke:#000000; stroke-linecap:round; stroke-linejoin:round; stroke-width:2; stroke-opacity:0.1; fill:none\" points=\"697.013,1486.45 697.013,47.2441 \"/>\n",
       "<polyline clip-path=\"url(#clip442)\" style=\"stroke:#000000; stroke-linecap:round; stroke-linejoin:round; stroke-width:2; stroke-opacity:0.1; fill:none\" points=\"1141.17,1486.45 1141.17,47.2441 \"/>\n",
       "<polyline clip-path=\"url(#clip442)\" style=\"stroke:#000000; stroke-linecap:round; stroke-linejoin:round; stroke-width:2; stroke-opacity:0.1; fill:none\" points=\"1585.32,1486.45 1585.32,47.2441 \"/>\n",
       "<polyline clip-path=\"url(#clip440)\" style=\"stroke:#000000; stroke-linecap:round; stroke-linejoin:round; stroke-width:4; stroke-opacity:1; fill:none\" points=\"202.227,1486.45 1991.27,1486.45 \"/>\n",
       "<polyline clip-path=\"url(#clip440)\" style=\"stroke:#000000; stroke-linecap:round; stroke-linejoin:round; stroke-width:4; stroke-opacity:1; fill:none\" points=\"252.861,1486.45 252.861,1467.55 \"/>\n",
       "<polyline clip-path=\"url(#clip440)\" style=\"stroke:#000000; stroke-linecap:round; stroke-linejoin:round; stroke-width:4; stroke-opacity:1; fill:none\" points=\"697.013,1486.45 697.013,1467.55 \"/>\n",
       "<polyline clip-path=\"url(#clip440)\" style=\"stroke:#000000; stroke-linecap:round; stroke-linejoin:round; stroke-width:4; stroke-opacity:1; fill:none\" points=\"1141.17,1486.45 1141.17,1467.55 \"/>\n",
       "<polyline clip-path=\"url(#clip440)\" style=\"stroke:#000000; stroke-linecap:round; stroke-linejoin:round; stroke-width:4; stroke-opacity:1; fill:none\" points=\"1585.32,1486.45 1585.32,1467.55 \"/>\n",
       "<path clip-path=\"url(#clip440)\" d=\"M197.387 1544.91 L205.025 1544.91 L205.025 1518.55 L196.715 1520.21 L196.715 1515.95 L204.979 1514.29 L209.655 1514.29 L209.655 1544.91 L217.294 1544.91 L217.294 1548.85 L197.387 1548.85 L197.387 1544.91 Z\" fill=\"#000000\" fill-rule=\"evenodd\" fill-opacity=\"1\" /><path clip-path=\"url(#clip440)\" d=\"M226.877 1548.13 L226.877 1543.87 Q228.636 1544.7 230.442 1545.14 Q232.248 1545.58 233.984 1545.58 Q238.613 1545.58 241.044 1542.48 Q243.497 1539.36 243.845 1533.01 Q242.502 1535.01 240.442 1536.07 Q238.382 1537.13 235.882 1537.13 Q230.697 1537.13 227.664 1534.01 Q224.655 1530.86 224.655 1525.42 Q224.655 1520.1 227.803 1516.88 Q230.951 1513.66 236.183 1513.66 Q242.178 1513.66 245.326 1518.27 Q248.497 1522.85 248.497 1531.6 Q248.497 1539.77 244.609 1544.66 Q240.743 1549.52 234.192 1549.52 Q232.433 1549.52 230.627 1549.17 Q228.822 1548.82 226.877 1548.13 M236.183 1533.48 Q239.331 1533.48 241.16 1531.32 Q243.011 1529.17 243.011 1525.42 Q243.011 1521.7 241.16 1519.54 Q239.331 1517.37 236.183 1517.37 Q233.035 1517.37 231.183 1519.54 Q229.354 1521.7 229.354 1525.42 Q229.354 1529.17 231.183 1531.32 Q233.035 1533.48 236.183 1533.48 Z\" fill=\"#000000\" fill-rule=\"evenodd\" fill-opacity=\"1\" /><path clip-path=\"url(#clip440)\" d=\"M257.039 1548.13 L257.039 1543.87 Q258.798 1544.7 260.604 1545.14 Q262.409 1545.58 264.146 1545.58 Q268.775 1545.58 271.206 1542.48 Q273.659 1539.36 274.007 1533.01 Q272.664 1535.01 270.604 1536.07 Q268.544 1537.13 266.044 1537.13 Q260.859 1537.13 257.826 1534.01 Q254.817 1530.86 254.817 1525.42 Q254.817 1520.1 257.965 1516.88 Q261.113 1513.66 266.345 1513.66 Q272.34 1513.66 275.488 1518.27 Q278.659 1522.85 278.659 1531.6 Q278.659 1539.77 274.77 1544.66 Q270.905 1549.52 264.354 1549.52 Q262.595 1549.52 260.789 1549.17 Q258.984 1548.82 257.039 1548.13 M266.345 1533.48 Q269.493 1533.48 271.321 1531.32 Q273.173 1529.17 273.173 1525.42 Q273.173 1521.7 271.321 1519.54 Q269.493 1517.37 266.345 1517.37 Q263.196 1517.37 261.345 1519.54 Q259.516 1521.7 259.516 1525.42 Q259.516 1529.17 261.345 1531.32 Q263.196 1533.48 266.345 1533.48 Z\" fill=\"#000000\" fill-rule=\"evenodd\" fill-opacity=\"1\" /><path clip-path=\"url(#clip440)\" d=\"M297.062 1517.37 Q293.451 1517.37 291.622 1520.93 Q289.817 1524.47 289.817 1531.6 Q289.817 1538.71 291.622 1542.27 Q293.451 1545.82 297.062 1545.82 Q300.696 1545.82 302.502 1542.27 Q304.33 1538.71 304.33 1531.6 Q304.33 1524.47 302.502 1520.93 Q300.696 1517.37 297.062 1517.37 M297.062 1513.66 Q302.872 1513.66 305.928 1518.27 Q309.006 1522.85 309.006 1531.6 Q309.006 1540.33 305.928 1544.94 Q302.872 1549.52 297.062 1549.52 Q291.252 1549.52 288.173 1544.94 Q285.118 1540.33 285.118 1531.6 Q285.118 1522.85 288.173 1518.27 Q291.252 1513.66 297.062 1513.66 Z\" fill=\"#000000\" fill-rule=\"evenodd\" fill-opacity=\"1\" /><path clip-path=\"url(#clip440)\" d=\"M642.037 1544.91 L649.676 1544.91 L649.676 1518.55 L641.366 1520.21 L641.366 1515.95 L649.629 1514.29 L654.305 1514.29 L654.305 1544.91 L661.944 1544.91 L661.944 1548.85 L642.037 1548.85 L642.037 1544.91 Z\" fill=\"#000000\" fill-rule=\"evenodd\" fill-opacity=\"1\" /><path clip-path=\"url(#clip440)\" d=\"M671.527 1548.13 L671.527 1543.87 Q673.287 1544.7 675.092 1545.14 Q676.898 1545.58 678.634 1545.58 Q683.263 1545.58 685.694 1542.48 Q688.148 1539.36 688.495 1533.01 Q687.152 1535.01 685.092 1536.07 Q683.032 1537.13 680.532 1537.13 Q675.347 1537.13 672.314 1534.01 Q669.305 1530.86 669.305 1525.42 Q669.305 1520.1 672.453 1516.88 Q675.601 1513.66 680.833 1513.66 Q686.828 1513.66 689.976 1518.27 Q693.148 1522.85 693.148 1531.6 Q693.148 1539.77 689.259 1544.66 Q685.393 1549.52 678.842 1549.52 Q677.083 1549.52 675.277 1549.17 Q673.472 1548.82 671.527 1548.13 M680.833 1533.48 Q683.981 1533.48 685.81 1531.32 Q687.662 1529.17 687.662 1525.42 Q687.662 1521.7 685.81 1519.54 Q683.981 1517.37 680.833 1517.37 Q677.685 1517.37 675.833 1519.54 Q674.004 1521.7 674.004 1525.42 Q674.004 1529.17 675.833 1531.32 Q677.685 1533.48 680.833 1533.48 Z\" fill=\"#000000\" fill-rule=\"evenodd\" fill-opacity=\"1\" /><path clip-path=\"url(#clip440)\" d=\"M701.689 1548.13 L701.689 1543.87 Q703.449 1544.7 705.254 1545.14 Q707.06 1545.58 708.796 1545.58 Q713.425 1545.58 715.856 1542.48 Q718.31 1539.36 718.657 1533.01 Q717.314 1535.01 715.254 1536.07 Q713.194 1537.13 710.694 1537.13 Q705.509 1537.13 702.476 1534.01 Q699.467 1530.86 699.467 1525.42 Q699.467 1520.1 702.615 1516.88 Q705.763 1513.66 710.995 1513.66 Q716.99 1513.66 720.138 1518.27 Q723.31 1522.85 723.31 1531.6 Q723.31 1539.77 719.421 1544.66 Q715.555 1549.52 709.004 1549.52 Q707.245 1549.52 705.439 1549.17 Q703.634 1548.82 701.689 1548.13 M710.995 1533.48 Q714.143 1533.48 715.972 1531.32 Q717.823 1529.17 717.823 1525.42 Q717.823 1521.7 715.972 1519.54 Q714.143 1517.37 710.995 1517.37 Q707.847 1517.37 705.995 1519.54 Q704.166 1521.7 704.166 1525.42 Q704.166 1529.17 705.995 1531.32 Q707.847 1533.48 710.995 1533.48 Z\" fill=\"#000000\" fill-rule=\"evenodd\" fill-opacity=\"1\" /><path clip-path=\"url(#clip440)\" d=\"M731.759 1514.29 L750.115 1514.29 L750.115 1518.22 L736.041 1518.22 L736.041 1526.7 Q737.059 1526.35 738.078 1526.19 Q739.096 1526 740.115 1526 Q745.902 1526 749.282 1529.17 Q752.661 1532.34 752.661 1537.76 Q752.661 1543.34 749.189 1546.44 Q745.717 1549.52 739.397 1549.52 Q737.221 1549.52 734.953 1549.15 Q732.708 1548.78 730.3 1548.04 L730.3 1543.34 Q732.384 1544.47 734.606 1545.03 Q736.828 1545.58 739.305 1545.58 Q743.309 1545.58 745.647 1543.48 Q747.985 1541.37 747.985 1537.76 Q747.985 1534.15 745.647 1532.04 Q743.309 1529.94 739.305 1529.94 Q737.43 1529.94 735.555 1530.35 Q733.703 1530.77 731.759 1531.65 L731.759 1514.29 Z\" fill=\"#000000\" fill-rule=\"evenodd\" fill-opacity=\"1\" /><path clip-path=\"url(#clip440)\" d=\"M1089.78 1544.91 L1106.1 1544.91 L1106.1 1548.85 L1084.15 1548.85 L1084.15 1544.91 Q1086.81 1542.16 1091.4 1537.53 Q1096 1532.88 1097.18 1531.53 Q1099.43 1529.01 1100.31 1527.27 Q1101.21 1525.51 1101.21 1523.82 Q1101.21 1521.07 1099.27 1519.33 Q1097.35 1517.6 1094.24 1517.6 Q1092.05 1517.6 1089.59 1518.36 Q1087.16 1519.13 1084.38 1520.68 L1084.38 1515.95 Q1087.21 1514.82 1089.66 1514.24 Q1092.12 1513.66 1094.15 1513.66 Q1099.52 1513.66 1102.72 1516.35 Q1105.91 1519.03 1105.91 1523.52 Q1105.91 1525.65 1105.1 1527.57 Q1104.31 1529.47 1102.21 1532.07 Q1101.63 1532.74 1098.53 1535.95 Q1095.43 1539.15 1089.78 1544.91 Z\" fill=\"#000000\" fill-rule=\"evenodd\" fill-opacity=\"1\" /><path clip-path=\"url(#clip440)\" d=\"M1125.91 1517.37 Q1122.3 1517.37 1120.47 1520.93 Q1118.67 1524.47 1118.67 1531.6 Q1118.67 1538.71 1120.47 1542.27 Q1122.3 1545.82 1125.91 1545.82 Q1129.55 1545.82 1131.35 1542.27 Q1133.18 1538.71 1133.18 1531.6 Q1133.18 1524.47 1131.35 1520.93 Q1129.55 1517.37 1125.91 1517.37 M1125.91 1513.66 Q1131.72 1513.66 1134.78 1518.27 Q1137.86 1522.85 1137.86 1531.6 Q1137.86 1540.33 1134.78 1544.94 Q1131.72 1549.52 1125.91 1549.52 Q1120.1 1549.52 1117.02 1544.94 Q1113.97 1540.33 1113.97 1531.6 Q1113.97 1522.85 1117.02 1518.27 Q1120.1 1513.66 1125.91 1513.66 Z\" fill=\"#000000\" fill-rule=\"evenodd\" fill-opacity=\"1\" /><path clip-path=\"url(#clip440)\" d=\"M1156.07 1517.37 Q1152.46 1517.37 1150.63 1520.93 Q1148.83 1524.47 1148.83 1531.6 Q1148.83 1538.71 1150.63 1542.27 Q1152.46 1545.82 1156.07 1545.82 Q1159.71 1545.82 1161.51 1542.27 Q1163.34 1538.71 1163.34 1531.6 Q1163.34 1524.47 1161.51 1520.93 Q1159.71 1517.37 1156.07 1517.37 M1156.07 1513.66 Q1161.88 1513.66 1164.94 1518.27 Q1168.02 1522.85 1168.02 1531.6 Q1168.02 1540.33 1164.94 1544.94 Q1161.88 1549.52 1156.07 1549.52 Q1150.26 1549.52 1147.18 1544.94 Q1144.13 1540.33 1144.13 1531.6 Q1144.13 1522.85 1147.18 1518.27 Q1150.26 1513.66 1156.07 1513.66 Z\" fill=\"#000000\" fill-rule=\"evenodd\" fill-opacity=\"1\" /><path clip-path=\"url(#clip440)\" d=\"M1186.24 1517.37 Q1182.62 1517.37 1180.8 1520.93 Q1178.99 1524.47 1178.99 1531.6 Q1178.99 1538.71 1180.8 1542.27 Q1182.62 1545.82 1186.24 1545.82 Q1189.87 1545.82 1191.67 1542.27 Q1193.5 1538.71 1193.5 1531.6 Q1193.5 1524.47 1191.67 1520.93 Q1189.87 1517.37 1186.24 1517.37 M1186.24 1513.66 Q1192.05 1513.66 1195.1 1518.27 Q1198.18 1522.85 1198.18 1531.6 Q1198.18 1540.33 1195.1 1544.94 Q1192.05 1549.52 1186.24 1549.52 Q1180.42 1549.52 1177.35 1544.94 Q1174.29 1540.33 1174.29 1531.6 Q1174.29 1522.85 1177.35 1518.27 Q1180.42 1513.66 1186.24 1513.66 Z\" fill=\"#000000\" fill-rule=\"evenodd\" fill-opacity=\"1\" /><path clip-path=\"url(#clip440)\" d=\"M1534.43 1544.91 L1550.75 1544.91 L1550.75 1548.85 L1528.8 1548.85 L1528.8 1544.91 Q1531.46 1542.16 1536.05 1537.53 Q1540.65 1532.88 1541.83 1531.53 Q1544.08 1529.01 1544.96 1527.27 Q1545.86 1525.51 1545.86 1523.82 Q1545.86 1521.07 1543.92 1519.33 Q1542 1517.6 1538.9 1517.6 Q1536.7 1517.6 1534.24 1518.36 Q1531.81 1519.13 1529.03 1520.68 L1529.03 1515.95 Q1531.86 1514.82 1534.31 1514.24 Q1536.77 1513.66 1538.8 1513.66 Q1544.17 1513.66 1547.37 1516.35 Q1550.56 1519.03 1550.56 1523.52 Q1550.56 1525.65 1549.75 1527.57 Q1548.96 1529.47 1546.86 1532.07 Q1546.28 1532.74 1543.18 1535.95 Q1540.08 1539.15 1534.43 1544.91 Z\" fill=\"#000000\" fill-rule=\"evenodd\" fill-opacity=\"1\" /><path clip-path=\"url(#clip440)\" d=\"M1570.56 1517.37 Q1566.95 1517.37 1565.12 1520.93 Q1563.32 1524.47 1563.32 1531.6 Q1563.32 1538.71 1565.12 1542.27 Q1566.95 1545.82 1570.56 1545.82 Q1574.2 1545.82 1576 1542.27 Q1577.83 1538.71 1577.83 1531.6 Q1577.83 1524.47 1576 1520.93 Q1574.2 1517.37 1570.56 1517.37 M1570.56 1513.66 Q1576.37 1513.66 1579.43 1518.27 Q1582.51 1522.85 1582.51 1531.6 Q1582.51 1540.33 1579.43 1544.94 Q1576.37 1549.52 1570.56 1549.52 Q1564.75 1549.52 1561.67 1544.94 Q1558.62 1540.33 1558.62 1531.6 Q1558.62 1522.85 1561.67 1518.27 Q1564.75 1513.66 1570.56 1513.66 Z\" fill=\"#000000\" fill-rule=\"evenodd\" fill-opacity=\"1\" /><path clip-path=\"url(#clip440)\" d=\"M1600.72 1517.37 Q1597.11 1517.37 1595.28 1520.93 Q1593.48 1524.47 1593.48 1531.6 Q1593.48 1538.71 1595.28 1542.27 Q1597.11 1545.82 1600.72 1545.82 Q1604.36 1545.82 1606.16 1542.27 Q1607.99 1538.71 1607.99 1531.6 Q1607.99 1524.47 1606.16 1520.93 Q1604.36 1517.37 1600.72 1517.37 M1600.72 1513.66 Q1606.53 1513.66 1609.59 1518.27 Q1612.67 1522.85 1612.67 1531.6 Q1612.67 1540.33 1609.59 1544.94 Q1606.53 1549.52 1600.72 1549.52 Q1594.91 1549.52 1591.83 1544.94 Q1588.78 1540.33 1588.78 1531.6 Q1588.78 1522.85 1591.83 1518.27 Q1594.91 1513.66 1600.72 1513.66 Z\" fill=\"#000000\" fill-rule=\"evenodd\" fill-opacity=\"1\" /><path clip-path=\"url(#clip440)\" d=\"M1620.93 1514.29 L1639.29 1514.29 L1639.29 1518.22 L1625.21 1518.22 L1625.21 1526.7 Q1626.23 1526.35 1627.25 1526.19 Q1628.27 1526 1629.29 1526 Q1635.08 1526 1638.45 1529.17 Q1641.83 1532.34 1641.83 1537.76 Q1641.83 1543.34 1638.36 1546.44 Q1634.89 1549.52 1628.57 1549.52 Q1626.39 1549.52 1624.13 1549.15 Q1621.88 1548.78 1619.47 1548.04 L1619.47 1543.34 Q1621.56 1544.47 1623.78 1545.03 Q1626 1545.58 1628.48 1545.58 Q1632.48 1545.58 1634.82 1543.48 Q1637.16 1541.37 1637.16 1537.76 Q1637.16 1534.15 1634.82 1532.04 Q1632.48 1529.94 1628.48 1529.94 Q1626.6 1529.94 1624.73 1530.35 Q1622.88 1530.77 1620.93 1531.65 L1620.93 1514.29 Z\" fill=\"#000000\" fill-rule=\"evenodd\" fill-opacity=\"1\" /><polyline clip-path=\"url(#clip442)\" style=\"stroke:#000000; stroke-linecap:round; stroke-linejoin:round; stroke-width:2; stroke-opacity:0.1; fill:none\" points=\"202.227,1233.77 1991.27,1233.77 \"/>\n",
       "<polyline clip-path=\"url(#clip442)\" style=\"stroke:#000000; stroke-linecap:round; stroke-linejoin:round; stroke-width:2; stroke-opacity:0.1; fill:none\" points=\"202.227,949.977 1991.27,949.977 \"/>\n",
       "<polyline clip-path=\"url(#clip442)\" style=\"stroke:#000000; stroke-linecap:round; stroke-linejoin:round; stroke-width:2; stroke-opacity:0.1; fill:none\" points=\"202.227,666.18 1991.27,666.18 \"/>\n",
       "<polyline clip-path=\"url(#clip442)\" style=\"stroke:#000000; stroke-linecap:round; stroke-linejoin:round; stroke-width:2; stroke-opacity:0.1; fill:none\" points=\"202.227,382.382 1991.27,382.382 \"/>\n",
       "<polyline clip-path=\"url(#clip442)\" style=\"stroke:#000000; stroke-linecap:round; stroke-linejoin:round; stroke-width:2; stroke-opacity:0.1; fill:none\" points=\"202.227,98.5847 1991.27,98.5847 \"/>\n",
       "<polyline clip-path=\"url(#clip440)\" style=\"stroke:#000000; stroke-linecap:round; stroke-linejoin:round; stroke-width:4; stroke-opacity:1; fill:none\" points=\"202.227,1486.45 202.227,47.2441 \"/>\n",
       "<polyline clip-path=\"url(#clip440)\" style=\"stroke:#000000; stroke-linecap:round; stroke-linejoin:round; stroke-width:4; stroke-opacity:1; fill:none\" points=\"202.227,1233.77 217.949,1233.77 \"/>\n",
       "<polyline clip-path=\"url(#clip440)\" style=\"stroke:#000000; stroke-linecap:round; stroke-linejoin:round; stroke-width:4; stroke-opacity:1; fill:none\" points=\"202.227,949.977 217.949,949.977 \"/>\n",
       "<polyline clip-path=\"url(#clip440)\" style=\"stroke:#000000; stroke-linecap:round; stroke-linejoin:round; stroke-width:4; stroke-opacity:1; fill:none\" points=\"202.227,666.18 217.949,666.18 \"/>\n",
       "<polyline clip-path=\"url(#clip440)\" style=\"stroke:#000000; stroke-linecap:round; stroke-linejoin:round; stroke-width:4; stroke-opacity:1; fill:none\" points=\"202.227,382.382 217.949,382.382 \"/>\n",
       "<polyline clip-path=\"url(#clip440)\" style=\"stroke:#000000; stroke-linecap:round; stroke-linejoin:round; stroke-width:4; stroke-opacity:1; fill:none\" points=\"202.227,98.5847 217.949,98.5847 \"/>\n",
       "<path clip-path=\"url(#clip440)\" d=\"M156.644 1220.57 L144.839 1239.02 L156.644 1239.02 L156.644 1220.57 M155.417 1216.49 L161.297 1216.49 L161.297 1239.02 L166.227 1239.02 L166.227 1242.91 L161.297 1242.91 L161.297 1251.05 L156.644 1251.05 L156.644 1242.91 L141.042 1242.91 L141.042 1238.39 L155.417 1216.49 Z\" fill=\"#000000\" fill-rule=\"evenodd\" fill-opacity=\"1\" /><path clip-path=\"url(#clip440)\" d=\"M154.7 948.114 Q151.552 948.114 149.7 950.267 Q147.871 952.419 147.871 956.169 Q147.871 959.896 149.7 962.072 Q151.552 964.225 154.7 964.225 Q157.848 964.225 159.677 962.072 Q161.528 959.896 161.528 956.169 Q161.528 952.419 159.677 950.267 Q157.848 948.114 154.7 948.114 M163.982 933.461 L163.982 937.72 Q162.223 936.887 160.417 936.447 Q158.635 936.007 156.876 936.007 Q152.246 936.007 149.792 939.132 Q147.362 942.257 147.015 948.577 Q148.38 946.563 150.441 945.498 Q152.501 944.41 154.978 944.41 Q160.186 944.41 163.195 947.581 Q166.227 950.729 166.227 956.169 Q166.227 961.493 163.079 964.711 Q159.931 967.928 154.7 967.928 Q148.704 967.928 145.533 963.345 Q142.362 958.739 142.362 950.012 Q142.362 941.817 146.251 936.956 Q150.14 932.072 156.69 932.072 Q158.45 932.072 160.232 932.419 Q162.038 932.767 163.982 933.461 Z\" fill=\"#000000\" fill-rule=\"evenodd\" fill-opacity=\"1\" /><path clip-path=\"url(#clip440)\" d=\"M154.376 667.048 Q151.042 667.048 149.121 668.83 Q147.223 670.613 147.223 673.738 Q147.223 676.863 149.121 678.645 Q151.042 680.427 154.376 680.427 Q157.709 680.427 159.63 678.645 Q161.552 676.839 161.552 673.738 Q161.552 670.613 159.63 668.83 Q157.732 667.048 154.376 667.048 M149.7 665.057 Q146.691 664.316 145.001 662.256 Q143.334 660.196 143.334 657.233 Q143.334 653.089 146.274 650.682 Q149.237 648.275 154.376 648.275 Q159.538 648.275 162.477 650.682 Q165.417 653.089 165.417 657.233 Q165.417 660.196 163.727 662.256 Q162.061 664.316 159.075 665.057 Q162.454 665.844 164.329 668.136 Q166.227 670.427 166.227 673.738 Q166.227 678.761 163.149 681.446 Q160.093 684.131 154.376 684.131 Q148.658 684.131 145.579 681.446 Q142.524 678.761 142.524 673.738 Q142.524 670.427 144.422 668.136 Q146.32 665.844 149.7 665.057 M147.987 657.673 Q147.987 660.358 149.653 661.863 Q151.343 663.367 154.376 663.367 Q157.385 663.367 159.075 661.863 Q160.788 660.358 160.788 657.673 Q160.788 654.988 159.075 653.483 Q157.385 651.978 154.376 651.978 Q151.343 651.978 149.653 653.483 Q147.987 654.988 147.987 657.673 Z\" fill=\"#000000\" fill-rule=\"evenodd\" fill-opacity=\"1\" /><path clip-path=\"url(#clip440)\" d=\"M114.931 395.727 L122.57 395.727 L122.57 369.361 L114.26 371.028 L114.26 366.769 L122.524 365.102 L127.2 365.102 L127.2 395.727 L134.839 395.727 L134.839 399.662 L114.931 399.662 L114.931 395.727 Z\" fill=\"#000000\" fill-rule=\"evenodd\" fill-opacity=\"1\" /><path clip-path=\"url(#clip440)\" d=\"M154.283 368.181 Q150.672 368.181 148.843 371.746 Q147.038 375.287 147.038 382.417 Q147.038 389.523 148.843 393.088 Q150.672 396.63 154.283 396.63 Q157.917 396.63 159.723 393.088 Q161.552 389.523 161.552 382.417 Q161.552 375.287 159.723 371.746 Q157.917 368.181 154.283 368.181 M154.283 364.477 Q160.093 364.477 163.149 369.084 Q166.227 373.667 166.227 382.417 Q166.227 391.144 163.149 395.75 Q160.093 400.334 154.283 400.334 Q148.473 400.334 145.394 395.75 Q142.339 391.144 142.339 382.417 Q142.339 373.667 145.394 369.084 Q148.473 364.477 154.283 364.477 Z\" fill=\"#000000\" fill-rule=\"evenodd\" fill-opacity=\"1\" /><path clip-path=\"url(#clip440)\" d=\"M116.529 111.93 L124.168 111.93 L124.168 85.564 L115.857 87.2306 L115.857 82.9714 L124.121 81.3047 L128.797 81.3047 L128.797 111.93 L136.436 111.93 L136.436 115.865 L116.529 115.865 L116.529 111.93 Z\" fill=\"#000000\" fill-rule=\"evenodd\" fill-opacity=\"1\" /><path clip-path=\"url(#clip440)\" d=\"M149.908 111.93 L166.227 111.93 L166.227 115.865 L144.283 115.865 L144.283 111.93 Q146.945 109.175 151.528 104.545 Q156.135 99.8926 157.315 98.55 Q159.561 96.0269 160.44 94.2908 Q161.343 92.5315 161.343 90.8417 Q161.343 88.0871 159.399 86.351 Q157.478 84.6149 154.376 84.6149 Q152.177 84.6149 149.723 85.3788 Q147.292 86.1427 144.515 87.6936 L144.515 82.9714 Q147.339 81.8372 149.792 81.2585 Q152.246 80.6797 154.283 80.6797 Q159.653 80.6797 162.848 83.3649 Q166.042 86.0501 166.042 90.5408 Q166.042 92.6704 165.232 94.5917 Q164.445 96.4899 162.339 99.0824 Q161.76 99.7537 158.658 102.971 Q155.556 106.166 149.908 111.93 Z\" fill=\"#000000\" fill-rule=\"evenodd\" fill-opacity=\"1\" /><path clip-path=\"url(#clip440)\" d=\"M43.0928 1073.2 Q43.0928 1075.96 45.4481 1077.56 Q47.8034 1079.12 52.0048 1079.12 Q56.1425 1079.12 58.5296 1077.56 Q60.885 1075.96 60.885 1073.2 Q60.885 1070.49 58.5296 1068.93 Q56.1425 1067.34 52.0048 1067.34 Q47.8353 1067.34 45.48 1068.93 Q43.0928 1070.49 43.0928 1073.2 M39.0506 1073.2 Q39.0506 1068.17 42.5517 1065.21 Q46.0529 1062.25 52.0048 1062.25 Q57.9567 1062.25 61.4579 1065.24 Q64.9272 1068.2 64.9272 1073.2 Q64.9272 1078.29 61.4579 1081.25 Q57.9567 1084.21 52.0048 1084.21 Q46.021 1084.21 42.5517 1081.25 Q39.0506 1078.26 39.0506 1073.2 M19.667 1106.04 Q19.667 1108.78 22.0542 1110.37 Q24.4095 1111.93 28.5472 1111.93 Q32.7485 1111.93 35.1038 1110.37 Q37.4592 1108.81 37.4592 1106.04 Q37.4592 1103.27 35.1038 1101.71 Q32.7485 1100.12 28.5472 1100.12 Q24.4413 1100.12 22.0542 1101.71 Q19.667 1103.31 19.667 1106.04 M15.6248 1077.3 L15.6248 1072.21 L64.9272 1101.94 L64.9272 1107.03 L15.6248 1077.3 M15.6248 1106.04 Q15.6248 1101.01 19.1259 1098.02 Q22.5952 1095.03 28.5472 1095.03 Q34.5628 1095.03 38.0321 1098.02 Q41.5014 1100.98 41.5014 1106.04 Q41.5014 1111.1 38.0321 1114.06 Q34.5309 1116.99 28.5472 1116.99 Q22.6271 1116.99 19.1259 1114.03 Q15.6248 1111.07 15.6248 1106.04 Z\" fill=\"#000000\" fill-rule=\"evenodd\" fill-opacity=\"1\" /><path clip-path=\"url(#clip440)\" d=\"M32.4621 1017.97 Q32.4621 1022.68 36.1542 1025.42 Q39.8145 1028.16 46.212 1028.16 Q52.6095 1028.16 56.3017 1025.45 Q59.9619 1022.72 59.9619 1017.97 Q59.9619 1013.29 56.2698 1010.56 Q52.5777 1007.82 46.212 1007.82 Q39.8781 1007.82 36.186 1010.56 Q32.4621 1013.29 32.4621 1017.97 M27.4968 1017.97 Q27.4968 1010.33 32.4621 1005.97 Q37.4273 1001.61 46.212 1001.61 Q54.9649 1001.61 59.9619 1005.97 Q64.9272 1010.33 64.9272 1017.97 Q64.9272 1025.64 59.9619 1030 Q54.9649 1034.33 46.212 1034.33 Q37.4273 1034.33 32.4621 1030 Q27.4968 1025.64 27.4968 1017.97 Z\" fill=\"#000000\" fill-rule=\"evenodd\" fill-opacity=\"1\" /><path clip-path=\"url(#clip440)\" d=\"M14.479 973.859 L19.3487 973.859 L19.3487 979.461 Q19.3487 982.612 20.6219 983.853 Q21.895 985.062 25.2052 985.062 L28.3562 985.062 L28.3562 975.418 L32.9077 975.418 L32.9077 985.062 L64.0042 985.062 L64.0042 990.951 L32.9077 990.951 L32.9077 996.553 L28.3562 996.553 L28.3562 990.951 L25.8736 990.951 Q19.9216 990.951 17.2162 988.182 Q14.479 985.413 14.479 979.397 L14.479 973.859 Z\" fill=\"#000000\" fill-rule=\"evenodd\" fill-opacity=\"1\" /><path clip-path=\"url(#clip440)\" d=\"M16.4842 954.571 L16.4842 914.371 L21.895 914.371 L21.895 931.24 L64.0042 931.24 L64.0042 937.702 L21.895 937.702 L21.895 954.571 L16.4842 954.571 Z\" fill=\"#000000\" fill-rule=\"evenodd\" fill-opacity=\"1\" /><path clip-path=\"url(#clip440)\" d=\"M32.4621 905.682 Q32.4621 910.393 36.1542 913.13 Q39.8145 915.867 46.212 915.867 Q52.6095 915.867 56.3017 913.162 Q59.9619 910.424 59.9619 905.682 Q59.9619 901.003 56.2698 898.266 Q52.5777 895.529 46.212 895.529 Q39.8781 895.529 36.186 898.266 Q32.4621 901.003 32.4621 905.682 M27.4968 905.682 Q27.4968 898.043 32.4621 893.683 Q37.4273 889.322 46.212 889.322 Q54.9649 889.322 59.9619 893.683 Q64.9272 898.043 64.9272 905.682 Q64.9272 913.353 59.9619 917.713 Q54.9649 922.042 46.212 922.042 Q37.4273 922.042 32.4621 917.713 Q27.4968 913.353 27.4968 905.682 Z\" fill=\"#000000\" fill-rule=\"evenodd\" fill-opacity=\"1\" /><path clip-path=\"url(#clip440)\" d=\"M18.2347 873.822 L28.3562 873.822 L28.3562 861.759 L32.9077 861.759 L32.9077 873.822 L52.2594 873.822 Q56.6199 873.822 57.8613 872.644 Q59.1026 871.435 59.1026 867.774 L59.1026 861.759 L64.0042 861.759 L64.0042 867.774 Q64.0042 874.554 61.4897 877.132 Q58.9434 879.71 52.2594 879.71 L32.9077 879.71 L32.9077 884.007 L28.3562 884.007 L28.3562 879.71 L18.2347 879.71 L18.2347 873.822 Z\" fill=\"#000000\" fill-rule=\"evenodd\" fill-opacity=\"1\" /><path clip-path=\"url(#clip440)\" d=\"M46.0847 837.855 Q46.0847 844.953 47.7079 847.69 Q49.3312 850.428 53.2461 850.428 Q56.3653 850.428 58.2114 848.391 Q60.0256 846.322 60.0256 842.789 Q60.0256 837.919 56.5881 834.991 Q53.1188 832.031 47.3897 832.031 L46.0847 832.031 L46.0847 837.855 M43.6657 826.174 L64.0042 826.174 L64.0042 832.031 L58.5933 832.031 Q61.8398 834.036 63.3994 837.028 Q64.9272 840.02 64.9272 844.348 Q64.9272 849.823 61.8716 853.069 Q58.7843 856.284 53.6281 856.284 Q47.6125 856.284 44.5569 852.274 Q41.5014 848.232 41.5014 840.243 L41.5014 832.031 L40.9285 832.031 Q36.8862 832.031 34.6901 834.704 Q32.4621 837.346 32.4621 842.152 Q32.4621 845.208 33.1941 848.104 Q33.9262 851.001 35.3903 853.674 L29.9795 853.674 Q28.7381 850.46 28.1334 847.436 Q27.4968 844.412 27.4968 841.548 Q27.4968 833.813 31.5072 829.994 Q35.5176 826.174 43.6657 826.174 Z\" fill=\"#000000\" fill-rule=\"evenodd\" fill-opacity=\"1\" /><path clip-path=\"url(#clip440)\" d=\"M14.479 814.111 L14.479 808.255 L64.0042 808.255 L64.0042 814.111 L14.479 814.111 Z\" fill=\"#000000\" fill-rule=\"evenodd\" fill-opacity=\"1\" /><path clip-path=\"url(#clip440)\" d=\"M21.7677 768.597 L39.6235 768.597 L39.6235 760.512 Q39.6235 756.024 37.3 753.573 Q34.9765 751.123 30.6797 751.123 Q26.4147 751.123 24.0912 753.573 Q21.7677 756.024 21.7677 760.512 L21.7677 768.597 M16.4842 775.026 L16.4842 760.512 Q16.4842 752.523 20.1126 748.449 Q23.7092 744.343 30.6797 744.343 Q37.7138 744.343 41.3104 748.449 Q44.907 752.523 44.907 760.512 L44.907 768.597 L64.0042 768.597 L64.0042 775.026 L16.4842 775.026 Z\" fill=\"#000000\" fill-rule=\"evenodd\" fill-opacity=\"1\" /><path clip-path=\"url(#clip440)\" d=\"M46.0847 722.7 Q46.0847 729.798 47.7079 732.535 Q49.3312 735.272 53.2461 735.272 Q56.3653 735.272 58.2114 733.235 Q60.0256 731.166 60.0256 727.633 Q60.0256 722.763 56.5881 719.835 Q53.1188 716.875 47.3897 716.875 L46.0847 716.875 L46.0847 722.7 M43.6657 711.019 L64.0042 711.019 L64.0042 716.875 L58.5933 716.875 Q61.8398 718.88 63.3994 721.872 Q64.9272 724.864 64.9272 729.193 Q64.9272 734.667 61.8716 737.914 Q58.7843 741.129 53.6281 741.129 Q47.6125 741.129 44.5569 737.118 Q41.5014 733.076 41.5014 725.087 L41.5014 716.875 L40.9285 716.875 Q36.8862 716.875 34.6901 719.549 Q32.4621 722.191 32.4621 726.997 Q32.4621 730.052 33.1941 732.949 Q33.9262 735.845 35.3903 738.519 L29.9795 738.519 Q28.7381 735.304 28.1334 732.28 Q27.4968 729.256 27.4968 726.392 Q27.4968 718.658 31.5072 714.838 Q35.5176 711.019 43.6657 711.019 Z\" fill=\"#000000\" fill-rule=\"evenodd\" fill-opacity=\"1\" /><path clip-path=\"url(#clip440)\" d=\"M29.4065 676.23 L34.9447 676.23 Q33.6716 678.713 33.035 681.386 Q32.3984 684.06 32.3984 686.925 Q32.3984 691.285 33.7352 693.481 Q35.072 695.646 37.7456 695.646 Q39.7826 695.646 40.9603 694.086 Q42.1061 692.526 43.1565 687.816 L43.6021 685.811 Q44.9389 679.572 47.3897 676.962 Q49.8086 674.32 54.1691 674.32 Q59.1344 674.32 62.0308 678.267 Q64.9272 682.182 64.9272 689.057 Q64.9272 691.922 64.3543 695.041 Q63.8132 698.128 62.6992 701.566 L56.6518 701.566 Q58.3387 698.319 59.198 695.168 Q60.0256 692.017 60.0256 688.93 Q60.0256 684.792 58.6251 682.564 Q57.1929 680.336 54.6147 680.336 Q52.2276 680.336 50.9545 681.959 Q49.6813 683.551 48.5037 688.993 L48.0262 691.03 Q46.8804 696.473 44.5251 698.892 Q42.138 701.311 38.0002 701.311 Q32.9713 701.311 30.2341 697.746 Q27.4968 694.181 27.4968 687.625 Q27.4968 684.378 27.9743 681.514 Q28.4517 678.649 29.4065 676.23 Z\" fill=\"#000000\" fill-rule=\"evenodd\" fill-opacity=\"1\" /><path clip-path=\"url(#clip440)\" d=\"M29.4065 642.269 L34.9447 642.269 Q33.6716 644.752 33.035 647.425 Q32.3984 650.099 32.3984 652.963 Q32.3984 657.324 33.7352 659.52 Q35.072 661.685 37.7456 661.685 Q39.7826 661.685 40.9603 660.125 Q42.1061 658.565 43.1565 653.855 L43.6021 651.849 Q44.9389 645.611 47.3897 643.001 Q49.8086 640.359 54.1691 640.359 Q59.1344 640.359 62.0308 644.306 Q64.9272 648.221 64.9272 655.096 Q64.9272 657.961 64.3543 661.08 Q63.8132 664.167 62.6992 667.605 L56.6518 667.605 Q58.3387 664.358 59.198 661.207 Q60.0256 658.056 60.0256 654.969 Q60.0256 650.831 58.6251 648.603 Q57.1929 646.375 54.6147 646.375 Q52.2276 646.375 50.9545 647.998 Q49.6813 649.59 48.5037 655.032 L48.0262 657.069 Q46.8804 662.512 44.5251 664.931 Q42.138 667.35 38.0002 667.35 Q32.9713 667.35 30.2341 663.785 Q27.4968 660.22 27.4968 653.664 Q27.4968 650.417 27.9743 647.553 Q28.4517 644.688 29.4065 642.269 Z\" fill=\"#000000\" fill-rule=\"evenodd\" fill-opacity=\"1\" /><path clip-path=\"url(#clip440)\" d=\"M44.7161 600.542 L47.5806 600.542 L47.5806 627.469 Q53.6281 627.087 56.8109 623.84 Q59.9619 620.562 59.9619 614.737 Q59.9619 611.364 59.1344 608.213 Q58.3069 605.03 56.6518 601.911 L62.1899 601.911 Q63.5267 605.062 64.227 608.372 Q64.9272 611.682 64.9272 615.088 Q64.9272 623.618 59.9619 628.615 Q54.9967 633.58 46.5303 633.58 Q37.7774 633.58 32.6531 628.869 Q27.4968 624.127 27.4968 616.106 Q27.4968 608.913 32.1438 604.743 Q36.7589 600.542 44.7161 600.542 M42.9973 606.398 Q38.1912 606.462 35.3266 609.104 Q32.4621 611.714 32.4621 616.042 Q32.4621 620.944 35.2312 623.904 Q38.0002 626.832 43.0292 627.278 L42.9973 606.398 Z\" fill=\"#000000\" fill-rule=\"evenodd\" fill-opacity=\"1\" /><path clip-path=\"url(#clip440)\" d=\"M42.4881 561.297 L64.0042 561.297 L64.0042 567.154 L42.679 567.154 Q37.6183 567.154 35.1038 569.127 Q32.5894 571.101 32.5894 575.047 Q32.5894 579.79 35.6131 582.527 Q38.6368 585.264 43.8567 585.264 L64.0042 585.264 L64.0042 591.152 L28.3562 591.152 L28.3562 585.264 L33.8944 585.264 Q30.6797 583.164 29.0883 580.331 Q27.4968 577.466 27.4968 573.742 Q27.4968 567.599 31.3163 564.448 Q35.1038 561.297 42.4881 561.297 Z\" fill=\"#000000\" fill-rule=\"evenodd\" fill-opacity=\"1\" /><path clip-path=\"url(#clip440)\" d=\"M45.7664 526.159 Q39.4007 526.159 35.8996 528.8 Q32.3984 531.41 32.3984 536.153 Q32.3984 540.863 35.8996 543.505 Q39.4007 546.115 45.7664 546.115 Q52.1003 546.115 55.6014 543.505 Q59.1026 540.863 59.1026 536.153 Q59.1026 531.41 55.6014 528.8 Q52.1003 526.159 45.7664 526.159 M59.58 520.302 Q68.683 520.302 73.1071 524.344 Q77.5631 528.387 77.5631 536.726 Q77.5631 539.813 77.0857 542.55 Q76.6401 545.288 75.6852 547.866 L69.9879 547.866 Q71.3884 545.288 72.0568 542.773 Q72.7252 540.259 72.7252 537.649 Q72.7252 531.888 69.7015 529.023 Q66.7096 526.159 60.6303 526.159 L57.7339 526.159 Q60.885 527.973 62.4446 530.806 Q64.0042 533.638 64.0042 537.585 Q64.0042 544.142 59.0071 548.152 Q54.01 552.163 45.7664 552.163 Q37.491 552.163 32.4939 548.152 Q27.4968 544.142 27.4968 537.585 Q27.4968 533.638 29.0564 530.806 Q30.616 527.973 33.7671 526.159 L28.3562 526.159 L28.3562 520.302 L59.58 520.302 Z\" fill=\"#000000\" fill-rule=\"evenodd\" fill-opacity=\"1\" /><path clip-path=\"url(#clip440)\" d=\"M44.7161 477.747 L47.5806 477.747 L47.5806 504.674 Q53.6281 504.292 56.8109 501.046 Q59.9619 497.768 59.9619 491.943 Q59.9619 488.569 59.1344 485.418 Q58.3069 482.235 56.6518 479.116 L62.1899 479.116 Q63.5267 482.267 64.227 485.577 Q64.9272 488.887 64.9272 492.293 Q64.9272 500.823 59.9619 505.82 Q54.9967 510.785 46.5303 510.785 Q37.7774 510.785 32.6531 506.075 Q27.4968 501.332 27.4968 493.312 Q27.4968 486.118 32.1438 481.949 Q36.7589 477.747 44.7161 477.747 M42.9973 483.604 Q38.1912 483.668 35.3266 486.309 Q32.4621 488.919 32.4621 493.248 Q32.4621 498.15 35.2312 501.11 Q38.0002 504.038 43.0292 504.483 L42.9973 483.604 Z\" fill=\"#000000\" fill-rule=\"evenodd\" fill-opacity=\"1\" /><path clip-path=\"url(#clip440)\" d=\"M33.8307 447.478 Q33.2578 448.465 33.0032 449.643 Q32.7167 450.789 32.7167 452.189 Q32.7167 457.154 35.9632 459.828 Q39.1779 462.47 45.2253 462.47 L64.0042 462.47 L64.0042 468.358 L28.3562 468.358 L28.3562 462.47 L33.8944 462.47 Q30.6479 460.624 29.0883 457.664 Q27.4968 454.704 27.4968 450.47 Q27.4968 449.866 27.5923 449.134 Q27.656 448.402 27.8151 447.51 L33.8307 447.478 Z\" fill=\"#000000\" fill-rule=\"evenodd\" fill-opacity=\"1\" /><path clip-path=\"url(#clip440)\" d=\"M29.4065 418.61 L34.9447 418.61 Q33.6716 421.093 33.035 423.766 Q32.3984 426.44 32.3984 429.304 Q32.3984 433.665 33.7352 435.861 Q35.072 438.025 37.7456 438.025 Q39.7826 438.025 40.9603 436.466 Q42.1061 434.906 43.1565 430.196 L43.6021 428.19 Q44.9389 421.952 47.3897 419.342 Q49.8086 416.7 54.1691 416.7 Q59.1344 416.7 62.0308 420.647 Q64.9272 424.562 64.9272 431.437 Q64.9272 434.301 64.3543 437.421 Q63.8132 440.508 62.6992 443.946 L56.6518 443.946 Q58.3387 440.699 59.198 437.548 Q60.0256 434.397 60.0256 431.31 Q60.0256 427.172 58.6251 424.944 Q57.1929 422.716 54.6147 422.716 Q52.2276 422.716 50.9545 424.339 Q49.6813 425.931 48.5037 431.373 L48.0262 433.41 Q46.8804 438.853 44.5251 441.272 Q42.138 443.691 38.0002 443.691 Q32.9713 443.691 30.2341 440.126 Q27.4968 436.561 27.4968 430.005 Q27.4968 426.758 27.9743 423.894 Q28.4517 421.029 29.4065 418.61 Z\" fill=\"#000000\" fill-rule=\"evenodd\" fill-opacity=\"1\" /><polyline clip-path=\"url(#clip442)\" style=\"stroke:#000000; stroke-linecap:round; stroke-linejoin:round; stroke-width:12; stroke-opacity:1; fill:none\" points=\"252.861,1369.62 341.691,1333.27 430.522,1368.16 519.352,1362.72 608.183,1348.26 697.013,1327.44 785.844,1315.85 874.674,1339.24 963.505,1339.88 1052.34,1324.15 1141.17,1318.61 1230,1309.85 1318.83,1311.94 1407.66,1289.15 1496.49,1297.78 1585.32,1296.36 1674.15,1292.56 1762.98,1298.02 1851.81,1303.61 1940.64,1305.6 \"/>\n",
       "<polyline clip-path=\"url(#clip442)\" style=\"stroke:#ffff74; stroke-linecap:round; stroke-linejoin:round; stroke-width:12; stroke-opacity:1; fill:none\" points=\"252.861,410.91 341.691,94.6848 430.522,146.117 519.352,174.284 608.183,191.998 697.013,119.636 785.844,113.987 874.674,149.708 963.505,180.378 1052.34,177.289 1141.17,179.851 1230,202.913 1318.83,254.309 1407.66,280.094 1496.49,270.144 1585.32,297.761 1674.15,289.993 1762.98,274.839 1851.81,291.416 1940.64,285.554 \"/>\n",
       "<polyline clip-path=\"url(#clip442)\" style=\"stroke:#ff9bff; stroke-linecap:round; stroke-linejoin:round; stroke-width:12; stroke-opacity:1; fill:none\" points=\"252.861,1370.86 341.691,1383.42 430.522,1408.72 519.352,1427.71 1496.49,1405.38 1585.32,1351.22 1674.15,1393.48 1762.98,1390.86 1851.81,1392.43 1940.64,1381.85 \"/>\n",
       "<polyline clip-path=\"url(#clip442)\" style=\"stroke:#00d3ff; stroke-linecap:round; stroke-linejoin:round; stroke-width:12; stroke-opacity:1; fill:none\" points=\"252.861,717.07 341.691,772.81 430.522,802.526 519.352,806.226 608.183,761.79 697.013,824.882 785.844,797.646 874.674,760.391 963.505,752.169 1052.34,734.334 1141.17,713.988 1230,669.714 1318.83,659.391 1407.66,664.949 1496.49,631.123 1585.32,592.37 1674.15,592.257 1762.98,606.427 1851.81,592.024 1940.64,597.049 \"/>\n",
       "<polyline clip-path=\"url(#clip442)\" style=\"stroke:#e2630d; stroke-linecap:round; stroke-linejoin:round; stroke-width:12; stroke-opacity:1; fill:none\" points=\"252.861,980.708 341.691,1153.2 430.522,1115.95 519.352,1044.65 608.183,1002.49 697.013,984.045 785.844,956.821 874.674,925.324 963.505,886.112 1052.34,867.928 1141.17,890.12 1230,886.934 1318.83,848.083 1407.66,859.987 1496.49,874.537 1585.32,891.03 1674.15,919.867 1762.98,910.338 1851.81,861.572 1940.64,842.308 \"/>\n",
       "<polyline clip-path=\"url(#clip442)\" style=\"stroke:#007e00; stroke-linecap:round; stroke-linejoin:round; stroke-width:12; stroke-opacity:1; fill:none\" points=\"252.861,779.573 341.691,776.909 430.522,752.959 519.352,748.675 608.183,771.645 697.013,805.534 785.844,846.028 874.674,860.458 963.505,841.777 1052.34,864.345 1141.17,898.02 1230,885.516 1318.83,841.712 1407.66,806.018 1496.49,796.985 1585.32,850.067 1674.15,834.362 1762.98,865.06 1851.81,910.634 1940.64,912.789 \"/>\n",
       "<polyline clip-path=\"url(#clip442)\" style=\"stroke:#0050e6; stroke-linecap:round; stroke-linejoin:round; stroke-width:12; stroke-opacity:1; fill:none\" points=\"252.861,1393.23 341.691,1401.81 430.522,1395.64 519.352,1388.58 608.183,1395.47 697.013,1386.22 785.844,1388.58 874.674,1370.57 963.505,1364.75 1052.34,1337.8 1141.17,1352.75 1230,1363.39 1318.83,1358.2 1407.66,1352.6 1496.49,1353.59 1585.32,1362 1674.15,1365.69 1762.98,1382.31 1851.81,1382.25 1940.64,1396.4 \"/>\n",
       "<polyline clip-path=\"url(#clip442)\" style=\"stroke:#ac0047; stroke-linecap:round; stroke-linejoin:round; stroke-width:12; stroke-opacity:1; fill:none\" points=\"874.674,1445.72 1052.34,1426.98 1141.17,1407.92 1230,1401.15 1318.83,1403.3 1407.66,1403.99 1496.49,1400.78 1585.32,1406.4 1674.15,1417.68 1762.98,1432.08 1851.81,1432.1 1940.64,1430.59 \"/>\n",
       "<polyline clip-path=\"url(#clip442)\" style=\"stroke:#00ffc8; stroke-linecap:round; stroke-linejoin:round; stroke-width:12; stroke-opacity:1; fill:none\" points=\"252.861,1317.11 341.691,1306.44 430.522,1280.82 519.352,1284.48 608.183,1258.21 697.013,1240.75 785.844,1242.72 874.674,1234.8 963.505,1232.75 1052.34,1225.36 1141.17,1246.64 1230,1275.06 1318.83,1307.54 1407.66,1387.95 \"/>\n",
       "<polyline clip-path=\"url(#clip442)\" style=\"stroke:#006468; stroke-linecap:round; stroke-linejoin:round; stroke-width:12; stroke-opacity:1; fill:none\" points=\"252.861,1332.17 341.691,1313.33 430.522,1312.6 519.352,1341.29 608.183,1302.2 697.013,1352.97 785.844,1382.45 874.674,1384.42 963.505,1377.72 1052.34,1396.75 1141.17,1374.86 1230,1363.12 1318.83,1359.29 1407.66,1360.85 1496.49,1350.4 1585.32,1320.74 1674.15,1308.58 1762.98,1272.33 1851.81,1240.86 1940.64,1223.72 \"/>\n",
       "<polyline clip-path=\"url(#clip442)\" style=\"stroke:#ffd5c4; stroke-linecap:round; stroke-linejoin:round; stroke-width:12; stroke-opacity:1; fill:none\" points=\"519.352,1426.51 608.183,1399.69 697.013,1375.67 785.844,1336.81 874.674,1344.63 963.505,1353.58 1052.34,1340.64 1141.17,1325.58 1230,1311.9 1318.83,1313.27 1407.66,1303.12 1496.49,1270.29 1585.32,1265.38 1674.15,1258.26 1762.98,1264.08 1851.81,1281.5 1940.64,1301.84 \"/>\n",
       "<polyline clip-path=\"url(#clip442)\" style=\"stroke:#6c5200; stroke-linecap:round; stroke-linejoin:round; stroke-width:12; stroke-opacity:1; fill:none\" points=\"252.861,1020.46 341.691,1104.42 430.522,1118.34 519.352,1155.84 608.183,1170.32 697.013,1193.96 785.844,1228.37 874.674,1227.68 963.505,1211.02 1052.34,1217.86 1141.17,1200.52 1230,1197.9 1318.83,1185.57 1407.66,1152.92 1496.49,1120.56 1585.32,1106.26 1674.15,1092.43 1762.98,1077.97 1851.81,1072.69 1940.64,1061.04 \"/>\n",
       "<polyline clip-path=\"url(#clip442)\" style=\"stroke:#7a7581; stroke-linecap:round; stroke-linejoin:round; stroke-width:12; stroke-opacity:1; fill:none\" points=\"252.861,1341.02 341.691,1352.24 430.522,1347.68 519.352,1349.04 608.183,1322.68 697.013,1324.7 785.844,1303.76 874.674,1298.76 963.505,1308.32 1052.34,1324.68 1141.17,1285.03 1230,1313.7 1318.83,1265.89 1407.66,1265.98 1496.49,1278.72 1585.32,1290.55 1674.15,1360.86 1762.98,1362.62 1851.81,1383.33 1940.64,1426.53 \"/>\n",
       "<polyline clip-path=\"url(#clip442)\" style=\"stroke:#44005c; stroke-linecap:round; stroke-linejoin:round; stroke-width:12; stroke-opacity:1; fill:none\" points=\"252.861,1204.31 341.691,1234.69 430.522,1211.79 519.352,1229.57 608.183,1250.98 697.013,1253.41 785.844,1263.63 874.674,1250.26 963.505,1258.11 1052.34,1307.97 1141.17,1295.1 1230,1280.35 1318.83,1286.45 1407.66,1303.97 1496.49,1306.65 1585.32,1321.19 1674.15,1324.5 1762.98,1330.27 1851.81,1327.98 1940.64,1327.51 \"/>\n",
       "<polyline clip-path=\"url(#clip442)\" style=\"stroke:#9e9e77; stroke-linecap:round; stroke-linejoin:round; stroke-width:12; stroke-opacity:1; fill:none\" points=\"252.861,124.107 341.691,122.684 430.522,93.7227 519.352,87.9763 608.183,153.151 697.013,146.594 785.844,177.813 874.674,205.908 963.505,211.3 1052.34,239.044 1141.17,264.872 1230,268.125 1318.83,318.478 1407.66,379.507 1496.49,358.217 1585.32,368.532 1674.15,285.807 1762.98,294.541 1851.81,282.439 1940.64,262.827 \"/>\n",
       "<polyline clip-path=\"url(#clip442)\" style=\"stroke:#ff5c78; stroke-linecap:round; stroke-linejoin:round; stroke-width:12; stroke-opacity:1; fill:none\" points=\"608.183,1442.43 697.013,1425.57 785.844,1425.06 874.674,1437.28 963.505,1441.98 1052.34,1439.58 1230,1441.73 1318.83,1436.32 1762.98,1439.64 1851.81,1421.4 1940.64,1415.38 \"/>\n",
       "<path clip-path=\"url(#clip440)\" d=\"M2062.96 1229.54 L2352.76 1229.54 L2352.76 348.259 L2062.96 348.259  Z\" fill=\"#ffffff\" fill-rule=\"evenodd\" fill-opacity=\"1\"/>\n",
       "<polyline clip-path=\"url(#clip440)\" style=\"stroke:#000000; stroke-linecap:round; stroke-linejoin:round; stroke-width:4; stroke-opacity:1; fill:none\" points=\"2062.96,1229.54 2352.76,1229.54 2352.76,348.259 2062.96,348.259 2062.96,1229.54 \"/>\n",
       "<polyline clip-path=\"url(#clip440)\" style=\"stroke:#000000; stroke-linecap:round; stroke-linejoin:round; stroke-width:12; stroke-opacity:1; fill:none\" points=\"2086.85,400.099 2230.22,400.099 \"/>\n",
       "<path clip-path=\"url(#clip440)\" d=\"M2269.95 387.426 L2263.61 404.625 L2276.32 404.625 L2269.95 387.426 M2267.31 382.819 L2272.61 382.819 L2285.78 417.379 L2280.92 417.379 L2277.77 408.514 L2262.19 408.514 L2259.05 417.379 L2254.12 417.379 L2267.31 382.819 Z\" fill=\"#000000\" fill-rule=\"evenodd\" fill-opacity=\"1\" /><path clip-path=\"url(#clip440)\" d=\"M2288.84 382.819 L2315.99 382.819 L2315.99 386.384 L2294.14 413.444 L2316.52 413.444 L2316.52 417.379 L2288.31 417.379 L2288.31 413.815 L2310.16 386.755 L2288.84 386.755 L2288.84 382.819 Z\" fill=\"#000000\" fill-rule=\"evenodd\" fill-opacity=\"1\" /><polyline clip-path=\"url(#clip440)\" style=\"stroke:#ffff74; stroke-linecap:round; stroke-linejoin:round; stroke-width:12; stroke-opacity:1; fill:none\" points=\"2086.85,451.939 2230.22,451.939 \"/>\n",
       "<path clip-path=\"url(#clip440)\" d=\"M2281.99 437.321 L2281.99 442.252 Q2279.63 440.053 2276.94 438.965 Q2274.28 437.877 2271.27 437.877 Q2265.34 437.877 2262.19 441.511 Q2259.05 445.122 2259.05 451.974 Q2259.05 458.803 2262.19 462.437 Q2265.34 466.048 2271.27 466.048 Q2274.28 466.048 2276.94 464.96 Q2279.63 463.872 2281.99 461.673 L2281.99 466.557 Q2279.53 468.224 2276.78 469.057 Q2274.05 469.891 2270.99 469.891 Q2263.14 469.891 2258.63 465.099 Q2254.12 460.284 2254.12 451.974 Q2254.12 443.641 2258.63 438.849 Q2263.14 434.034 2270.99 434.034 Q2274.09 434.034 2276.82 434.868 Q2279.58 435.678 2281.99 437.321 Z\" fill=\"#000000\" fill-rule=\"evenodd\" fill-opacity=\"1\" /><path clip-path=\"url(#clip440)\" d=\"M2300.76 439.266 L2294.42 456.465 L2307.13 456.465 L2300.76 439.266 M2298.12 434.659 L2303.42 434.659 L2316.59 469.219 L2311.73 469.219 L2308.58 460.354 L2293 460.354 L2289.86 469.219 L2284.93 469.219 L2298.12 434.659 Z\" fill=\"#000000\" fill-rule=\"evenodd\" fill-opacity=\"1\" /><polyline clip-path=\"url(#clip440)\" style=\"stroke:#ff9bff; stroke-linecap:round; stroke-linejoin:round; stroke-width:12; stroke-opacity:1; fill:none\" points=\"2086.85,503.779 2230.22,503.779 \"/>\n",
       "<path clip-path=\"url(#clip440)\" d=\"M2258.79 490.342 L2258.79 517.217 L2264.44 517.217 Q2271.59 517.217 2274.9 513.976 Q2278.24 510.735 2278.24 503.745 Q2278.24 496.8 2274.9 493.583 Q2271.59 490.342 2264.44 490.342 L2258.79 490.342 M2254.12 486.499 L2263.72 486.499 Q2273.77 486.499 2278.47 490.689 Q2283.17 494.856 2283.17 503.745 Q2283.17 512.68 2278.44 516.87 Q2273.72 521.059 2263.72 521.059 L2254.12 521.059 L2254.12 486.499 Z\" fill=\"#000000\" fill-rule=\"evenodd\" fill-opacity=\"1\" /><path clip-path=\"url(#clip440)\" d=\"M2316.5 489.161 L2316.5 494.092 Q2314.14 491.893 2311.45 490.805 Q2308.79 489.717 2305.78 489.717 Q2299.86 489.717 2296.71 493.351 Q2293.56 496.962 2293.56 503.814 Q2293.56 510.643 2296.71 514.277 Q2299.86 517.888 2305.78 517.888 Q2308.79 517.888 2311.45 516.8 Q2314.14 515.712 2316.5 513.513 L2316.5 518.397 Q2314.05 520.064 2311.29 520.897 Q2308.56 521.731 2305.5 521.731 Q2297.66 521.731 2293.14 516.939 Q2288.63 512.124 2288.63 503.814 Q2288.63 495.481 2293.14 490.689 Q2297.66 485.874 2305.5 485.874 Q2308.61 485.874 2311.34 486.708 Q2314.09 487.518 2316.5 489.161 Z\" fill=\"#000000\" fill-rule=\"evenodd\" fill-opacity=\"1\" /><polyline clip-path=\"url(#clip440)\" style=\"stroke:#00d3ff; stroke-linecap:round; stroke-linejoin:round; stroke-width:12; stroke-opacity:1; fill:none\" points=\"2086.85,555.619 2230.22,555.619 \"/>\n",
       "<path clip-path=\"url(#clip440)\" d=\"M2254.12 538.339 L2273.98 538.339 L2273.98 542.275 L2258.79 542.275 L2258.79 552.46 L2272.5 552.46 L2272.5 556.395 L2258.79 556.395 L2258.79 572.899 L2254.12 572.899 L2254.12 538.339 Z\" fill=\"#000000\" fill-rule=\"evenodd\" fill-opacity=\"1\" /><path clip-path=\"url(#clip440)\" d=\"M2281.38 538.339 L2286.06 538.339 L2286.06 568.964 L2302.89 568.964 L2302.89 572.899 L2281.38 572.899 L2281.38 538.339 Z\" fill=\"#000000\" fill-rule=\"evenodd\" fill-opacity=\"1\" /><polyline clip-path=\"url(#clip440)\" style=\"stroke:#e2630d; stroke-linecap:round; stroke-linejoin:round; stroke-width:12; stroke-opacity:1; fill:none\" points=\"2086.85,607.459 2230.22,607.459 \"/>\n",
       "<path clip-path=\"url(#clip440)\" d=\"M2279.67 619.809 L2279.67 610.527 L2272.03 610.527 L2272.03 606.684 L2284.3 606.684 L2284.3 621.522 Q2281.59 623.443 2278.33 624.439 Q2275.07 625.411 2271.36 625.411 Q2263.26 625.411 2258.68 620.689 Q2254.12 615.943 2254.12 607.494 Q2254.12 599.022 2258.68 594.3 Q2263.26 589.554 2271.36 589.554 Q2274.74 589.554 2277.77 590.388 Q2280.83 591.221 2283.4 592.841 L2283.4 597.818 Q2280.81 595.619 2277.89 594.508 Q2274.97 593.397 2271.75 593.397 Q2265.41 593.397 2262.22 596.939 Q2259.05 600.48 2259.05 607.494 Q2259.05 614.485 2262.22 618.027 Q2265.41 621.568 2271.75 621.568 Q2274.23 621.568 2276.18 621.151 Q2278.12 620.712 2279.67 619.809 Z\" fill=\"#000000\" fill-rule=\"evenodd\" fill-opacity=\"1\" /><path clip-path=\"url(#clip440)\" d=\"M2304.39 594.786 L2298.05 611.985 L2310.76 611.985 L2304.39 594.786 M2301.75 590.179 L2307.06 590.179 L2320.23 624.739 L2315.37 624.739 L2312.22 615.874 L2296.64 615.874 L2293.49 624.739 L2288.56 624.739 L2301.75 590.179 Z\" fill=\"#000000\" fill-rule=\"evenodd\" fill-opacity=\"1\" /><polyline clip-path=\"url(#clip440)\" style=\"stroke:#007e00; stroke-linecap:round; stroke-linejoin:round; stroke-width:12; stroke-opacity:1; fill:none\" points=\"2086.85,659.299 2230.22,659.299 \"/>\n",
       "<path clip-path=\"url(#clip440)\" d=\"M2254.12 642.019 L2258.79 642.019 L2258.79 676.579 L2254.12 676.579 L2254.12 642.019 Z\" fill=\"#000000\" fill-rule=\"evenodd\" fill-opacity=\"1\" /><path clip-path=\"url(#clip440)\" d=\"M2268.1 642.019 L2272.77 642.019 L2272.77 672.644 L2289.6 672.644 L2289.6 676.579 L2268.1 676.579 L2268.1 642.019 Z\" fill=\"#000000\" fill-rule=\"evenodd\" fill-opacity=\"1\" /><polyline clip-path=\"url(#clip440)\" style=\"stroke:#0050e6; stroke-linecap:round; stroke-linejoin:round; stroke-width:12; stroke-opacity:1; fill:none\" points=\"2086.85,711.139 2230.22,711.139 \"/>\n",
       "<path clip-path=\"url(#clip440)\" d=\"M2254.12 693.859 L2261.08 693.859 L2269.9 717.378 L2278.77 693.859 L2285.74 693.859 L2285.74 728.419 L2281.18 728.419 L2281.18 698.072 L2272.26 721.776 L2267.57 721.776 L2258.65 698.072 L2258.65 728.419 L2254.12 728.419 L2254.12 693.859 Z\" fill=\"#000000\" fill-rule=\"evenodd\" fill-opacity=\"1\" /><path clip-path=\"url(#clip440)\" d=\"M2295.02 693.859 L2299.69 693.859 L2299.69 728.419 L2295.02 728.419 L2295.02 693.859 Z\" fill=\"#000000\" fill-rule=\"evenodd\" fill-opacity=\"1\" /><polyline clip-path=\"url(#clip440)\" style=\"stroke:#ac0047; stroke-linecap:round; stroke-linejoin:round; stroke-width:12; stroke-opacity:1; fill:none\" points=\"2086.85,762.979 2230.22,762.979 \"/>\n",
       "<path clip-path=\"url(#clip440)\" d=\"M2254.12 745.699 L2261.08 745.699 L2269.9 769.218 L2278.77 745.699 L2285.74 745.699 L2285.74 780.259 L2281.18 780.259 L2281.18 749.912 L2272.26 773.616 L2267.57 773.616 L2258.65 749.912 L2258.65 780.259 L2254.12 780.259 L2254.12 745.699 Z\" fill=\"#000000\" fill-rule=\"evenodd\" fill-opacity=\"1\" /><path clip-path=\"url(#clip440)\" d=\"M2295.02 745.699 L2301.31 745.699 L2316.64 774.611 L2316.64 745.699 L2321.18 745.699 L2321.18 780.259 L2314.88 780.259 L2299.56 751.348 L2299.56 780.259 L2295.02 780.259 L2295.02 745.699 Z\" fill=\"#000000\" fill-rule=\"evenodd\" fill-opacity=\"1\" /><polyline clip-path=\"url(#clip440)\" style=\"stroke:#00ffc8; stroke-linecap:round; stroke-linejoin:round; stroke-width:12; stroke-opacity:1; fill:none\" points=\"2086.85,814.819 2230.22,814.819 \"/>\n",
       "<path clip-path=\"url(#clip440)\" d=\"M2254.12 797.539 L2261.08 797.539 L2269.9 821.058 L2278.77 797.539 L2285.74 797.539 L2285.74 832.099 L2281.18 832.099 L2281.18 801.752 L2272.26 825.456 L2267.57 825.456 L2258.65 801.752 L2258.65 832.099 L2254.12 832.099 L2254.12 797.539 Z\" fill=\"#000000\" fill-rule=\"evenodd\" fill-opacity=\"1\" /><path clip-path=\"url(#clip440)\" d=\"M2309.05 800.711 Q2303.95 800.711 2300.94 804.507 Q2297.96 808.303 2297.96 814.854 Q2297.96 821.382 2300.94 825.178 Q2303.95 828.974 2309.05 828.974 Q2314.14 828.974 2317.1 825.178 Q2320.09 821.382 2320.09 814.854 Q2320.09 808.303 2317.1 804.507 Q2314.14 800.711 2309.05 800.711 M2309.05 796.914 Q2316.31 796.914 2320.67 801.799 Q2325.02 806.66 2325.02 814.854 Q2325.02 823.025 2320.67 827.91 Q2316.31 832.771 2309.05 832.771 Q2301.75 832.771 2297.38 827.91 Q2293.03 823.049 2293.03 814.854 Q2293.03 806.66 2297.38 801.799 Q2301.75 796.914 2309.05 796.914 Z\" fill=\"#000000\" fill-rule=\"evenodd\" fill-opacity=\"1\" /><polyline clip-path=\"url(#clip440)\" style=\"stroke:#006468; stroke-linecap:round; stroke-linejoin:round; stroke-width:12; stroke-opacity:1; fill:none\" points=\"2086.85,866.659 2230.22,866.659 \"/>\n",
       "<path clip-path=\"url(#clip440)\" d=\"M2254.12 849.379 L2260.41 849.379 L2275.74 878.291 L2275.74 849.379 L2280.27 849.379 L2280.27 883.939 L2273.98 883.939 L2258.65 855.028 L2258.65 883.939 L2254.12 883.939 L2254.12 849.379 Z\" fill=\"#000000\" fill-rule=\"evenodd\" fill-opacity=\"1\" /><path clip-path=\"url(#clip440)\" d=\"M2315.46 852.041 L2315.46 856.972 Q2313.1 854.773 2310.41 853.685 Q2307.75 852.597 2304.74 852.597 Q2298.82 852.597 2295.67 856.231 Q2292.52 859.842 2292.52 866.694 Q2292.52 873.523 2295.67 877.157 Q2298.82 880.768 2304.74 880.768 Q2307.75 880.768 2310.41 879.68 Q2313.1 878.592 2315.46 876.393 L2315.46 881.277 Q2313 882.944 2310.25 883.777 Q2307.52 884.611 2304.46 884.611 Q2296.62 884.611 2292.1 879.819 Q2287.59 875.004 2287.59 866.694 Q2287.59 858.361 2292.1 853.569 Q2296.62 848.754 2304.46 848.754 Q2307.56 848.754 2310.3 849.588 Q2313.05 850.398 2315.46 852.041 Z\" fill=\"#000000\" fill-rule=\"evenodd\" fill-opacity=\"1\" /><polyline clip-path=\"url(#clip440)\" style=\"stroke:#ffd5c4; stroke-linecap:round; stroke-linejoin:round; stroke-width:12; stroke-opacity:1; fill:none\" points=\"2086.85,918.499 2230.22,918.499 \"/>\n",
       "<path clip-path=\"url(#clip440)\" d=\"M2254.12 901.219 L2260.41 901.219 L2275.74 930.131 L2275.74 901.219 L2280.27 901.219 L2280.27 935.779 L2273.98 935.779 L2258.65 906.868 L2258.65 935.779 L2254.12 935.779 L2254.12 901.219 Z\" fill=\"#000000\" fill-rule=\"evenodd\" fill-opacity=\"1\" /><path clip-path=\"url(#clip440)\" d=\"M2298.49 935.779 L2285.3 901.219 L2290.18 901.219 L2301.13 930.317 L2312.1 901.219 L2316.96 901.219 L2303.79 935.779 L2298.49 935.779 Z\" fill=\"#000000\" fill-rule=\"evenodd\" fill-opacity=\"1\" /><polyline clip-path=\"url(#clip440)\" style=\"stroke:#6c5200; stroke-linecap:round; stroke-linejoin:round; stroke-width:12; stroke-opacity:1; fill:none\" points=\"2086.85,970.339 2230.22,970.339 \"/>\n",
       "<path clip-path=\"url(#clip440)\" d=\"M2254.12 953.059 L2260.41 953.059 L2275.74 981.971 L2275.74 953.059 L2280.27 953.059 L2280.27 987.619 L2273.98 987.619 L2258.65 958.708 L2258.65 987.619 L2254.12 987.619 L2254.12 953.059 Z\" fill=\"#000000\" fill-rule=\"evenodd\" fill-opacity=\"1\" /><path clip-path=\"url(#clip440)\" d=\"M2284.83 953.059 L2289.86 953.059 L2299.44 967.272 L2308.95 953.059 L2313.98 953.059 L2301.75 971.161 L2301.75 987.619 L2297.06 987.619 L2297.06 971.161 L2284.83 953.059 Z\" fill=\"#000000\" fill-rule=\"evenodd\" fill-opacity=\"1\" /><polyline clip-path=\"url(#clip440)\" style=\"stroke:#7a7581; stroke-linecap:round; stroke-linejoin:round; stroke-width:12; stroke-opacity:1; fill:none\" points=\"2086.85,1022.18 2230.22,1022.18 \"/>\n",
       "<path clip-path=\"url(#clip440)\" d=\"M2270.13 1008.07 Q2265.04 1008.07 2262.03 1011.87 Q2259.05 1015.66 2259.05 1022.21 Q2259.05 1028.74 2262.03 1032.54 Q2265.04 1036.33 2270.13 1036.33 Q2275.23 1036.33 2278.19 1032.54 Q2281.18 1028.74 2281.18 1022.21 Q2281.18 1015.66 2278.19 1011.87 Q2275.23 1008.07 2270.13 1008.07 M2270.13 1004.27 Q2277.4 1004.27 2281.75 1009.16 Q2286.11 1014.02 2286.11 1022.21 Q2286.11 1030.39 2281.75 1035.27 Q2277.4 1040.13 2270.13 1040.13 Q2262.84 1040.13 2258.47 1035.27 Q2254.12 1030.41 2254.12 1022.21 Q2254.12 1014.02 2258.47 1009.16 Q2262.84 1004.27 2270.13 1004.27 Z\" fill=\"#000000\" fill-rule=\"evenodd\" fill-opacity=\"1\" /><path clip-path=\"url(#clip440)\" d=\"M2293.42 1004.9 L2298.1 1004.9 L2298.1 1019.07 L2315.09 1019.07 L2315.09 1004.9 L2319.76 1004.9 L2319.76 1039.46 L2315.09 1039.46 L2315.09 1023 L2298.1 1023 L2298.1 1039.46 L2293.42 1039.46 L2293.42 1004.9 Z\" fill=\"#000000\" fill-rule=\"evenodd\" fill-opacity=\"1\" /><polyline clip-path=\"url(#clip440)\" style=\"stroke:#44005c; stroke-linecap:round; stroke-linejoin:round; stroke-width:12; stroke-opacity:1; fill:none\" points=\"2086.85,1074.02 2230.22,1074.02 \"/>\n",
       "<path clip-path=\"url(#clip440)\" d=\"M2258.79 1060.58 L2258.79 1073.57 L2264.67 1073.57 Q2267.94 1073.57 2269.72 1071.88 Q2271.5 1070.19 2271.5 1067.06 Q2271.5 1063.96 2269.72 1062.27 Q2267.94 1060.58 2264.67 1060.58 L2258.79 1060.58 M2254.12 1056.74 L2264.67 1056.74 Q2270.48 1056.74 2273.44 1059.38 Q2276.43 1061.99 2276.43 1067.06 Q2276.43 1072.18 2273.44 1074.79 Q2270.48 1077.41 2264.67 1077.41 L2258.79 1077.41 L2258.79 1091.3 L2254.12 1091.3 L2254.12 1056.74 Z\" fill=\"#000000\" fill-rule=\"evenodd\" fill-opacity=\"1\" /><path clip-path=\"url(#clip440)\" d=\"M2291.22 1061.35 L2284.88 1078.54 L2297.59 1078.54 L2291.22 1061.35 M2288.58 1056.74 L2293.88 1056.74 L2307.06 1091.3 L2302.19 1091.3 L2299.05 1082.43 L2283.47 1082.43 L2280.32 1091.3 L2275.39 1091.3 L2288.58 1056.74 Z\" fill=\"#000000\" fill-rule=\"evenodd\" fill-opacity=\"1\" /><polyline clip-path=\"url(#clip440)\" style=\"stroke:#9e9e77; stroke-linecap:round; stroke-linejoin:round; stroke-width:12; stroke-opacity:1; fill:none\" points=\"2086.85,1125.86 2230.22,1125.86 \"/>\n",
       "<path clip-path=\"url(#clip440)\" d=\"M2254.12 1108.58 L2283.35 1108.58 L2283.35 1112.51 L2271.08 1112.51 L2271.08 1143.14 L2266.38 1143.14 L2266.38 1112.51 L2254.12 1112.51 L2254.12 1108.58 Z\" fill=\"#000000\" fill-rule=\"evenodd\" fill-opacity=\"1\" /><path clip-path=\"url(#clip440)\" d=\"M2286.2 1108.58 L2291.22 1108.58 L2299.81 1121.43 L2308.44 1108.58 L2313.47 1108.58 L2302.36 1125.18 L2314.21 1143.14 L2309.19 1143.14 L2299.46 1128.44 L2289.67 1143.14 L2284.63 1143.14 L2296.96 1124.69 L2286.2 1108.58 Z\" fill=\"#000000\" fill-rule=\"evenodd\" fill-opacity=\"1\" /><polyline clip-path=\"url(#clip440)\" style=\"stroke:#ff5c78; stroke-linecap:round; stroke-linejoin:round; stroke-width:12; stroke-opacity:1; fill:none\" points=\"2086.85,1177.7 2230.22,1177.7 \"/>\n",
       "<path clip-path=\"url(#clip440)\" d=\"M2254.12 1160.42 L2258.84 1160.42 L2266.11 1189.63 L2273.35 1160.42 L2278.61 1160.42 L2285.88 1189.63 L2293.12 1160.42 L2297.87 1160.42 L2289.19 1194.98 L2283.31 1194.98 L2276.01 1164.98 L2268.65 1194.98 L2262.77 1194.98 L2254.12 1160.42 Z\" fill=\"#000000\" fill-rule=\"evenodd\" fill-opacity=\"1\" /><path clip-path=\"url(#clip440)\" d=\"M2313.03 1165.03 L2306.69 1182.22 L2319.39 1182.22 L2313.03 1165.03 M2310.39 1160.42 L2315.69 1160.42 L2328.86 1194.98 L2324 1194.98 L2320.85 1186.11 L2305.27 1186.11 L2302.13 1194.98 L2297.19 1194.98 L2310.39 1160.42 Z\" fill=\"#000000\" fill-rule=\"evenodd\" fill-opacity=\"1\" /></svg>\n"
      ],
      "text/html": [
       "<?xml version=\"1.0\" encoding=\"utf-8\"?>\n",
       "<svg xmlns=\"http://www.w3.org/2000/svg\" xmlns:xlink=\"http://www.w3.org/1999/xlink\" width=\"600\" height=\"400\" viewBox=\"0 0 2400 1600\">\n",
       "<defs>\n",
       "  <clipPath id=\"clip490\">\n",
       "    <rect x=\"0\" y=\"0\" width=\"2400\" height=\"1600\"/>\n",
       "  </clipPath>\n",
       "</defs>\n",
       "<path clip-path=\"url(#clip490)\" d=\"M0 1600 L2400 1600 L2400 0 L0 0  Z\" fill=\"#ffffff\" fill-rule=\"evenodd\" fill-opacity=\"1\"/>\n",
       "<defs>\n",
       "  <clipPath id=\"clip491\">\n",
       "    <rect x=\"480\" y=\"0\" width=\"1681\" height=\"1600\"/>\n",
       "  </clipPath>\n",
       "</defs>\n",
       "<path clip-path=\"url(#clip490)\" d=\"M202.227 1486.45 L1991.27 1486.45 L1991.27 47.2441 L202.227 47.2441  Z\" fill=\"#ffffff\" fill-rule=\"evenodd\" fill-opacity=\"1\"/>\n",
       "<defs>\n",
       "  <clipPath id=\"clip492\">\n",
       "    <rect x=\"202\" y=\"47\" width=\"1790\" height=\"1440\"/>\n",
       "  </clipPath>\n",
       "</defs>\n",
       "<polyline clip-path=\"url(#clip492)\" style=\"stroke:#000000; stroke-linecap:round; stroke-linejoin:round; stroke-width:2; stroke-opacity:0.1; fill:none\" points=\"252.861,1486.45 252.861,47.2441 \"/>\n",
       "<polyline clip-path=\"url(#clip492)\" style=\"stroke:#000000; stroke-linecap:round; stroke-linejoin:round; stroke-width:2; stroke-opacity:0.1; fill:none\" points=\"697.013,1486.45 697.013,47.2441 \"/>\n",
       "<polyline clip-path=\"url(#clip492)\" style=\"stroke:#000000; stroke-linecap:round; stroke-linejoin:round; stroke-width:2; stroke-opacity:0.1; fill:none\" points=\"1141.17,1486.45 1141.17,47.2441 \"/>\n",
       "<polyline clip-path=\"url(#clip492)\" style=\"stroke:#000000; stroke-linecap:round; stroke-linejoin:round; stroke-width:2; stroke-opacity:0.1; fill:none\" points=\"1585.32,1486.45 1585.32,47.2441 \"/>\n",
       "<polyline clip-path=\"url(#clip490)\" style=\"stroke:#000000; stroke-linecap:round; stroke-linejoin:round; stroke-width:4; stroke-opacity:1; fill:none\" points=\"202.227,1486.45 1991.27,1486.45 \"/>\n",
       "<polyline clip-path=\"url(#clip490)\" style=\"stroke:#000000; stroke-linecap:round; stroke-linejoin:round; stroke-width:4; stroke-opacity:1; fill:none\" points=\"252.861,1486.45 252.861,1467.55 \"/>\n",
       "<polyline clip-path=\"url(#clip490)\" style=\"stroke:#000000; stroke-linecap:round; stroke-linejoin:round; stroke-width:4; stroke-opacity:1; fill:none\" points=\"697.013,1486.45 697.013,1467.55 \"/>\n",
       "<polyline clip-path=\"url(#clip490)\" style=\"stroke:#000000; stroke-linecap:round; stroke-linejoin:round; stroke-width:4; stroke-opacity:1; fill:none\" points=\"1141.17,1486.45 1141.17,1467.55 \"/>\n",
       "<polyline clip-path=\"url(#clip490)\" style=\"stroke:#000000; stroke-linecap:round; stroke-linejoin:round; stroke-width:4; stroke-opacity:1; fill:none\" points=\"1585.32,1486.45 1585.32,1467.55 \"/>\n",
       "<path clip-path=\"url(#clip490)\" d=\"M197.387 1544.91 L205.025 1544.91 L205.025 1518.55 L196.715 1520.21 L196.715 1515.95 L204.979 1514.29 L209.655 1514.29 L209.655 1544.91 L217.294 1544.91 L217.294 1548.85 L197.387 1548.85 L197.387 1544.91 Z\" fill=\"#000000\" fill-rule=\"evenodd\" fill-opacity=\"1\" /><path clip-path=\"url(#clip490)\" d=\"M226.877 1548.13 L226.877 1543.87 Q228.636 1544.7 230.442 1545.14 Q232.248 1545.58 233.984 1545.58 Q238.613 1545.58 241.044 1542.48 Q243.497 1539.36 243.845 1533.01 Q242.502 1535.01 240.442 1536.07 Q238.382 1537.13 235.882 1537.13 Q230.697 1537.13 227.664 1534.01 Q224.655 1530.86 224.655 1525.42 Q224.655 1520.1 227.803 1516.88 Q230.951 1513.66 236.183 1513.66 Q242.178 1513.66 245.326 1518.27 Q248.497 1522.85 248.497 1531.6 Q248.497 1539.77 244.609 1544.66 Q240.743 1549.52 234.192 1549.52 Q232.433 1549.52 230.627 1549.17 Q228.822 1548.82 226.877 1548.13 M236.183 1533.48 Q239.331 1533.48 241.16 1531.32 Q243.011 1529.17 243.011 1525.42 Q243.011 1521.7 241.16 1519.54 Q239.331 1517.37 236.183 1517.37 Q233.035 1517.37 231.183 1519.54 Q229.354 1521.7 229.354 1525.42 Q229.354 1529.17 231.183 1531.32 Q233.035 1533.48 236.183 1533.48 Z\" fill=\"#000000\" fill-rule=\"evenodd\" fill-opacity=\"1\" /><path clip-path=\"url(#clip490)\" d=\"M257.039 1548.13 L257.039 1543.87 Q258.798 1544.7 260.604 1545.14 Q262.409 1545.58 264.146 1545.58 Q268.775 1545.58 271.206 1542.48 Q273.659 1539.36 274.007 1533.01 Q272.664 1535.01 270.604 1536.07 Q268.544 1537.13 266.044 1537.13 Q260.859 1537.13 257.826 1534.01 Q254.817 1530.86 254.817 1525.42 Q254.817 1520.1 257.965 1516.88 Q261.113 1513.66 266.345 1513.66 Q272.34 1513.66 275.488 1518.27 Q278.659 1522.85 278.659 1531.6 Q278.659 1539.77 274.77 1544.66 Q270.905 1549.52 264.354 1549.52 Q262.595 1549.52 260.789 1549.17 Q258.984 1548.82 257.039 1548.13 M266.345 1533.48 Q269.493 1533.48 271.321 1531.32 Q273.173 1529.17 273.173 1525.42 Q273.173 1521.7 271.321 1519.54 Q269.493 1517.37 266.345 1517.37 Q263.196 1517.37 261.345 1519.54 Q259.516 1521.7 259.516 1525.42 Q259.516 1529.17 261.345 1531.32 Q263.196 1533.48 266.345 1533.48 Z\" fill=\"#000000\" fill-rule=\"evenodd\" fill-opacity=\"1\" /><path clip-path=\"url(#clip490)\" d=\"M297.062 1517.37 Q293.451 1517.37 291.622 1520.93 Q289.817 1524.47 289.817 1531.6 Q289.817 1538.71 291.622 1542.27 Q293.451 1545.82 297.062 1545.82 Q300.696 1545.82 302.502 1542.27 Q304.33 1538.71 304.33 1531.6 Q304.33 1524.47 302.502 1520.93 Q300.696 1517.37 297.062 1517.37 M297.062 1513.66 Q302.872 1513.66 305.928 1518.27 Q309.006 1522.85 309.006 1531.6 Q309.006 1540.33 305.928 1544.94 Q302.872 1549.52 297.062 1549.52 Q291.252 1549.52 288.173 1544.94 Q285.118 1540.33 285.118 1531.6 Q285.118 1522.85 288.173 1518.27 Q291.252 1513.66 297.062 1513.66 Z\" fill=\"#000000\" fill-rule=\"evenodd\" fill-opacity=\"1\" /><path clip-path=\"url(#clip490)\" d=\"M642.037 1544.91 L649.676 1544.91 L649.676 1518.55 L641.366 1520.21 L641.366 1515.95 L649.629 1514.29 L654.305 1514.29 L654.305 1544.91 L661.944 1544.91 L661.944 1548.85 L642.037 1548.85 L642.037 1544.91 Z\" fill=\"#000000\" fill-rule=\"evenodd\" fill-opacity=\"1\" /><path clip-path=\"url(#clip490)\" d=\"M671.527 1548.13 L671.527 1543.87 Q673.287 1544.7 675.092 1545.14 Q676.898 1545.58 678.634 1545.58 Q683.263 1545.58 685.694 1542.48 Q688.148 1539.36 688.495 1533.01 Q687.152 1535.01 685.092 1536.07 Q683.032 1537.13 680.532 1537.13 Q675.347 1537.13 672.314 1534.01 Q669.305 1530.86 669.305 1525.42 Q669.305 1520.1 672.453 1516.88 Q675.601 1513.66 680.833 1513.66 Q686.828 1513.66 689.976 1518.27 Q693.148 1522.85 693.148 1531.6 Q693.148 1539.77 689.259 1544.66 Q685.393 1549.52 678.842 1549.52 Q677.083 1549.52 675.277 1549.17 Q673.472 1548.82 671.527 1548.13 M680.833 1533.48 Q683.981 1533.48 685.81 1531.32 Q687.662 1529.17 687.662 1525.42 Q687.662 1521.7 685.81 1519.54 Q683.981 1517.37 680.833 1517.37 Q677.685 1517.37 675.833 1519.54 Q674.004 1521.7 674.004 1525.42 Q674.004 1529.17 675.833 1531.32 Q677.685 1533.48 680.833 1533.48 Z\" fill=\"#000000\" fill-rule=\"evenodd\" fill-opacity=\"1\" /><path clip-path=\"url(#clip490)\" d=\"M701.689 1548.13 L701.689 1543.87 Q703.449 1544.7 705.254 1545.14 Q707.06 1545.58 708.796 1545.58 Q713.425 1545.58 715.856 1542.48 Q718.31 1539.36 718.657 1533.01 Q717.314 1535.01 715.254 1536.07 Q713.194 1537.13 710.694 1537.13 Q705.509 1537.13 702.476 1534.01 Q699.467 1530.86 699.467 1525.42 Q699.467 1520.1 702.615 1516.88 Q705.763 1513.66 710.995 1513.66 Q716.99 1513.66 720.138 1518.27 Q723.31 1522.85 723.31 1531.6 Q723.31 1539.77 719.421 1544.66 Q715.555 1549.52 709.004 1549.52 Q707.245 1549.52 705.439 1549.17 Q703.634 1548.82 701.689 1548.13 M710.995 1533.48 Q714.143 1533.48 715.972 1531.32 Q717.823 1529.17 717.823 1525.42 Q717.823 1521.7 715.972 1519.54 Q714.143 1517.37 710.995 1517.37 Q707.847 1517.37 705.995 1519.54 Q704.166 1521.7 704.166 1525.42 Q704.166 1529.17 705.995 1531.32 Q707.847 1533.48 710.995 1533.48 Z\" fill=\"#000000\" fill-rule=\"evenodd\" fill-opacity=\"1\" /><path clip-path=\"url(#clip490)\" d=\"M731.759 1514.29 L750.115 1514.29 L750.115 1518.22 L736.041 1518.22 L736.041 1526.7 Q737.059 1526.35 738.078 1526.19 Q739.096 1526 740.115 1526 Q745.902 1526 749.282 1529.17 Q752.661 1532.34 752.661 1537.76 Q752.661 1543.34 749.189 1546.44 Q745.717 1549.52 739.397 1549.52 Q737.221 1549.52 734.953 1549.15 Q732.708 1548.78 730.3 1548.04 L730.3 1543.34 Q732.384 1544.47 734.606 1545.03 Q736.828 1545.58 739.305 1545.58 Q743.309 1545.58 745.647 1543.48 Q747.985 1541.37 747.985 1537.76 Q747.985 1534.15 745.647 1532.04 Q743.309 1529.94 739.305 1529.94 Q737.43 1529.94 735.555 1530.35 Q733.703 1530.77 731.759 1531.65 L731.759 1514.29 Z\" fill=\"#000000\" fill-rule=\"evenodd\" fill-opacity=\"1\" /><path clip-path=\"url(#clip490)\" d=\"M1089.78 1544.91 L1106.1 1544.91 L1106.1 1548.85 L1084.15 1548.85 L1084.15 1544.91 Q1086.81 1542.16 1091.4 1537.53 Q1096 1532.88 1097.18 1531.53 Q1099.43 1529.01 1100.31 1527.27 Q1101.21 1525.51 1101.21 1523.82 Q1101.21 1521.07 1099.27 1519.33 Q1097.35 1517.6 1094.24 1517.6 Q1092.05 1517.6 1089.59 1518.36 Q1087.16 1519.13 1084.38 1520.68 L1084.38 1515.95 Q1087.21 1514.82 1089.66 1514.24 Q1092.12 1513.66 1094.15 1513.66 Q1099.52 1513.66 1102.72 1516.35 Q1105.91 1519.03 1105.91 1523.52 Q1105.91 1525.65 1105.1 1527.57 Q1104.31 1529.47 1102.21 1532.07 Q1101.63 1532.74 1098.53 1535.95 Q1095.43 1539.15 1089.78 1544.91 Z\" fill=\"#000000\" fill-rule=\"evenodd\" fill-opacity=\"1\" /><path clip-path=\"url(#clip490)\" d=\"M1125.91 1517.37 Q1122.3 1517.37 1120.47 1520.93 Q1118.67 1524.47 1118.67 1531.6 Q1118.67 1538.71 1120.47 1542.27 Q1122.3 1545.82 1125.91 1545.82 Q1129.55 1545.82 1131.35 1542.27 Q1133.18 1538.71 1133.18 1531.6 Q1133.18 1524.47 1131.35 1520.93 Q1129.55 1517.37 1125.91 1517.37 M1125.91 1513.66 Q1131.72 1513.66 1134.78 1518.27 Q1137.86 1522.85 1137.86 1531.6 Q1137.86 1540.33 1134.78 1544.94 Q1131.72 1549.52 1125.91 1549.52 Q1120.1 1549.52 1117.02 1544.94 Q1113.97 1540.33 1113.97 1531.6 Q1113.97 1522.85 1117.02 1518.27 Q1120.1 1513.66 1125.91 1513.66 Z\" fill=\"#000000\" fill-rule=\"evenodd\" fill-opacity=\"1\" /><path clip-path=\"url(#clip490)\" d=\"M1156.07 1517.37 Q1152.46 1517.37 1150.63 1520.93 Q1148.83 1524.47 1148.83 1531.6 Q1148.83 1538.71 1150.63 1542.27 Q1152.46 1545.82 1156.07 1545.82 Q1159.71 1545.82 1161.51 1542.27 Q1163.34 1538.71 1163.34 1531.6 Q1163.34 1524.47 1161.51 1520.93 Q1159.71 1517.37 1156.07 1517.37 M1156.07 1513.66 Q1161.88 1513.66 1164.94 1518.27 Q1168.02 1522.85 1168.02 1531.6 Q1168.02 1540.33 1164.94 1544.94 Q1161.88 1549.52 1156.07 1549.52 Q1150.26 1549.52 1147.18 1544.94 Q1144.13 1540.33 1144.13 1531.6 Q1144.13 1522.85 1147.18 1518.27 Q1150.26 1513.66 1156.07 1513.66 Z\" fill=\"#000000\" fill-rule=\"evenodd\" fill-opacity=\"1\" /><path clip-path=\"url(#clip490)\" d=\"M1186.24 1517.37 Q1182.62 1517.37 1180.8 1520.93 Q1178.99 1524.47 1178.99 1531.6 Q1178.99 1538.71 1180.8 1542.27 Q1182.62 1545.82 1186.24 1545.82 Q1189.87 1545.82 1191.67 1542.27 Q1193.5 1538.71 1193.5 1531.6 Q1193.5 1524.47 1191.67 1520.93 Q1189.87 1517.37 1186.24 1517.37 M1186.24 1513.66 Q1192.05 1513.66 1195.1 1518.27 Q1198.18 1522.85 1198.18 1531.6 Q1198.18 1540.33 1195.1 1544.94 Q1192.05 1549.52 1186.24 1549.52 Q1180.42 1549.52 1177.35 1544.94 Q1174.29 1540.33 1174.29 1531.6 Q1174.29 1522.85 1177.35 1518.27 Q1180.42 1513.66 1186.24 1513.66 Z\" fill=\"#000000\" fill-rule=\"evenodd\" fill-opacity=\"1\" /><path clip-path=\"url(#clip490)\" d=\"M1534.43 1544.91 L1550.75 1544.91 L1550.75 1548.85 L1528.8 1548.85 L1528.8 1544.91 Q1531.46 1542.16 1536.05 1537.53 Q1540.65 1532.88 1541.83 1531.53 Q1544.08 1529.01 1544.96 1527.27 Q1545.86 1525.51 1545.86 1523.82 Q1545.86 1521.07 1543.92 1519.33 Q1542 1517.6 1538.9 1517.6 Q1536.7 1517.6 1534.24 1518.36 Q1531.81 1519.13 1529.03 1520.68 L1529.03 1515.95 Q1531.86 1514.82 1534.31 1514.24 Q1536.77 1513.66 1538.8 1513.66 Q1544.17 1513.66 1547.37 1516.35 Q1550.56 1519.03 1550.56 1523.52 Q1550.56 1525.65 1549.75 1527.57 Q1548.96 1529.47 1546.86 1532.07 Q1546.28 1532.74 1543.18 1535.95 Q1540.08 1539.15 1534.43 1544.91 Z\" fill=\"#000000\" fill-rule=\"evenodd\" fill-opacity=\"1\" /><path clip-path=\"url(#clip490)\" d=\"M1570.56 1517.37 Q1566.95 1517.37 1565.12 1520.93 Q1563.32 1524.47 1563.32 1531.6 Q1563.32 1538.71 1565.12 1542.27 Q1566.95 1545.82 1570.56 1545.82 Q1574.2 1545.82 1576 1542.27 Q1577.83 1538.71 1577.83 1531.6 Q1577.83 1524.47 1576 1520.93 Q1574.2 1517.37 1570.56 1517.37 M1570.56 1513.66 Q1576.37 1513.66 1579.43 1518.27 Q1582.51 1522.85 1582.51 1531.6 Q1582.51 1540.33 1579.43 1544.94 Q1576.37 1549.52 1570.56 1549.52 Q1564.75 1549.52 1561.67 1544.94 Q1558.62 1540.33 1558.62 1531.6 Q1558.62 1522.85 1561.67 1518.27 Q1564.75 1513.66 1570.56 1513.66 Z\" fill=\"#000000\" fill-rule=\"evenodd\" fill-opacity=\"1\" /><path clip-path=\"url(#clip490)\" d=\"M1600.72 1517.37 Q1597.11 1517.37 1595.28 1520.93 Q1593.48 1524.47 1593.48 1531.6 Q1593.48 1538.71 1595.28 1542.27 Q1597.11 1545.82 1600.72 1545.82 Q1604.36 1545.82 1606.16 1542.27 Q1607.99 1538.71 1607.99 1531.6 Q1607.99 1524.47 1606.16 1520.93 Q1604.36 1517.37 1600.72 1517.37 M1600.72 1513.66 Q1606.53 1513.66 1609.59 1518.27 Q1612.67 1522.85 1612.67 1531.6 Q1612.67 1540.33 1609.59 1544.94 Q1606.53 1549.52 1600.72 1549.52 Q1594.91 1549.52 1591.83 1544.94 Q1588.78 1540.33 1588.78 1531.6 Q1588.78 1522.85 1591.83 1518.27 Q1594.91 1513.66 1600.72 1513.66 Z\" fill=\"#000000\" fill-rule=\"evenodd\" fill-opacity=\"1\" /><path clip-path=\"url(#clip490)\" d=\"M1620.93 1514.29 L1639.29 1514.29 L1639.29 1518.22 L1625.21 1518.22 L1625.21 1526.7 Q1626.23 1526.35 1627.25 1526.19 Q1628.27 1526 1629.29 1526 Q1635.08 1526 1638.45 1529.17 Q1641.83 1532.34 1641.83 1537.76 Q1641.83 1543.34 1638.36 1546.44 Q1634.89 1549.52 1628.57 1549.52 Q1626.39 1549.52 1624.13 1549.15 Q1621.88 1548.78 1619.47 1548.04 L1619.47 1543.34 Q1621.56 1544.47 1623.78 1545.03 Q1626 1545.58 1628.48 1545.58 Q1632.48 1545.58 1634.82 1543.48 Q1637.16 1541.37 1637.16 1537.76 Q1637.16 1534.15 1634.82 1532.04 Q1632.48 1529.94 1628.48 1529.94 Q1626.6 1529.94 1624.73 1530.35 Q1622.88 1530.77 1620.93 1531.65 L1620.93 1514.29 Z\" fill=\"#000000\" fill-rule=\"evenodd\" fill-opacity=\"1\" /><polyline clip-path=\"url(#clip492)\" style=\"stroke:#000000; stroke-linecap:round; stroke-linejoin:round; stroke-width:2; stroke-opacity:0.1; fill:none\" points=\"202.227,1233.77 1991.27,1233.77 \"/>\n",
       "<polyline clip-path=\"url(#clip492)\" style=\"stroke:#000000; stroke-linecap:round; stroke-linejoin:round; stroke-width:2; stroke-opacity:0.1; fill:none\" points=\"202.227,949.977 1991.27,949.977 \"/>\n",
       "<polyline clip-path=\"url(#clip492)\" style=\"stroke:#000000; stroke-linecap:round; stroke-linejoin:round; stroke-width:2; stroke-opacity:0.1; fill:none\" points=\"202.227,666.18 1991.27,666.18 \"/>\n",
       "<polyline clip-path=\"url(#clip492)\" style=\"stroke:#000000; stroke-linecap:round; stroke-linejoin:round; stroke-width:2; stroke-opacity:0.1; fill:none\" points=\"202.227,382.382 1991.27,382.382 \"/>\n",
       "<polyline clip-path=\"url(#clip492)\" style=\"stroke:#000000; stroke-linecap:round; stroke-linejoin:round; stroke-width:2; stroke-opacity:0.1; fill:none\" points=\"202.227,98.5847 1991.27,98.5847 \"/>\n",
       "<polyline clip-path=\"url(#clip490)\" style=\"stroke:#000000; stroke-linecap:round; stroke-linejoin:round; stroke-width:4; stroke-opacity:1; fill:none\" points=\"202.227,1486.45 202.227,47.2441 \"/>\n",
       "<polyline clip-path=\"url(#clip490)\" style=\"stroke:#000000; stroke-linecap:round; stroke-linejoin:round; stroke-width:4; stroke-opacity:1; fill:none\" points=\"202.227,1233.77 217.949,1233.77 \"/>\n",
       "<polyline clip-path=\"url(#clip490)\" style=\"stroke:#000000; stroke-linecap:round; stroke-linejoin:round; stroke-width:4; stroke-opacity:1; fill:none\" points=\"202.227,949.977 217.949,949.977 \"/>\n",
       "<polyline clip-path=\"url(#clip490)\" style=\"stroke:#000000; stroke-linecap:round; stroke-linejoin:round; stroke-width:4; stroke-opacity:1; fill:none\" points=\"202.227,666.18 217.949,666.18 \"/>\n",
       "<polyline clip-path=\"url(#clip490)\" style=\"stroke:#000000; stroke-linecap:round; stroke-linejoin:round; stroke-width:4; stroke-opacity:1; fill:none\" points=\"202.227,382.382 217.949,382.382 \"/>\n",
       "<polyline clip-path=\"url(#clip490)\" style=\"stroke:#000000; stroke-linecap:round; stroke-linejoin:round; stroke-width:4; stroke-opacity:1; fill:none\" points=\"202.227,98.5847 217.949,98.5847 \"/>\n",
       "<path clip-path=\"url(#clip490)\" d=\"M156.644 1220.57 L144.839 1239.02 L156.644 1239.02 L156.644 1220.57 M155.417 1216.49 L161.297 1216.49 L161.297 1239.02 L166.227 1239.02 L166.227 1242.91 L161.297 1242.91 L161.297 1251.05 L156.644 1251.05 L156.644 1242.91 L141.042 1242.91 L141.042 1238.39 L155.417 1216.49 Z\" fill=\"#000000\" fill-rule=\"evenodd\" fill-opacity=\"1\" /><path clip-path=\"url(#clip490)\" d=\"M154.7 948.114 Q151.552 948.114 149.7 950.267 Q147.871 952.419 147.871 956.169 Q147.871 959.896 149.7 962.072 Q151.552 964.225 154.7 964.225 Q157.848 964.225 159.677 962.072 Q161.528 959.896 161.528 956.169 Q161.528 952.419 159.677 950.267 Q157.848 948.114 154.7 948.114 M163.982 933.461 L163.982 937.72 Q162.223 936.887 160.417 936.447 Q158.635 936.007 156.876 936.007 Q152.246 936.007 149.792 939.132 Q147.362 942.257 147.015 948.577 Q148.38 946.563 150.441 945.498 Q152.501 944.41 154.978 944.41 Q160.186 944.41 163.195 947.581 Q166.227 950.729 166.227 956.169 Q166.227 961.493 163.079 964.711 Q159.931 967.928 154.7 967.928 Q148.704 967.928 145.533 963.345 Q142.362 958.739 142.362 950.012 Q142.362 941.817 146.251 936.956 Q150.14 932.072 156.69 932.072 Q158.45 932.072 160.232 932.419 Q162.038 932.767 163.982 933.461 Z\" fill=\"#000000\" fill-rule=\"evenodd\" fill-opacity=\"1\" /><path clip-path=\"url(#clip490)\" d=\"M154.376 667.048 Q151.042 667.048 149.121 668.83 Q147.223 670.613 147.223 673.738 Q147.223 676.863 149.121 678.645 Q151.042 680.427 154.376 680.427 Q157.709 680.427 159.63 678.645 Q161.552 676.839 161.552 673.738 Q161.552 670.613 159.63 668.83 Q157.732 667.048 154.376 667.048 M149.7 665.057 Q146.691 664.316 145.001 662.256 Q143.334 660.196 143.334 657.233 Q143.334 653.089 146.274 650.682 Q149.237 648.275 154.376 648.275 Q159.538 648.275 162.477 650.682 Q165.417 653.089 165.417 657.233 Q165.417 660.196 163.727 662.256 Q162.061 664.316 159.075 665.057 Q162.454 665.844 164.329 668.136 Q166.227 670.427 166.227 673.738 Q166.227 678.761 163.149 681.446 Q160.093 684.131 154.376 684.131 Q148.658 684.131 145.579 681.446 Q142.524 678.761 142.524 673.738 Q142.524 670.427 144.422 668.136 Q146.32 665.844 149.7 665.057 M147.987 657.673 Q147.987 660.358 149.653 661.863 Q151.343 663.367 154.376 663.367 Q157.385 663.367 159.075 661.863 Q160.788 660.358 160.788 657.673 Q160.788 654.988 159.075 653.483 Q157.385 651.978 154.376 651.978 Q151.343 651.978 149.653 653.483 Q147.987 654.988 147.987 657.673 Z\" fill=\"#000000\" fill-rule=\"evenodd\" fill-opacity=\"1\" /><path clip-path=\"url(#clip490)\" d=\"M114.931 395.727 L122.57 395.727 L122.57 369.361 L114.26 371.028 L114.26 366.769 L122.524 365.102 L127.2 365.102 L127.2 395.727 L134.839 395.727 L134.839 399.662 L114.931 399.662 L114.931 395.727 Z\" fill=\"#000000\" fill-rule=\"evenodd\" fill-opacity=\"1\" /><path clip-path=\"url(#clip490)\" d=\"M154.283 368.181 Q150.672 368.181 148.843 371.746 Q147.038 375.287 147.038 382.417 Q147.038 389.523 148.843 393.088 Q150.672 396.63 154.283 396.63 Q157.917 396.63 159.723 393.088 Q161.552 389.523 161.552 382.417 Q161.552 375.287 159.723 371.746 Q157.917 368.181 154.283 368.181 M154.283 364.477 Q160.093 364.477 163.149 369.084 Q166.227 373.667 166.227 382.417 Q166.227 391.144 163.149 395.75 Q160.093 400.334 154.283 400.334 Q148.473 400.334 145.394 395.75 Q142.339 391.144 142.339 382.417 Q142.339 373.667 145.394 369.084 Q148.473 364.477 154.283 364.477 Z\" fill=\"#000000\" fill-rule=\"evenodd\" fill-opacity=\"1\" /><path clip-path=\"url(#clip490)\" d=\"M116.529 111.93 L124.168 111.93 L124.168 85.564 L115.857 87.2306 L115.857 82.9714 L124.121 81.3047 L128.797 81.3047 L128.797 111.93 L136.436 111.93 L136.436 115.865 L116.529 115.865 L116.529 111.93 Z\" fill=\"#000000\" fill-rule=\"evenodd\" fill-opacity=\"1\" /><path clip-path=\"url(#clip490)\" d=\"M149.908 111.93 L166.227 111.93 L166.227 115.865 L144.283 115.865 L144.283 111.93 Q146.945 109.175 151.528 104.545 Q156.135 99.8926 157.315 98.55 Q159.561 96.0269 160.44 94.2908 Q161.343 92.5315 161.343 90.8417 Q161.343 88.0871 159.399 86.351 Q157.478 84.6149 154.376 84.6149 Q152.177 84.6149 149.723 85.3788 Q147.292 86.1427 144.515 87.6936 L144.515 82.9714 Q147.339 81.8372 149.792 81.2585 Q152.246 80.6797 154.283 80.6797 Q159.653 80.6797 162.848 83.3649 Q166.042 86.0501 166.042 90.5408 Q166.042 92.6704 165.232 94.5917 Q164.445 96.4899 162.339 99.0824 Q161.76 99.7537 158.658 102.971 Q155.556 106.166 149.908 111.93 Z\" fill=\"#000000\" fill-rule=\"evenodd\" fill-opacity=\"1\" /><path clip-path=\"url(#clip490)\" d=\"M43.0928 1073.2 Q43.0928 1075.96 45.4481 1077.56 Q47.8034 1079.12 52.0048 1079.12 Q56.1425 1079.12 58.5296 1077.56 Q60.885 1075.96 60.885 1073.2 Q60.885 1070.49 58.5296 1068.93 Q56.1425 1067.34 52.0048 1067.34 Q47.8353 1067.34 45.48 1068.93 Q43.0928 1070.49 43.0928 1073.2 M39.0506 1073.2 Q39.0506 1068.17 42.5517 1065.21 Q46.0529 1062.25 52.0048 1062.25 Q57.9567 1062.25 61.4579 1065.24 Q64.9272 1068.2 64.9272 1073.2 Q64.9272 1078.29 61.4579 1081.25 Q57.9567 1084.21 52.0048 1084.21 Q46.021 1084.21 42.5517 1081.25 Q39.0506 1078.26 39.0506 1073.2 M19.667 1106.04 Q19.667 1108.78 22.0542 1110.37 Q24.4095 1111.93 28.5472 1111.93 Q32.7485 1111.93 35.1038 1110.37 Q37.4592 1108.81 37.4592 1106.04 Q37.4592 1103.27 35.1038 1101.71 Q32.7485 1100.12 28.5472 1100.12 Q24.4413 1100.12 22.0542 1101.71 Q19.667 1103.31 19.667 1106.04 M15.6248 1077.3 L15.6248 1072.21 L64.9272 1101.94 L64.9272 1107.03 L15.6248 1077.3 M15.6248 1106.04 Q15.6248 1101.01 19.1259 1098.02 Q22.5952 1095.03 28.5472 1095.03 Q34.5628 1095.03 38.0321 1098.02 Q41.5014 1100.98 41.5014 1106.04 Q41.5014 1111.1 38.0321 1114.06 Q34.5309 1116.99 28.5472 1116.99 Q22.6271 1116.99 19.1259 1114.03 Q15.6248 1111.07 15.6248 1106.04 Z\" fill=\"#000000\" fill-rule=\"evenodd\" fill-opacity=\"1\" /><path clip-path=\"url(#clip490)\" d=\"M32.4621 1017.97 Q32.4621 1022.68 36.1542 1025.42 Q39.8145 1028.16 46.212 1028.16 Q52.6095 1028.16 56.3017 1025.45 Q59.9619 1022.72 59.9619 1017.97 Q59.9619 1013.29 56.2698 1010.56 Q52.5777 1007.82 46.212 1007.82 Q39.8781 1007.82 36.186 1010.56 Q32.4621 1013.29 32.4621 1017.97 M27.4968 1017.97 Q27.4968 1010.33 32.4621 1005.97 Q37.4273 1001.61 46.212 1001.61 Q54.9649 1001.61 59.9619 1005.97 Q64.9272 1010.33 64.9272 1017.97 Q64.9272 1025.64 59.9619 1030 Q54.9649 1034.33 46.212 1034.33 Q37.4273 1034.33 32.4621 1030 Q27.4968 1025.64 27.4968 1017.97 Z\" fill=\"#000000\" fill-rule=\"evenodd\" fill-opacity=\"1\" /><path clip-path=\"url(#clip490)\" d=\"M14.479 973.859 L19.3487 973.859 L19.3487 979.461 Q19.3487 982.612 20.6219 983.853 Q21.895 985.062 25.2052 985.062 L28.3562 985.062 L28.3562 975.418 L32.9077 975.418 L32.9077 985.062 L64.0042 985.062 L64.0042 990.951 L32.9077 990.951 L32.9077 996.553 L28.3562 996.553 L28.3562 990.951 L25.8736 990.951 Q19.9216 990.951 17.2162 988.182 Q14.479 985.413 14.479 979.397 L14.479 973.859 Z\" fill=\"#000000\" fill-rule=\"evenodd\" fill-opacity=\"1\" /><path clip-path=\"url(#clip490)\" d=\"M16.4842 954.571 L16.4842 914.371 L21.895 914.371 L21.895 931.24 L64.0042 931.24 L64.0042 937.702 L21.895 937.702 L21.895 954.571 L16.4842 954.571 Z\" fill=\"#000000\" fill-rule=\"evenodd\" fill-opacity=\"1\" /><path clip-path=\"url(#clip490)\" d=\"M32.4621 905.682 Q32.4621 910.393 36.1542 913.13 Q39.8145 915.867 46.212 915.867 Q52.6095 915.867 56.3017 913.162 Q59.9619 910.424 59.9619 905.682 Q59.9619 901.003 56.2698 898.266 Q52.5777 895.529 46.212 895.529 Q39.8781 895.529 36.186 898.266 Q32.4621 901.003 32.4621 905.682 M27.4968 905.682 Q27.4968 898.043 32.4621 893.683 Q37.4273 889.322 46.212 889.322 Q54.9649 889.322 59.9619 893.683 Q64.9272 898.043 64.9272 905.682 Q64.9272 913.353 59.9619 917.713 Q54.9649 922.042 46.212 922.042 Q37.4273 922.042 32.4621 917.713 Q27.4968 913.353 27.4968 905.682 Z\" fill=\"#000000\" fill-rule=\"evenodd\" fill-opacity=\"1\" /><path clip-path=\"url(#clip490)\" d=\"M18.2347 873.822 L28.3562 873.822 L28.3562 861.759 L32.9077 861.759 L32.9077 873.822 L52.2594 873.822 Q56.6199 873.822 57.8613 872.644 Q59.1026 871.435 59.1026 867.774 L59.1026 861.759 L64.0042 861.759 L64.0042 867.774 Q64.0042 874.554 61.4897 877.132 Q58.9434 879.71 52.2594 879.71 L32.9077 879.71 L32.9077 884.007 L28.3562 884.007 L28.3562 879.71 L18.2347 879.71 L18.2347 873.822 Z\" fill=\"#000000\" fill-rule=\"evenodd\" fill-opacity=\"1\" /><path clip-path=\"url(#clip490)\" d=\"M46.0847 837.855 Q46.0847 844.953 47.7079 847.69 Q49.3312 850.428 53.2461 850.428 Q56.3653 850.428 58.2114 848.391 Q60.0256 846.322 60.0256 842.789 Q60.0256 837.919 56.5881 834.991 Q53.1188 832.031 47.3897 832.031 L46.0847 832.031 L46.0847 837.855 M43.6657 826.174 L64.0042 826.174 L64.0042 832.031 L58.5933 832.031 Q61.8398 834.036 63.3994 837.028 Q64.9272 840.02 64.9272 844.348 Q64.9272 849.823 61.8716 853.069 Q58.7843 856.284 53.6281 856.284 Q47.6125 856.284 44.5569 852.274 Q41.5014 848.232 41.5014 840.243 L41.5014 832.031 L40.9285 832.031 Q36.8862 832.031 34.6901 834.704 Q32.4621 837.346 32.4621 842.152 Q32.4621 845.208 33.1941 848.104 Q33.9262 851.001 35.3903 853.674 L29.9795 853.674 Q28.7381 850.46 28.1334 847.436 Q27.4968 844.412 27.4968 841.548 Q27.4968 833.813 31.5072 829.994 Q35.5176 826.174 43.6657 826.174 Z\" fill=\"#000000\" fill-rule=\"evenodd\" fill-opacity=\"1\" /><path clip-path=\"url(#clip490)\" d=\"M14.479 814.111 L14.479 808.255 L64.0042 808.255 L64.0042 814.111 L14.479 814.111 Z\" fill=\"#000000\" fill-rule=\"evenodd\" fill-opacity=\"1\" /><path clip-path=\"url(#clip490)\" d=\"M21.7677 768.597 L39.6235 768.597 L39.6235 760.512 Q39.6235 756.024 37.3 753.573 Q34.9765 751.123 30.6797 751.123 Q26.4147 751.123 24.0912 753.573 Q21.7677 756.024 21.7677 760.512 L21.7677 768.597 M16.4842 775.026 L16.4842 760.512 Q16.4842 752.523 20.1126 748.449 Q23.7092 744.343 30.6797 744.343 Q37.7138 744.343 41.3104 748.449 Q44.907 752.523 44.907 760.512 L44.907 768.597 L64.0042 768.597 L64.0042 775.026 L16.4842 775.026 Z\" fill=\"#000000\" fill-rule=\"evenodd\" fill-opacity=\"1\" /><path clip-path=\"url(#clip490)\" d=\"M46.0847 722.7 Q46.0847 729.798 47.7079 732.535 Q49.3312 735.272 53.2461 735.272 Q56.3653 735.272 58.2114 733.235 Q60.0256 731.166 60.0256 727.633 Q60.0256 722.763 56.5881 719.835 Q53.1188 716.875 47.3897 716.875 L46.0847 716.875 L46.0847 722.7 M43.6657 711.019 L64.0042 711.019 L64.0042 716.875 L58.5933 716.875 Q61.8398 718.88 63.3994 721.872 Q64.9272 724.864 64.9272 729.193 Q64.9272 734.667 61.8716 737.914 Q58.7843 741.129 53.6281 741.129 Q47.6125 741.129 44.5569 737.118 Q41.5014 733.076 41.5014 725.087 L41.5014 716.875 L40.9285 716.875 Q36.8862 716.875 34.6901 719.549 Q32.4621 722.191 32.4621 726.997 Q32.4621 730.052 33.1941 732.949 Q33.9262 735.845 35.3903 738.519 L29.9795 738.519 Q28.7381 735.304 28.1334 732.28 Q27.4968 729.256 27.4968 726.392 Q27.4968 718.658 31.5072 714.838 Q35.5176 711.019 43.6657 711.019 Z\" fill=\"#000000\" fill-rule=\"evenodd\" fill-opacity=\"1\" /><path clip-path=\"url(#clip490)\" d=\"M29.4065 676.23 L34.9447 676.23 Q33.6716 678.713 33.035 681.386 Q32.3984 684.06 32.3984 686.925 Q32.3984 691.285 33.7352 693.481 Q35.072 695.646 37.7456 695.646 Q39.7826 695.646 40.9603 694.086 Q42.1061 692.526 43.1565 687.816 L43.6021 685.811 Q44.9389 679.572 47.3897 676.962 Q49.8086 674.32 54.1691 674.32 Q59.1344 674.32 62.0308 678.267 Q64.9272 682.182 64.9272 689.057 Q64.9272 691.922 64.3543 695.041 Q63.8132 698.128 62.6992 701.566 L56.6518 701.566 Q58.3387 698.319 59.198 695.168 Q60.0256 692.017 60.0256 688.93 Q60.0256 684.792 58.6251 682.564 Q57.1929 680.336 54.6147 680.336 Q52.2276 680.336 50.9545 681.959 Q49.6813 683.551 48.5037 688.993 L48.0262 691.03 Q46.8804 696.473 44.5251 698.892 Q42.138 701.311 38.0002 701.311 Q32.9713 701.311 30.2341 697.746 Q27.4968 694.181 27.4968 687.625 Q27.4968 684.378 27.9743 681.514 Q28.4517 678.649 29.4065 676.23 Z\" fill=\"#000000\" fill-rule=\"evenodd\" fill-opacity=\"1\" /><path clip-path=\"url(#clip490)\" d=\"M29.4065 642.269 L34.9447 642.269 Q33.6716 644.752 33.035 647.425 Q32.3984 650.099 32.3984 652.963 Q32.3984 657.324 33.7352 659.52 Q35.072 661.685 37.7456 661.685 Q39.7826 661.685 40.9603 660.125 Q42.1061 658.565 43.1565 653.855 L43.6021 651.849 Q44.9389 645.611 47.3897 643.001 Q49.8086 640.359 54.1691 640.359 Q59.1344 640.359 62.0308 644.306 Q64.9272 648.221 64.9272 655.096 Q64.9272 657.961 64.3543 661.08 Q63.8132 664.167 62.6992 667.605 L56.6518 667.605 Q58.3387 664.358 59.198 661.207 Q60.0256 658.056 60.0256 654.969 Q60.0256 650.831 58.6251 648.603 Q57.1929 646.375 54.6147 646.375 Q52.2276 646.375 50.9545 647.998 Q49.6813 649.59 48.5037 655.032 L48.0262 657.069 Q46.8804 662.512 44.5251 664.931 Q42.138 667.35 38.0002 667.35 Q32.9713 667.35 30.2341 663.785 Q27.4968 660.22 27.4968 653.664 Q27.4968 650.417 27.9743 647.553 Q28.4517 644.688 29.4065 642.269 Z\" fill=\"#000000\" fill-rule=\"evenodd\" fill-opacity=\"1\" /><path clip-path=\"url(#clip490)\" d=\"M44.7161 600.542 L47.5806 600.542 L47.5806 627.469 Q53.6281 627.087 56.8109 623.84 Q59.9619 620.562 59.9619 614.737 Q59.9619 611.364 59.1344 608.213 Q58.3069 605.03 56.6518 601.911 L62.1899 601.911 Q63.5267 605.062 64.227 608.372 Q64.9272 611.682 64.9272 615.088 Q64.9272 623.618 59.9619 628.615 Q54.9967 633.58 46.5303 633.58 Q37.7774 633.58 32.6531 628.869 Q27.4968 624.127 27.4968 616.106 Q27.4968 608.913 32.1438 604.743 Q36.7589 600.542 44.7161 600.542 M42.9973 606.398 Q38.1912 606.462 35.3266 609.104 Q32.4621 611.714 32.4621 616.042 Q32.4621 620.944 35.2312 623.904 Q38.0002 626.832 43.0292 627.278 L42.9973 606.398 Z\" fill=\"#000000\" fill-rule=\"evenodd\" fill-opacity=\"1\" /><path clip-path=\"url(#clip490)\" d=\"M42.4881 561.297 L64.0042 561.297 L64.0042 567.154 L42.679 567.154 Q37.6183 567.154 35.1038 569.127 Q32.5894 571.101 32.5894 575.047 Q32.5894 579.79 35.6131 582.527 Q38.6368 585.264 43.8567 585.264 L64.0042 585.264 L64.0042 591.152 L28.3562 591.152 L28.3562 585.264 L33.8944 585.264 Q30.6797 583.164 29.0883 580.331 Q27.4968 577.466 27.4968 573.742 Q27.4968 567.599 31.3163 564.448 Q35.1038 561.297 42.4881 561.297 Z\" fill=\"#000000\" fill-rule=\"evenodd\" fill-opacity=\"1\" /><path clip-path=\"url(#clip490)\" d=\"M45.7664 526.159 Q39.4007 526.159 35.8996 528.8 Q32.3984 531.41 32.3984 536.153 Q32.3984 540.863 35.8996 543.505 Q39.4007 546.115 45.7664 546.115 Q52.1003 546.115 55.6014 543.505 Q59.1026 540.863 59.1026 536.153 Q59.1026 531.41 55.6014 528.8 Q52.1003 526.159 45.7664 526.159 M59.58 520.302 Q68.683 520.302 73.1071 524.344 Q77.5631 528.387 77.5631 536.726 Q77.5631 539.813 77.0857 542.55 Q76.6401 545.288 75.6852 547.866 L69.9879 547.866 Q71.3884 545.288 72.0568 542.773 Q72.7252 540.259 72.7252 537.649 Q72.7252 531.888 69.7015 529.023 Q66.7096 526.159 60.6303 526.159 L57.7339 526.159 Q60.885 527.973 62.4446 530.806 Q64.0042 533.638 64.0042 537.585 Q64.0042 544.142 59.0071 548.152 Q54.01 552.163 45.7664 552.163 Q37.491 552.163 32.4939 548.152 Q27.4968 544.142 27.4968 537.585 Q27.4968 533.638 29.0564 530.806 Q30.616 527.973 33.7671 526.159 L28.3562 526.159 L28.3562 520.302 L59.58 520.302 Z\" fill=\"#000000\" fill-rule=\"evenodd\" fill-opacity=\"1\" /><path clip-path=\"url(#clip490)\" d=\"M44.7161 477.747 L47.5806 477.747 L47.5806 504.674 Q53.6281 504.292 56.8109 501.046 Q59.9619 497.768 59.9619 491.943 Q59.9619 488.569 59.1344 485.418 Q58.3069 482.235 56.6518 479.116 L62.1899 479.116 Q63.5267 482.267 64.227 485.577 Q64.9272 488.887 64.9272 492.293 Q64.9272 500.823 59.9619 505.82 Q54.9967 510.785 46.5303 510.785 Q37.7774 510.785 32.6531 506.075 Q27.4968 501.332 27.4968 493.312 Q27.4968 486.118 32.1438 481.949 Q36.7589 477.747 44.7161 477.747 M42.9973 483.604 Q38.1912 483.668 35.3266 486.309 Q32.4621 488.919 32.4621 493.248 Q32.4621 498.15 35.2312 501.11 Q38.0002 504.038 43.0292 504.483 L42.9973 483.604 Z\" fill=\"#000000\" fill-rule=\"evenodd\" fill-opacity=\"1\" /><path clip-path=\"url(#clip490)\" d=\"M33.8307 447.478 Q33.2578 448.465 33.0032 449.643 Q32.7167 450.789 32.7167 452.189 Q32.7167 457.154 35.9632 459.828 Q39.1779 462.47 45.2253 462.47 L64.0042 462.47 L64.0042 468.358 L28.3562 468.358 L28.3562 462.47 L33.8944 462.47 Q30.6479 460.624 29.0883 457.664 Q27.4968 454.704 27.4968 450.47 Q27.4968 449.866 27.5923 449.134 Q27.656 448.402 27.8151 447.51 L33.8307 447.478 Z\" fill=\"#000000\" fill-rule=\"evenodd\" fill-opacity=\"1\" /><path clip-path=\"url(#clip490)\" d=\"M29.4065 418.61 L34.9447 418.61 Q33.6716 421.093 33.035 423.766 Q32.3984 426.44 32.3984 429.304 Q32.3984 433.665 33.7352 435.861 Q35.072 438.025 37.7456 438.025 Q39.7826 438.025 40.9603 436.466 Q42.1061 434.906 43.1565 430.196 L43.6021 428.19 Q44.9389 421.952 47.3897 419.342 Q49.8086 416.7 54.1691 416.7 Q59.1344 416.7 62.0308 420.647 Q64.9272 424.562 64.9272 431.437 Q64.9272 434.301 64.3543 437.421 Q63.8132 440.508 62.6992 443.946 L56.6518 443.946 Q58.3387 440.699 59.198 437.548 Q60.0256 434.397 60.0256 431.31 Q60.0256 427.172 58.6251 424.944 Q57.1929 422.716 54.6147 422.716 Q52.2276 422.716 50.9545 424.339 Q49.6813 425.931 48.5037 431.373 L48.0262 433.41 Q46.8804 438.853 44.5251 441.272 Q42.138 443.691 38.0002 443.691 Q32.9713 443.691 30.2341 440.126 Q27.4968 436.561 27.4968 430.005 Q27.4968 426.758 27.9743 423.894 Q28.4517 421.029 29.4065 418.61 Z\" fill=\"#000000\" fill-rule=\"evenodd\" fill-opacity=\"1\" /><polyline clip-path=\"url(#clip492)\" style=\"stroke:#000000; stroke-linecap:round; stroke-linejoin:round; stroke-width:12; stroke-opacity:1; fill:none\" points=\"252.861,1369.62 341.691,1333.27 430.522,1368.16 519.352,1362.72 608.183,1348.26 697.013,1327.44 785.844,1315.85 874.674,1339.24 963.505,1339.88 1052.34,1324.15 1141.17,1318.61 1230,1309.85 1318.83,1311.94 1407.66,1289.15 1496.49,1297.78 1585.32,1296.36 1674.15,1292.56 1762.98,1298.02 1851.81,1303.61 1940.64,1305.6 \"/>\n",
       "<polyline clip-path=\"url(#clip492)\" style=\"stroke:#ffff74; stroke-linecap:round; stroke-linejoin:round; stroke-width:12; stroke-opacity:1; fill:none\" points=\"252.861,410.91 341.691,94.6848 430.522,146.117 519.352,174.284 608.183,191.998 697.013,119.636 785.844,113.987 874.674,149.708 963.505,180.378 1052.34,177.289 1141.17,179.851 1230,202.913 1318.83,254.309 1407.66,280.094 1496.49,270.144 1585.32,297.761 1674.15,289.993 1762.98,274.839 1851.81,291.416 1940.64,285.554 \"/>\n",
       "<polyline clip-path=\"url(#clip492)\" style=\"stroke:#ff9bff; stroke-linecap:round; stroke-linejoin:round; stroke-width:12; stroke-opacity:1; fill:none\" points=\"252.861,1370.86 341.691,1383.42 430.522,1408.72 519.352,1427.71 1496.49,1405.38 1585.32,1351.22 1674.15,1393.48 1762.98,1390.86 1851.81,1392.43 1940.64,1381.85 \"/>\n",
       "<polyline clip-path=\"url(#clip492)\" style=\"stroke:#00d3ff; stroke-linecap:round; stroke-linejoin:round; stroke-width:12; stroke-opacity:1; fill:none\" points=\"252.861,717.07 341.691,772.81 430.522,802.526 519.352,806.226 608.183,761.79 697.013,824.882 785.844,797.646 874.674,760.391 963.505,752.169 1052.34,734.334 1141.17,713.988 1230,669.714 1318.83,659.391 1407.66,664.949 1496.49,631.123 1585.32,592.37 1674.15,592.257 1762.98,606.427 1851.81,592.024 1940.64,597.049 \"/>\n",
       "<polyline clip-path=\"url(#clip492)\" style=\"stroke:#e2630d; stroke-linecap:round; stroke-linejoin:round; stroke-width:12; stroke-opacity:1; fill:none\" points=\"252.861,980.708 341.691,1153.2 430.522,1115.95 519.352,1044.65 608.183,1002.49 697.013,984.045 785.844,956.821 874.674,925.324 963.505,886.112 1052.34,867.928 1141.17,890.12 1230,886.934 1318.83,848.083 1407.66,859.987 1496.49,874.537 1585.32,891.03 1674.15,919.867 1762.98,910.338 1851.81,861.572 1940.64,842.308 \"/>\n",
       "<polyline clip-path=\"url(#clip492)\" style=\"stroke:#007e00; stroke-linecap:round; stroke-linejoin:round; stroke-width:12; stroke-opacity:1; fill:none\" points=\"252.861,779.573 341.691,776.909 430.522,752.959 519.352,748.675 608.183,771.645 697.013,805.534 785.844,846.028 874.674,860.458 963.505,841.777 1052.34,864.345 1141.17,898.02 1230,885.516 1318.83,841.712 1407.66,806.018 1496.49,796.985 1585.32,850.067 1674.15,834.362 1762.98,865.06 1851.81,910.634 1940.64,912.789 \"/>\n",
       "<polyline clip-path=\"url(#clip492)\" style=\"stroke:#0050e6; stroke-linecap:round; stroke-linejoin:round; stroke-width:12; stroke-opacity:1; fill:none\" points=\"252.861,1393.23 341.691,1401.81 430.522,1395.64 519.352,1388.58 608.183,1395.47 697.013,1386.22 785.844,1388.58 874.674,1370.57 963.505,1364.75 1052.34,1337.8 1141.17,1352.75 1230,1363.39 1318.83,1358.2 1407.66,1352.6 1496.49,1353.59 1585.32,1362 1674.15,1365.69 1762.98,1382.31 1851.81,1382.25 1940.64,1396.4 \"/>\n",
       "<polyline clip-path=\"url(#clip492)\" style=\"stroke:#ac0047; stroke-linecap:round; stroke-linejoin:round; stroke-width:12; stroke-opacity:1; fill:none\" points=\"874.674,1445.72 1052.34,1426.98 1141.17,1407.92 1230,1401.15 1318.83,1403.3 1407.66,1403.99 1496.49,1400.78 1585.32,1406.4 1674.15,1417.68 1762.98,1432.08 1851.81,1432.1 1940.64,1430.59 \"/>\n",
       "<polyline clip-path=\"url(#clip492)\" style=\"stroke:#00ffc8; stroke-linecap:round; stroke-linejoin:round; stroke-width:12; stroke-opacity:1; fill:none\" points=\"252.861,1317.11 341.691,1306.44 430.522,1280.82 519.352,1284.48 608.183,1258.21 697.013,1240.75 785.844,1242.72 874.674,1234.8 963.505,1232.75 1052.34,1225.36 1141.17,1246.64 1230,1275.06 1318.83,1307.54 1407.66,1387.95 \"/>\n",
       "<polyline clip-path=\"url(#clip492)\" style=\"stroke:#006468; stroke-linecap:round; stroke-linejoin:round; stroke-width:12; stroke-opacity:1; fill:none\" points=\"252.861,1332.17 341.691,1313.33 430.522,1312.6 519.352,1341.29 608.183,1302.2 697.013,1352.97 785.844,1382.45 874.674,1384.42 963.505,1377.72 1052.34,1396.75 1141.17,1374.86 1230,1363.12 1318.83,1359.29 1407.66,1360.85 1496.49,1350.4 1585.32,1320.74 1674.15,1308.58 1762.98,1272.33 1851.81,1240.86 1940.64,1223.72 \"/>\n",
       "<polyline clip-path=\"url(#clip492)\" style=\"stroke:#ffd5c4; stroke-linecap:round; stroke-linejoin:round; stroke-width:12; stroke-opacity:1; fill:none\" points=\"519.352,1426.51 608.183,1399.69 697.013,1375.67 785.844,1336.81 874.674,1344.63 963.505,1353.58 1052.34,1340.64 1141.17,1325.58 1230,1311.9 1318.83,1313.27 1407.66,1303.12 1496.49,1270.29 1585.32,1265.38 1674.15,1258.26 1762.98,1264.08 1851.81,1281.5 1940.64,1301.84 \"/>\n",
       "<polyline clip-path=\"url(#clip492)\" style=\"stroke:#6c5200; stroke-linecap:round; stroke-linejoin:round; stroke-width:12; stroke-opacity:1; fill:none\" points=\"252.861,1020.46 341.691,1104.42 430.522,1118.34 519.352,1155.84 608.183,1170.32 697.013,1193.96 785.844,1228.37 874.674,1227.68 963.505,1211.02 1052.34,1217.86 1141.17,1200.52 1230,1197.9 1318.83,1185.57 1407.66,1152.92 1496.49,1120.56 1585.32,1106.26 1674.15,1092.43 1762.98,1077.97 1851.81,1072.69 1940.64,1061.04 \"/>\n",
       "<polyline clip-path=\"url(#clip492)\" style=\"stroke:#7a7581; stroke-linecap:round; stroke-linejoin:round; stroke-width:12; stroke-opacity:1; fill:none\" points=\"252.861,1341.02 341.691,1352.24 430.522,1347.68 519.352,1349.04 608.183,1322.68 697.013,1324.7 785.844,1303.76 874.674,1298.76 963.505,1308.32 1052.34,1324.68 1141.17,1285.03 1230,1313.7 1318.83,1265.89 1407.66,1265.98 1496.49,1278.72 1585.32,1290.55 1674.15,1360.86 1762.98,1362.62 1851.81,1383.33 1940.64,1426.53 \"/>\n",
       "<polyline clip-path=\"url(#clip492)\" style=\"stroke:#44005c; stroke-linecap:round; stroke-linejoin:round; stroke-width:12; stroke-opacity:1; fill:none\" points=\"252.861,1204.31 341.691,1234.69 430.522,1211.79 519.352,1229.57 608.183,1250.98 697.013,1253.41 785.844,1263.63 874.674,1250.26 963.505,1258.11 1052.34,1307.97 1141.17,1295.1 1230,1280.35 1318.83,1286.45 1407.66,1303.97 1496.49,1306.65 1585.32,1321.19 1674.15,1324.5 1762.98,1330.27 1851.81,1327.98 1940.64,1327.51 \"/>\n",
       "<polyline clip-path=\"url(#clip492)\" style=\"stroke:#9e9e77; stroke-linecap:round; stroke-linejoin:round; stroke-width:12; stroke-opacity:1; fill:none\" points=\"252.861,124.107 341.691,122.684 430.522,93.7227 519.352,87.9763 608.183,153.151 697.013,146.594 785.844,177.813 874.674,205.908 963.505,211.3 1052.34,239.044 1141.17,264.872 1230,268.125 1318.83,318.478 1407.66,379.507 1496.49,358.217 1585.32,368.532 1674.15,285.807 1762.98,294.541 1851.81,282.439 1940.64,262.827 \"/>\n",
       "<polyline clip-path=\"url(#clip492)\" style=\"stroke:#ff5c78; stroke-linecap:round; stroke-linejoin:round; stroke-width:12; stroke-opacity:1; fill:none\" points=\"608.183,1442.43 697.013,1425.57 785.844,1425.06 874.674,1437.28 963.505,1441.98 1052.34,1439.58 1230,1441.73 1318.83,1436.32 1762.98,1439.64 1851.81,1421.4 1940.64,1415.38 \"/>\n",
       "<path clip-path=\"url(#clip490)\" d=\"M2062.96 1229.54 L2352.76 1229.54 L2352.76 348.259 L2062.96 348.259  Z\" fill=\"#ffffff\" fill-rule=\"evenodd\" fill-opacity=\"1\"/>\n",
       "<polyline clip-path=\"url(#clip490)\" style=\"stroke:#000000; stroke-linecap:round; stroke-linejoin:round; stroke-width:4; stroke-opacity:1; fill:none\" points=\"2062.96,1229.54 2352.76,1229.54 2352.76,348.259 2062.96,348.259 2062.96,1229.54 \"/>\n",
       "<polyline clip-path=\"url(#clip490)\" style=\"stroke:#000000; stroke-linecap:round; stroke-linejoin:round; stroke-width:12; stroke-opacity:1; fill:none\" points=\"2086.85,400.099 2230.22,400.099 \"/>\n",
       "<path clip-path=\"url(#clip490)\" d=\"M2269.95 387.426 L2263.61 404.625 L2276.32 404.625 L2269.95 387.426 M2267.31 382.819 L2272.61 382.819 L2285.78 417.379 L2280.92 417.379 L2277.77 408.514 L2262.19 408.514 L2259.05 417.379 L2254.12 417.379 L2267.31 382.819 Z\" fill=\"#000000\" fill-rule=\"evenodd\" fill-opacity=\"1\" /><path clip-path=\"url(#clip490)\" d=\"M2288.84 382.819 L2315.99 382.819 L2315.99 386.384 L2294.14 413.444 L2316.52 413.444 L2316.52 417.379 L2288.31 417.379 L2288.31 413.815 L2310.16 386.755 L2288.84 386.755 L2288.84 382.819 Z\" fill=\"#000000\" fill-rule=\"evenodd\" fill-opacity=\"1\" /><polyline clip-path=\"url(#clip490)\" style=\"stroke:#ffff74; stroke-linecap:round; stroke-linejoin:round; stroke-width:12; stroke-opacity:1; fill:none\" points=\"2086.85,451.939 2230.22,451.939 \"/>\n",
       "<path clip-path=\"url(#clip490)\" d=\"M2281.99 437.321 L2281.99 442.252 Q2279.63 440.053 2276.94 438.965 Q2274.28 437.877 2271.27 437.877 Q2265.34 437.877 2262.19 441.511 Q2259.05 445.122 2259.05 451.974 Q2259.05 458.803 2262.19 462.437 Q2265.34 466.048 2271.27 466.048 Q2274.28 466.048 2276.94 464.96 Q2279.63 463.872 2281.99 461.673 L2281.99 466.557 Q2279.53 468.224 2276.78 469.057 Q2274.05 469.891 2270.99 469.891 Q2263.14 469.891 2258.63 465.099 Q2254.12 460.284 2254.12 451.974 Q2254.12 443.641 2258.63 438.849 Q2263.14 434.034 2270.99 434.034 Q2274.09 434.034 2276.82 434.868 Q2279.58 435.678 2281.99 437.321 Z\" fill=\"#000000\" fill-rule=\"evenodd\" fill-opacity=\"1\" /><path clip-path=\"url(#clip490)\" d=\"M2300.76 439.266 L2294.42 456.465 L2307.13 456.465 L2300.76 439.266 M2298.12 434.659 L2303.42 434.659 L2316.59 469.219 L2311.73 469.219 L2308.58 460.354 L2293 460.354 L2289.86 469.219 L2284.93 469.219 L2298.12 434.659 Z\" fill=\"#000000\" fill-rule=\"evenodd\" fill-opacity=\"1\" /><polyline clip-path=\"url(#clip490)\" style=\"stroke:#ff9bff; stroke-linecap:round; stroke-linejoin:round; stroke-width:12; stroke-opacity:1; fill:none\" points=\"2086.85,503.779 2230.22,503.779 \"/>\n",
       "<path clip-path=\"url(#clip490)\" d=\"M2258.79 490.342 L2258.79 517.217 L2264.44 517.217 Q2271.59 517.217 2274.9 513.976 Q2278.24 510.735 2278.24 503.745 Q2278.24 496.8 2274.9 493.583 Q2271.59 490.342 2264.44 490.342 L2258.79 490.342 M2254.12 486.499 L2263.72 486.499 Q2273.77 486.499 2278.47 490.689 Q2283.17 494.856 2283.17 503.745 Q2283.17 512.68 2278.44 516.87 Q2273.72 521.059 2263.72 521.059 L2254.12 521.059 L2254.12 486.499 Z\" fill=\"#000000\" fill-rule=\"evenodd\" fill-opacity=\"1\" /><path clip-path=\"url(#clip490)\" d=\"M2316.5 489.161 L2316.5 494.092 Q2314.14 491.893 2311.45 490.805 Q2308.79 489.717 2305.78 489.717 Q2299.86 489.717 2296.71 493.351 Q2293.56 496.962 2293.56 503.814 Q2293.56 510.643 2296.71 514.277 Q2299.86 517.888 2305.78 517.888 Q2308.79 517.888 2311.45 516.8 Q2314.14 515.712 2316.5 513.513 L2316.5 518.397 Q2314.05 520.064 2311.29 520.897 Q2308.56 521.731 2305.5 521.731 Q2297.66 521.731 2293.14 516.939 Q2288.63 512.124 2288.63 503.814 Q2288.63 495.481 2293.14 490.689 Q2297.66 485.874 2305.5 485.874 Q2308.61 485.874 2311.34 486.708 Q2314.09 487.518 2316.5 489.161 Z\" fill=\"#000000\" fill-rule=\"evenodd\" fill-opacity=\"1\" /><polyline clip-path=\"url(#clip490)\" style=\"stroke:#00d3ff; stroke-linecap:round; stroke-linejoin:round; stroke-width:12; stroke-opacity:1; fill:none\" points=\"2086.85,555.619 2230.22,555.619 \"/>\n",
       "<path clip-path=\"url(#clip490)\" d=\"M2254.12 538.339 L2273.98 538.339 L2273.98 542.275 L2258.79 542.275 L2258.79 552.46 L2272.5 552.46 L2272.5 556.395 L2258.79 556.395 L2258.79 572.899 L2254.12 572.899 L2254.12 538.339 Z\" fill=\"#000000\" fill-rule=\"evenodd\" fill-opacity=\"1\" /><path clip-path=\"url(#clip490)\" d=\"M2281.38 538.339 L2286.06 538.339 L2286.06 568.964 L2302.89 568.964 L2302.89 572.899 L2281.38 572.899 L2281.38 538.339 Z\" fill=\"#000000\" fill-rule=\"evenodd\" fill-opacity=\"1\" /><polyline clip-path=\"url(#clip490)\" style=\"stroke:#e2630d; stroke-linecap:round; stroke-linejoin:round; stroke-width:12; stroke-opacity:1; fill:none\" points=\"2086.85,607.459 2230.22,607.459 \"/>\n",
       "<path clip-path=\"url(#clip490)\" d=\"M2279.67 619.809 L2279.67 610.527 L2272.03 610.527 L2272.03 606.684 L2284.3 606.684 L2284.3 621.522 Q2281.59 623.443 2278.33 624.439 Q2275.07 625.411 2271.36 625.411 Q2263.26 625.411 2258.68 620.689 Q2254.12 615.943 2254.12 607.494 Q2254.12 599.022 2258.68 594.3 Q2263.26 589.554 2271.36 589.554 Q2274.74 589.554 2277.77 590.388 Q2280.83 591.221 2283.4 592.841 L2283.4 597.818 Q2280.81 595.619 2277.89 594.508 Q2274.97 593.397 2271.75 593.397 Q2265.41 593.397 2262.22 596.939 Q2259.05 600.48 2259.05 607.494 Q2259.05 614.485 2262.22 618.027 Q2265.41 621.568 2271.75 621.568 Q2274.23 621.568 2276.18 621.151 Q2278.12 620.712 2279.67 619.809 Z\" fill=\"#000000\" fill-rule=\"evenodd\" fill-opacity=\"1\" /><path clip-path=\"url(#clip490)\" d=\"M2304.39 594.786 L2298.05 611.985 L2310.76 611.985 L2304.39 594.786 M2301.75 590.179 L2307.06 590.179 L2320.23 624.739 L2315.37 624.739 L2312.22 615.874 L2296.64 615.874 L2293.49 624.739 L2288.56 624.739 L2301.75 590.179 Z\" fill=\"#000000\" fill-rule=\"evenodd\" fill-opacity=\"1\" /><polyline clip-path=\"url(#clip490)\" style=\"stroke:#007e00; stroke-linecap:round; stroke-linejoin:round; stroke-width:12; stroke-opacity:1; fill:none\" points=\"2086.85,659.299 2230.22,659.299 \"/>\n",
       "<path clip-path=\"url(#clip490)\" d=\"M2254.12 642.019 L2258.79 642.019 L2258.79 676.579 L2254.12 676.579 L2254.12 642.019 Z\" fill=\"#000000\" fill-rule=\"evenodd\" fill-opacity=\"1\" /><path clip-path=\"url(#clip490)\" d=\"M2268.1 642.019 L2272.77 642.019 L2272.77 672.644 L2289.6 672.644 L2289.6 676.579 L2268.1 676.579 L2268.1 642.019 Z\" fill=\"#000000\" fill-rule=\"evenodd\" fill-opacity=\"1\" /><polyline clip-path=\"url(#clip490)\" style=\"stroke:#0050e6; stroke-linecap:round; stroke-linejoin:round; stroke-width:12; stroke-opacity:1; fill:none\" points=\"2086.85,711.139 2230.22,711.139 \"/>\n",
       "<path clip-path=\"url(#clip490)\" d=\"M2254.12 693.859 L2261.08 693.859 L2269.9 717.378 L2278.77 693.859 L2285.74 693.859 L2285.74 728.419 L2281.18 728.419 L2281.18 698.072 L2272.26 721.776 L2267.57 721.776 L2258.65 698.072 L2258.65 728.419 L2254.12 728.419 L2254.12 693.859 Z\" fill=\"#000000\" fill-rule=\"evenodd\" fill-opacity=\"1\" /><path clip-path=\"url(#clip490)\" d=\"M2295.02 693.859 L2299.69 693.859 L2299.69 728.419 L2295.02 728.419 L2295.02 693.859 Z\" fill=\"#000000\" fill-rule=\"evenodd\" fill-opacity=\"1\" /><polyline clip-path=\"url(#clip490)\" style=\"stroke:#ac0047; stroke-linecap:round; stroke-linejoin:round; stroke-width:12; stroke-opacity:1; fill:none\" points=\"2086.85,762.979 2230.22,762.979 \"/>\n",
       "<path clip-path=\"url(#clip490)\" d=\"M2254.12 745.699 L2261.08 745.699 L2269.9 769.218 L2278.77 745.699 L2285.74 745.699 L2285.74 780.259 L2281.18 780.259 L2281.18 749.912 L2272.26 773.616 L2267.57 773.616 L2258.65 749.912 L2258.65 780.259 L2254.12 780.259 L2254.12 745.699 Z\" fill=\"#000000\" fill-rule=\"evenodd\" fill-opacity=\"1\" /><path clip-path=\"url(#clip490)\" d=\"M2295.02 745.699 L2301.31 745.699 L2316.64 774.611 L2316.64 745.699 L2321.18 745.699 L2321.18 780.259 L2314.88 780.259 L2299.56 751.348 L2299.56 780.259 L2295.02 780.259 L2295.02 745.699 Z\" fill=\"#000000\" fill-rule=\"evenodd\" fill-opacity=\"1\" /><polyline clip-path=\"url(#clip490)\" style=\"stroke:#00ffc8; stroke-linecap:round; stroke-linejoin:round; stroke-width:12; stroke-opacity:1; fill:none\" points=\"2086.85,814.819 2230.22,814.819 \"/>\n",
       "<path clip-path=\"url(#clip490)\" d=\"M2254.12 797.539 L2261.08 797.539 L2269.9 821.058 L2278.77 797.539 L2285.74 797.539 L2285.74 832.099 L2281.18 832.099 L2281.18 801.752 L2272.26 825.456 L2267.57 825.456 L2258.65 801.752 L2258.65 832.099 L2254.12 832.099 L2254.12 797.539 Z\" fill=\"#000000\" fill-rule=\"evenodd\" fill-opacity=\"1\" /><path clip-path=\"url(#clip490)\" d=\"M2309.05 800.711 Q2303.95 800.711 2300.94 804.507 Q2297.96 808.303 2297.96 814.854 Q2297.96 821.382 2300.94 825.178 Q2303.95 828.974 2309.05 828.974 Q2314.14 828.974 2317.1 825.178 Q2320.09 821.382 2320.09 814.854 Q2320.09 808.303 2317.1 804.507 Q2314.14 800.711 2309.05 800.711 M2309.05 796.914 Q2316.31 796.914 2320.67 801.799 Q2325.02 806.66 2325.02 814.854 Q2325.02 823.025 2320.67 827.91 Q2316.31 832.771 2309.05 832.771 Q2301.75 832.771 2297.38 827.91 Q2293.03 823.049 2293.03 814.854 Q2293.03 806.66 2297.38 801.799 Q2301.75 796.914 2309.05 796.914 Z\" fill=\"#000000\" fill-rule=\"evenodd\" fill-opacity=\"1\" /><polyline clip-path=\"url(#clip490)\" style=\"stroke:#006468; stroke-linecap:round; stroke-linejoin:round; stroke-width:12; stroke-opacity:1; fill:none\" points=\"2086.85,866.659 2230.22,866.659 \"/>\n",
       "<path clip-path=\"url(#clip490)\" d=\"M2254.12 849.379 L2260.41 849.379 L2275.74 878.291 L2275.74 849.379 L2280.27 849.379 L2280.27 883.939 L2273.98 883.939 L2258.65 855.028 L2258.65 883.939 L2254.12 883.939 L2254.12 849.379 Z\" fill=\"#000000\" fill-rule=\"evenodd\" fill-opacity=\"1\" /><path clip-path=\"url(#clip490)\" d=\"M2315.46 852.041 L2315.46 856.972 Q2313.1 854.773 2310.41 853.685 Q2307.75 852.597 2304.74 852.597 Q2298.82 852.597 2295.67 856.231 Q2292.52 859.842 2292.52 866.694 Q2292.52 873.523 2295.67 877.157 Q2298.82 880.768 2304.74 880.768 Q2307.75 880.768 2310.41 879.68 Q2313.1 878.592 2315.46 876.393 L2315.46 881.277 Q2313 882.944 2310.25 883.777 Q2307.52 884.611 2304.46 884.611 Q2296.62 884.611 2292.1 879.819 Q2287.59 875.004 2287.59 866.694 Q2287.59 858.361 2292.1 853.569 Q2296.62 848.754 2304.46 848.754 Q2307.56 848.754 2310.3 849.588 Q2313.05 850.398 2315.46 852.041 Z\" fill=\"#000000\" fill-rule=\"evenodd\" fill-opacity=\"1\" /><polyline clip-path=\"url(#clip490)\" style=\"stroke:#ffd5c4; stroke-linecap:round; stroke-linejoin:round; stroke-width:12; stroke-opacity:1; fill:none\" points=\"2086.85,918.499 2230.22,918.499 \"/>\n",
       "<path clip-path=\"url(#clip490)\" d=\"M2254.12 901.219 L2260.41 901.219 L2275.74 930.131 L2275.74 901.219 L2280.27 901.219 L2280.27 935.779 L2273.98 935.779 L2258.65 906.868 L2258.65 935.779 L2254.12 935.779 L2254.12 901.219 Z\" fill=\"#000000\" fill-rule=\"evenodd\" fill-opacity=\"1\" /><path clip-path=\"url(#clip490)\" d=\"M2298.49 935.779 L2285.3 901.219 L2290.18 901.219 L2301.13 930.317 L2312.1 901.219 L2316.96 901.219 L2303.79 935.779 L2298.49 935.779 Z\" fill=\"#000000\" fill-rule=\"evenodd\" fill-opacity=\"1\" /><polyline clip-path=\"url(#clip490)\" style=\"stroke:#6c5200; stroke-linecap:round; stroke-linejoin:round; stroke-width:12; stroke-opacity:1; fill:none\" points=\"2086.85,970.339 2230.22,970.339 \"/>\n",
       "<path clip-path=\"url(#clip490)\" d=\"M2254.12 953.059 L2260.41 953.059 L2275.74 981.971 L2275.74 953.059 L2280.27 953.059 L2280.27 987.619 L2273.98 987.619 L2258.65 958.708 L2258.65 987.619 L2254.12 987.619 L2254.12 953.059 Z\" fill=\"#000000\" fill-rule=\"evenodd\" fill-opacity=\"1\" /><path clip-path=\"url(#clip490)\" d=\"M2284.83 953.059 L2289.86 953.059 L2299.44 967.272 L2308.95 953.059 L2313.98 953.059 L2301.75 971.161 L2301.75 987.619 L2297.06 987.619 L2297.06 971.161 L2284.83 953.059 Z\" fill=\"#000000\" fill-rule=\"evenodd\" fill-opacity=\"1\" /><polyline clip-path=\"url(#clip490)\" style=\"stroke:#7a7581; stroke-linecap:round; stroke-linejoin:round; stroke-width:12; stroke-opacity:1; fill:none\" points=\"2086.85,1022.18 2230.22,1022.18 \"/>\n",
       "<path clip-path=\"url(#clip490)\" d=\"M2270.13 1008.07 Q2265.04 1008.07 2262.03 1011.87 Q2259.05 1015.66 2259.05 1022.21 Q2259.05 1028.74 2262.03 1032.54 Q2265.04 1036.33 2270.13 1036.33 Q2275.23 1036.33 2278.19 1032.54 Q2281.18 1028.74 2281.18 1022.21 Q2281.18 1015.66 2278.19 1011.87 Q2275.23 1008.07 2270.13 1008.07 M2270.13 1004.27 Q2277.4 1004.27 2281.75 1009.16 Q2286.11 1014.02 2286.11 1022.21 Q2286.11 1030.39 2281.75 1035.27 Q2277.4 1040.13 2270.13 1040.13 Q2262.84 1040.13 2258.47 1035.27 Q2254.12 1030.41 2254.12 1022.21 Q2254.12 1014.02 2258.47 1009.16 Q2262.84 1004.27 2270.13 1004.27 Z\" fill=\"#000000\" fill-rule=\"evenodd\" fill-opacity=\"1\" /><path clip-path=\"url(#clip490)\" d=\"M2293.42 1004.9 L2298.1 1004.9 L2298.1 1019.07 L2315.09 1019.07 L2315.09 1004.9 L2319.76 1004.9 L2319.76 1039.46 L2315.09 1039.46 L2315.09 1023 L2298.1 1023 L2298.1 1039.46 L2293.42 1039.46 L2293.42 1004.9 Z\" fill=\"#000000\" fill-rule=\"evenodd\" fill-opacity=\"1\" /><polyline clip-path=\"url(#clip490)\" style=\"stroke:#44005c; stroke-linecap:round; stroke-linejoin:round; stroke-width:12; stroke-opacity:1; fill:none\" points=\"2086.85,1074.02 2230.22,1074.02 \"/>\n",
       "<path clip-path=\"url(#clip490)\" d=\"M2258.79 1060.58 L2258.79 1073.57 L2264.67 1073.57 Q2267.94 1073.57 2269.72 1071.88 Q2271.5 1070.19 2271.5 1067.06 Q2271.5 1063.96 2269.72 1062.27 Q2267.94 1060.58 2264.67 1060.58 L2258.79 1060.58 M2254.12 1056.74 L2264.67 1056.74 Q2270.48 1056.74 2273.44 1059.38 Q2276.43 1061.99 2276.43 1067.06 Q2276.43 1072.18 2273.44 1074.79 Q2270.48 1077.41 2264.67 1077.41 L2258.79 1077.41 L2258.79 1091.3 L2254.12 1091.3 L2254.12 1056.74 Z\" fill=\"#000000\" fill-rule=\"evenodd\" fill-opacity=\"1\" /><path clip-path=\"url(#clip490)\" d=\"M2291.22 1061.35 L2284.88 1078.54 L2297.59 1078.54 L2291.22 1061.35 M2288.58 1056.74 L2293.88 1056.74 L2307.06 1091.3 L2302.19 1091.3 L2299.05 1082.43 L2283.47 1082.43 L2280.32 1091.3 L2275.39 1091.3 L2288.58 1056.74 Z\" fill=\"#000000\" fill-rule=\"evenodd\" fill-opacity=\"1\" /><polyline clip-path=\"url(#clip490)\" style=\"stroke:#9e9e77; stroke-linecap:round; stroke-linejoin:round; stroke-width:12; stroke-opacity:1; fill:none\" points=\"2086.85,1125.86 2230.22,1125.86 \"/>\n",
       "<path clip-path=\"url(#clip490)\" d=\"M2254.12 1108.58 L2283.35 1108.58 L2283.35 1112.51 L2271.08 1112.51 L2271.08 1143.14 L2266.38 1143.14 L2266.38 1112.51 L2254.12 1112.51 L2254.12 1108.58 Z\" fill=\"#000000\" fill-rule=\"evenodd\" fill-opacity=\"1\" /><path clip-path=\"url(#clip490)\" d=\"M2286.2 1108.58 L2291.22 1108.58 L2299.81 1121.43 L2308.44 1108.58 L2313.47 1108.58 L2302.36 1125.18 L2314.21 1143.14 L2309.19 1143.14 L2299.46 1128.44 L2289.67 1143.14 L2284.63 1143.14 L2296.96 1124.69 L2286.2 1108.58 Z\" fill=\"#000000\" fill-rule=\"evenodd\" fill-opacity=\"1\" /><polyline clip-path=\"url(#clip490)\" style=\"stroke:#ff5c78; stroke-linecap:round; stroke-linejoin:round; stroke-width:12; stroke-opacity:1; fill:none\" points=\"2086.85,1177.7 2230.22,1177.7 \"/>\n",
       "<path clip-path=\"url(#clip490)\" d=\"M2254.12 1160.42 L2258.84 1160.42 L2266.11 1189.63 L2273.35 1160.42 L2278.61 1160.42 L2285.88 1189.63 L2293.12 1160.42 L2297.87 1160.42 L2289.19 1194.98 L2283.31 1194.98 L2276.01 1164.98 L2268.65 1194.98 L2262.77 1194.98 L2254.12 1160.42 Z\" fill=\"#000000\" fill-rule=\"evenodd\" fill-opacity=\"1\" /><path clip-path=\"url(#clip490)\" d=\"M2313.03 1165.03 L2306.69 1182.22 L2319.39 1182.22 L2313.03 1165.03 M2310.39 1160.42 L2315.69 1160.42 L2328.86 1194.98 L2324 1194.98 L2320.85 1186.11 L2305.27 1186.11 L2302.13 1194.98 L2297.19 1194.98 L2310.39 1160.42 Z\" fill=\"#000000\" fill-rule=\"evenodd\" fill-opacity=\"1\" /></svg>\n"
      ]
     },
     "execution_count": 36,
     "metadata": {},
     "output_type": "execute_result"
    }
   ],
   "source": [
    "@chain df4 begin\n",
    "    subset(:passenger_share => ByRow((>=)(2.5)))\n",
    "    plot(_.year, _.passenger_share, group = _.ost, legend = :outerright, \n",
    "    color = reshape(Plots.distinguishable_colors(length(unique(_.ost))), 1, length(unique(_.ost))),\n",
    "    lw = 3, ylab = \"% of Total Passengers\")\n",
    "end"
   ]
  },
  {
   "cell_type": "code",
   "execution_count": 38,
   "metadata": {},
   "outputs": [
    {
     "data": {
      "text/plain": [
       "19-element Vector{String}:\n",
       " \"Origin_airport\"\n",
       " \"Destination_airport\"\n",
       " \"Origin_city\"\n",
       " \"Destination_city\"\n",
       " \"Passengers\"\n",
       " \"Seats\"\n",
       " \"Flights\"\n",
       " \"Distance\"\n",
       " \"Fly_date\"\n",
       " \"Origin_population\"\n",
       " \"Destination_population\"\n",
       " \"Org_airport_lat\"\n",
       " \"Org_airport_long\"\n",
       " \"Dest_airport_lat\"\n",
       " \"Dest_airport_long\"\n",
       " \"occupied\"\n",
       " \"ost\"\n",
       " \"dst\"\n",
       " \"year\""
      ]
     },
     "execution_count": 38,
     "metadata": {},
     "output_type": "execute_result"
    }
   ],
   "source": [
    "names(df2)"
   ]
  },
  {
   "cell_type": "code",
   "execution_count": 39,
   "metadata": {},
   "outputs": [
    {
     "data": {
      "text/html": [
       "<div><div style = \"float: left;\"><span>3606803×4 DataFrame</span></div><div style = \"float: right;\"><span style = \"font-style: italic;\">3606778 rows omitted</span></div><div style = \"clear: both;\"></div></div><div class = \"data-frame\" style = \"overflow-x: scroll;\"><table class = \"data-frame\" style = \"margin-bottom: 6px;\"><thead><tr class = \"header\"><th class = \"rowNumber\" style = \"font-weight: bold; text-align: right;\">Row</th><th style = \"text-align: left;\">Origin_population</th><th style = \"text-align: left;\">Destination_population</th><th style = \"text-align: left;\">Passengers</th><th style = \"text-align: left;\">Seats</th></tr><tr class = \"subheader headerLastRow\"><th class = \"rowNumber\" style = \"font-weight: bold; text-align: right;\"></th><th title = \"Int64\" style = \"text-align: left;\">Int64</th><th title = \"Int64\" style = \"text-align: left;\">Int64</th><th title = \"Int64\" style = \"text-align: left;\">Int64</th><th title = \"Int64\" style = \"text-align: left;\">Int64</th></tr></thead><tbody><tr><td class = \"rowNumber\" style = \"font-weight: bold; text-align: right;\">1</td><td style = \"text-align: right;\">122049</td><td style = \"text-align: right;\">86219</td><td style = \"text-align: right;\">21</td><td style = \"text-align: right;\">30</td></tr><tr><td class = \"rowNumber\" style = \"font-weight: bold; text-align: right;\">2</td><td style = \"text-align: right;\">284093</td><td style = \"text-align: right;\">76034</td><td style = \"text-align: right;\">41</td><td style = \"text-align: right;\">396</td></tr><tr><td class = \"rowNumber\" style = \"font-weight: bold; text-align: right;\">3</td><td style = \"text-align: right;\">284093</td><td style = \"text-align: right;\">76034</td><td style = \"text-align: right;\">88</td><td style = \"text-align: right;\">342</td></tr><tr><td class = \"rowNumber\" style = \"font-weight: bold; text-align: right;\">4</td><td style = \"text-align: right;\">284093</td><td style = \"text-align: right;\">76034</td><td style = \"text-align: right;\">11</td><td style = \"text-align: right;\">72</td></tr><tr><td class = \"rowNumber\" style = \"font-weight: bold; text-align: right;\">5</td><td style = \"text-align: right;\">147300</td><td style = \"text-align: right;\">76034</td><td style = \"text-align: right;\">0</td><td style = \"text-align: right;\">18</td></tr><tr><td class = \"rowNumber\" style = \"font-weight: bold; text-align: right;\">6</td><td style = \"text-align: right;\">147300</td><td style = \"text-align: right;\">76034</td><td style = \"text-align: right;\">11</td><td style = \"text-align: right;\">18</td></tr><tr><td class = \"rowNumber\" style = \"font-weight: bold; text-align: right;\">7</td><td style = \"text-align: right;\">147300</td><td style = \"text-align: right;\">76034</td><td style = \"text-align: right;\">2</td><td style = \"text-align: right;\">72</td></tr><tr><td class = \"rowNumber\" style = \"font-weight: bold; text-align: right;\">8</td><td style = \"text-align: right;\">147300</td><td style = \"text-align: right;\">76034</td><td style = \"text-align: right;\">7</td><td style = \"text-align: right;\">18</td></tr><tr><td class = \"rowNumber\" style = \"font-weight: bold; text-align: right;\">9</td><td style = \"text-align: right;\">147300</td><td style = \"text-align: right;\">76034</td><td style = \"text-align: right;\">7</td><td style = \"text-align: right;\">36</td></tr><tr><td class = \"rowNumber\" style = \"font-weight: bold; text-align: right;\">10</td><td style = \"text-align: right;\">5154164</td><td style = \"text-align: right;\">76034</td><td style = \"text-align: right;\">8</td><td style = \"text-align: right;\">18</td></tr><tr><td class = \"rowNumber\" style = \"font-weight: bold; text-align: right;\">11</td><td style = \"text-align: right;\">5154164</td><td style = \"text-align: right;\">76034</td><td style = \"text-align: right;\">453</td><td style = \"text-align: right;\">3128</td></tr><tr><td class = \"rowNumber\" style = \"font-weight: bold; text-align: right;\">12</td><td style = \"text-align: right;\">5154164</td><td style = \"text-align: right;\">76034</td><td style = \"text-align: right;\">784</td><td style = \"text-align: right;\">2720</td></tr><tr><td class = \"rowNumber\" style = \"font-weight: bold; text-align: right;\">13</td><td style = \"text-align: right;\">5154164</td><td style = \"text-align: right;\">76034</td><td style = \"text-align: right;\">749</td><td style = \"text-align: right;\">2992</td></tr><tr><td style = \"text-align: right;\">&vellip;</td><td style = \"text-align: right;\">&vellip;</td><td style = \"text-align: right;\">&vellip;</td><td style = \"text-align: right;\">&vellip;</td><td style = \"text-align: right;\">&vellip;</td></tr><tr><td class = \"rowNumber\" style = \"font-weight: bold; text-align: right;\">3606792</td><td style = \"text-align: right;\">2828990</td><td style = \"text-align: right;\">46457</td><td style = \"text-align: right;\">294</td><td style = \"text-align: right;\">1254</td></tr><tr><td class = \"rowNumber\" style = \"font-weight: bold; text-align: right;\">3606793</td><td style = \"text-align: right;\">48412</td><td style = \"text-align: right;\">46457</td><td style = \"text-align: right;\">0</td><td style = \"text-align: right;\">19</td></tr><tr><td class = \"rowNumber\" style = \"font-weight: bold; text-align: right;\">3606794</td><td style = \"text-align: right;\">2828990</td><td style = \"text-align: right;\">46457</td><td style = \"text-align: right;\">348</td><td style = \"text-align: right;\">1083</td></tr><tr><td class = \"rowNumber\" style = \"font-weight: bold; text-align: right;\">3606795</td><td style = \"text-align: right;\">2828990</td><td style = \"text-align: right;\">46457</td><td style = \"text-align: right;\">286</td><td style = \"text-align: right;\">969</td></tr><tr><td class = \"rowNumber\" style = \"font-weight: bold; text-align: right;\">3606796</td><td style = \"text-align: right;\">2828990</td><td style = \"text-align: right;\">46457</td><td style = \"text-align: right;\">153</td><td style = \"text-align: right;\">608</td></tr><tr><td class = \"rowNumber\" style = \"font-weight: bold; text-align: right;\">3606797</td><td style = \"text-align: right;\">2828990</td><td style = \"text-align: right;\">46457</td><td style = \"text-align: right;\">331</td><td style = \"text-align: right;\">1330</td></tr><tr><td class = \"rowNumber\" style = \"font-weight: bold; text-align: right;\">3606798</td><td style = \"text-align: right;\">2828990</td><td style = \"text-align: right;\">46457</td><td style = \"text-align: right;\">292</td><td style = \"text-align: right;\">1311</td></tr><tr><td class = \"rowNumber\" style = \"font-weight: bold; text-align: right;\">3606799</td><td style = \"text-align: right;\">2828990</td><td style = \"text-align: right;\">46457</td><td style = \"text-align: right;\">281</td><td style = \"text-align: right;\">969</td></tr><tr><td class = \"rowNumber\" style = \"font-weight: bold; text-align: right;\">3606800</td><td style = \"text-align: right;\">2828990</td><td style = \"text-align: right;\">46457</td><td style = \"text-align: right;\">245</td><td style = \"text-align: right;\">1026</td></tr><tr><td class = \"rowNumber\" style = \"font-weight: bold; text-align: right;\">3606801</td><td style = \"text-align: right;\">2828990</td><td style = \"text-align: right;\">46457</td><td style = \"text-align: right;\">363</td><td style = \"text-align: right;\">1273</td></tr><tr><td class = \"rowNumber\" style = \"font-weight: bold; text-align: right;\">3606802</td><td style = \"text-align: right;\">93712</td><td style = \"text-align: right;\">46457</td><td style = \"text-align: right;\">2</td><td style = \"text-align: right;\">19</td></tr><tr><td class = \"rowNumber\" style = \"font-weight: bold; text-align: right;\">3606803</td><td style = \"text-align: right;\">398574</td><td style = \"text-align: right;\">28133</td><td style = \"text-align: right;\">0</td><td style = \"text-align: right;\">0</td></tr></tbody></table></div>"
      ],
      "text/latex": [
       "\\begin{tabular}{r|cccc}\n",
       "\t& Origin\\_population & Destination\\_population & Passengers & Seats\\\\\n",
       "\t\\hline\n",
       "\t& Int64 & Int64 & Int64 & Int64\\\\\n",
       "\t\\hline\n",
       "\t1 & 122049 & 86219 & 21 & 30 \\\\\n",
       "\t2 & 284093 & 76034 & 41 & 396 \\\\\n",
       "\t3 & 284093 & 76034 & 88 & 342 \\\\\n",
       "\t4 & 284093 & 76034 & 11 & 72 \\\\\n",
       "\t5 & 147300 & 76034 & 0 & 18 \\\\\n",
       "\t6 & 147300 & 76034 & 11 & 18 \\\\\n",
       "\t7 & 147300 & 76034 & 2 & 72 \\\\\n",
       "\t8 & 147300 & 76034 & 7 & 18 \\\\\n",
       "\t9 & 147300 & 76034 & 7 & 36 \\\\\n",
       "\t10 & 5154164 & 76034 & 8 & 18 \\\\\n",
       "\t11 & 5154164 & 76034 & 453 & 3128 \\\\\n",
       "\t12 & 5154164 & 76034 & 784 & 2720 \\\\\n",
       "\t13 & 5154164 & 76034 & 749 & 2992 \\\\\n",
       "\t14 & 5154164 & 76034 & 11 & 18 \\\\\n",
       "\t15 & 1534762 & 76034 & 349 & 851 \\\\\n",
       "\t16 & 1534762 & 76034 & 1376 & 2898 \\\\\n",
       "\t17 & 1534762 & 76034 & 444 & 1110 \\\\\n",
       "\t18 & 1534762 & 76034 & 1949 & 3261 \\\\\n",
       "\t19 & 1534762 & 76034 & 381 & 814 \\\\\n",
       "\t20 & 1534762 & 76034 & 1559 & 2772 \\\\\n",
       "\t21 & 1534762 & 76034 & 1852 & 3600 \\\\\n",
       "\t22 & 1534762 & 76034 & 483 & 925 \\\\\n",
       "\t23 & 1534762 & 76034 & 1965 & 3492 \\\\\n",
       "\t24 & 1534762 & 76034 & 494 & 1036 \\\\\n",
       "\t25 & 1534762 & 76034 & 459 & 962 \\\\\n",
       "\t26 & 1534762 & 76034 & 553 & 1036 \\\\\n",
       "\t27 & 1534762 & 76034 & 1887 & 3186 \\\\\n",
       "\t28 & 1534762 & 76034 & 773 & 1887 \\\\\n",
       "\t29 & 1534762 & 76034 & 1800 & 3060 \\\\\n",
       "\t30 & 1534762 & 76034 & 1173 & 1998 \\\\\n",
       "\t$\\dots$ & $\\dots$ & $\\dots$ & $\\dots$ & $\\dots$ \\\\\n",
       "\\end{tabular}\n"
      ],
      "text/plain": [
       "\u001b[1m3606803×4 DataFrame\u001b[0m\n",
       "\u001b[1m     Row \u001b[0m│\u001b[1m Origin_population \u001b[0m\u001b[1m Destination_population \u001b[0m\u001b[1m Passengers \u001b[0m\u001b[1m Seats \u001b[0m\n",
       "         │\u001b[90m Int64             \u001b[0m\u001b[90m Int64                  \u001b[0m\u001b[90m Int64      \u001b[0m\u001b[90m Int64 \u001b[0m\n",
       "─────────┼──────────────────────────────────────────────────────────────\n",
       "       1 │            122049                   86219          21     30\n",
       "       2 │            284093                   76034          41    396\n",
       "       3 │            284093                   76034          88    342\n",
       "       4 │            284093                   76034          11     72\n",
       "       5 │            147300                   76034           0     18\n",
       "       6 │            147300                   76034          11     18\n",
       "       7 │            147300                   76034           2     72\n",
       "       8 │            147300                   76034           7     18\n",
       "       9 │            147300                   76034           7     36\n",
       "      10 │           5154164                   76034           8     18\n",
       "      11 │           5154164                   76034         453   3128\n",
       "    ⋮    │         ⋮                    ⋮                 ⋮         ⋮\n",
       " 3606794 │           2828990                   46457         348   1083\n",
       " 3606795 │           2828990                   46457         286    969\n",
       " 3606796 │           2828990                   46457         153    608\n",
       " 3606797 │           2828990                   46457         331   1330\n",
       " 3606798 │           2828990                   46457         292   1311\n",
       " 3606799 │           2828990                   46457         281    969\n",
       " 3606800 │           2828990                   46457         245   1026\n",
       " 3606801 │           2828990                   46457         363   1273\n",
       " 3606802 │             93712                   46457           2     19\n",
       " 3606803 │            398574                   28133           0      0\n",
       "\u001b[36m                                                    3606782 rows omitted\u001b[0m"
      ]
     },
     "execution_count": 39,
     "metadata": {},
     "output_type": "execute_result"
    }
   ],
   "source": [
    "select(df2, :Origin_population, :Destination_population, :Passengers, :Seats)"
   ]
  },
  {
   "cell_type": "code",
   "execution_count": null,
   "metadata": {},
   "outputs": [],
   "source": []
  }
 ],
 "metadata": {
  "@webio": {
   "lastCommId": null,
   "lastKernelId": null
  },
  "kernelspec": {
   "display_name": "Julia 1.9.0-beta4",
   "language": "julia",
   "name": "julia-1.9"
  },
  "language_info": {
   "file_extension": ".jl",
   "mimetype": "application/julia",
   "name": "julia",
   "version": "1.9.0"
  }
 },
 "nbformat": 4,
 "nbformat_minor": 4
}
